{
 "cells": [
  {
   "cell_type": "code",
   "execution_count": 1,
   "metadata": {},
   "outputs": [
    {
     "name": "stdout",
     "output_type": "stream",
     "text": [
      "HI\n"
     ]
    }
   ],
   "source": [
    "print(\"HI\")"
   ]
  },
  {
   "cell_type": "code",
   "execution_count": 2,
   "metadata": {},
   "outputs": [
    {
     "name": "stderr",
     "output_type": "stream",
     "text": [
      "c:\\Users\\johnn\\anaconda3\\lib\\site-packages\\torch\\onnx\\_internal\\_beartype.py:30: UserWarning: module 'beartype.roar' has no attribute 'BeartypeDecorHintPep585DeprecationWarning'\n",
      "  warnings.warn(f\"{e}\")\n"
     ]
    }
   ],
   "source": [
    "from models.InceptionTime import InceptionTime\n",
    "# from models.ResNet import ResNetBaseline\n",
    "# from models.FullConv import FCNModel"
   ]
  },
  {
   "cell_type": "code",
   "execution_count": 3,
   "metadata": {},
   "outputs": [
    {
     "ename": "NameError",
     "evalue": "name 'InceptionTime' is not defined",
     "output_type": "error",
     "traceback": [
      "\u001b[1;31m---------------------------------------------------------------------------\u001b[0m",
      "\u001b[1;31mNameError\u001b[0m                                 Traceback (most recent call last)",
      "Cell \u001b[1;32mIn[3], line 5\u001b[0m\n\u001b[0;32m      1\u001b[0m args \u001b[39m=\u001b[39m {\n\u001b[0;32m      2\u001b[0m     \u001b[39m'\u001b[39m\u001b[39min_channel\u001b[39m\u001b[39m'\u001b[39m : \u001b[39m50\u001b[39m,\n\u001b[0;32m      3\u001b[0m     \u001b[39m'\u001b[39m\u001b[39mout_channel\u001b[39m\u001b[39m'\u001b[39m: \u001b[39m50\u001b[39m\n\u001b[0;32m      4\u001b[0m }\n\u001b[1;32m----> 5\u001b[0m model \u001b[39m=\u001b[39m InceptionTime(args)\n",
      "\u001b[1;31mNameError\u001b[0m: name 'InceptionTime' is not defined"
     ]
    }
   ],
   "source": [
    "args = {\n",
    "    'in_channel' : 50,\n",
    "    'out_channel': 50\n",
    "}\n",
    "model = InceptionTime(args)"
   ]
  },
  {
   "cell_type": "code",
   "execution_count": 4,
   "metadata": {},
   "outputs": [
    {
     "name": "stdout",
     "output_type": "stream",
     "text": [
      "InceptionTime(\n",
      "  (layers): Sequential(\n",
      "    (0): InceptionLayer(\n",
      "      (layers): Sequential(\n",
      "        (0): InceptionBlock(\n",
      "          (block1): Sequential(\n",
      "            (0): Conv1d(50, 2, kernel_size=(1,), stride=(1,))\n",
      "            (1): Conv1d(2, 50, kernel_size=(10,), stride=(1,), padding=(4,))\n",
      "          )\n",
      "          (block2): Sequential(\n",
      "            (0): Conv1d(50, 2, kernel_size=(1,), stride=(1,))\n",
      "            (1): Conv1d(2, 50, kernel_size=(20,), stride=(1,), padding=(9,))\n",
      "          )\n",
      "          (block3): Sequential(\n",
      "            (0): Conv1d(50, 2, kernel_size=(1,), stride=(1,))\n",
      "            (1): Conv1d(2, 50, kernel_size=(40,), stride=(1,), padding=(19,))\n",
      "          )\n",
      "          (block4): Sequential(\n",
      "            (0): MaxPool1d(kernel_size=3, stride=3, padding=1, dilation=1, ceil_mode=False)\n",
      "            (1): Conv1d(50, 50, kernel_size=(1,), stride=(1,))\n",
      "          )\n",
      "        )\n",
      "        (1): InceptionBlock(\n",
      "          (block1): Sequential(\n",
      "            (0): Conv1d(50, 2, kernel_size=(1,), stride=(1,))\n",
      "            (1): Conv1d(2, 50, kernel_size=(10,), stride=(1,), padding=(4,))\n",
      "          )\n",
      "          (block2): Sequential(\n",
      "            (0): Conv1d(50, 2, kernel_size=(1,), stride=(1,))\n",
      "            (1): Conv1d(2, 50, kernel_size=(20,), stride=(1,), padding=(9,))\n",
      "          )\n",
      "          (block3): Sequential(\n",
      "            (0): Conv1d(50, 2, kernel_size=(1,), stride=(1,))\n",
      "            (1): Conv1d(2, 50, kernel_size=(40,), stride=(1,), padding=(19,))\n",
      "          )\n",
      "          (block4): Sequential(\n",
      "            (0): MaxPool1d(kernel_size=3, stride=3, padding=1, dilation=1, ceil_mode=False)\n",
      "            (1): Conv1d(50, 50, kernel_size=(1,), stride=(1,))\n",
      "          )\n",
      "        )\n",
      "        (2): InceptionBlock(\n",
      "          (block1): Sequential(\n",
      "            (0): Conv1d(50, 2, kernel_size=(1,), stride=(1,))\n",
      "            (1): Conv1d(2, 50, kernel_size=(10,), stride=(1,), padding=(4,))\n",
      "          )\n",
      "          (block2): Sequential(\n",
      "            (0): Conv1d(50, 2, kernel_size=(1,), stride=(1,))\n",
      "            (1): Conv1d(2, 50, kernel_size=(20,), stride=(1,), padding=(9,))\n",
      "          )\n",
      "          (block3): Sequential(\n",
      "            (0): Conv1d(50, 2, kernel_size=(1,), stride=(1,))\n",
      "            (1): Conv1d(2, 50, kernel_size=(40,), stride=(1,), padding=(19,))\n",
      "          )\n",
      "          (block4): Sequential(\n",
      "            (0): MaxPool1d(kernel_size=3, stride=3, padding=1, dilation=1, ceil_mode=False)\n",
      "            (1): Conv1d(50, 50, kernel_size=(1,), stride=(1,))\n",
      "          )\n",
      "        )\n",
      "      )\n",
      "    )\n",
      "    (1): InceptionLayer(\n",
      "      (layers): Sequential(\n",
      "        (0): InceptionBlock(\n",
      "          (block1): Sequential(\n",
      "            (0): Conv1d(50, 2, kernel_size=(1,), stride=(1,))\n",
      "            (1): Conv1d(2, 50, kernel_size=(10,), stride=(1,), padding=(4,))\n",
      "          )\n",
      "          (block2): Sequential(\n",
      "            (0): Conv1d(50, 2, kernel_size=(1,), stride=(1,))\n",
      "            (1): Conv1d(2, 50, kernel_size=(20,), stride=(1,), padding=(9,))\n",
      "          )\n",
      "          (block3): Sequential(\n",
      "            (0): Conv1d(50, 2, kernel_size=(1,), stride=(1,))\n",
      "            (1): Conv1d(2, 50, kernel_size=(40,), stride=(1,), padding=(19,))\n",
      "          )\n",
      "          (block4): Sequential(\n",
      "            (0): MaxPool1d(kernel_size=3, stride=3, padding=1, dilation=1, ceil_mode=False)\n",
      "            (1): Conv1d(50, 50, kernel_size=(1,), stride=(1,))\n",
      "          )\n",
      "        )\n",
      "        (1): InceptionBlock(\n",
      "          (block1): Sequential(\n",
      "            (0): Conv1d(50, 2, kernel_size=(1,), stride=(1,))\n",
      "            (1): Conv1d(2, 50, kernel_size=(10,), stride=(1,), padding=(4,))\n",
      "          )\n",
      "          (block2): Sequential(\n",
      "            (0): Conv1d(50, 2, kernel_size=(1,), stride=(1,))\n",
      "            (1): Conv1d(2, 50, kernel_size=(20,), stride=(1,), padding=(9,))\n",
      "          )\n",
      "          (block3): Sequential(\n",
      "            (0): Conv1d(50, 2, kernel_size=(1,), stride=(1,))\n",
      "            (1): Conv1d(2, 50, kernel_size=(40,), stride=(1,), padding=(19,))\n",
      "          )\n",
      "          (block4): Sequential(\n",
      "            (0): MaxPool1d(kernel_size=3, stride=3, padding=1, dilation=1, ceil_mode=False)\n",
      "            (1): Conv1d(50, 50, kernel_size=(1,), stride=(1,))\n",
      "          )\n",
      "        )\n",
      "        (2): InceptionBlock(\n",
      "          (block1): Sequential(\n",
      "            (0): Conv1d(50, 2, kernel_size=(1,), stride=(1,))\n",
      "            (1): Conv1d(2, 50, kernel_size=(10,), stride=(1,), padding=(4,))\n",
      "          )\n",
      "          (block2): Sequential(\n",
      "            (0): Conv1d(50, 2, kernel_size=(1,), stride=(1,))\n",
      "            (1): Conv1d(2, 50, kernel_size=(20,), stride=(1,), padding=(9,))\n",
      "          )\n",
      "          (block3): Sequential(\n",
      "            (0): Conv1d(50, 2, kernel_size=(1,), stride=(1,))\n",
      "            (1): Conv1d(2, 50, kernel_size=(40,), stride=(1,), padding=(19,))\n",
      "          )\n",
      "          (block4): Sequential(\n",
      "            (0): MaxPool1d(kernel_size=3, stride=3, padding=1, dilation=1, ceil_mode=False)\n",
      "            (1): Conv1d(50, 50, kernel_size=(1,), stride=(1,))\n",
      "          )\n",
      "        )\n",
      "      )\n",
      "    )\n",
      "    (2): InceptionLayer(\n",
      "      (layers): Sequential(\n",
      "        (0): InceptionBlock(\n",
      "          (block1): Sequential(\n",
      "            (0): Conv1d(50, 2, kernel_size=(1,), stride=(1,))\n",
      "            (1): Conv1d(2, 50, kernel_size=(10,), stride=(1,), padding=(4,))\n",
      "          )\n",
      "          (block2): Sequential(\n",
      "            (0): Conv1d(50, 2, kernel_size=(1,), stride=(1,))\n",
      "            (1): Conv1d(2, 50, kernel_size=(20,), stride=(1,), padding=(9,))\n",
      "          )\n",
      "          (block3): Sequential(\n",
      "            (0): Conv1d(50, 2, kernel_size=(1,), stride=(1,))\n",
      "            (1): Conv1d(2, 50, kernel_size=(40,), stride=(1,), padding=(19,))\n",
      "          )\n",
      "          (block4): Sequential(\n",
      "            (0): MaxPool1d(kernel_size=3, stride=3, padding=1, dilation=1, ceil_mode=False)\n",
      "            (1): Conv1d(50, 50, kernel_size=(1,), stride=(1,))\n",
      "          )\n",
      "        )\n",
      "        (1): InceptionBlock(\n",
      "          (block1): Sequential(\n",
      "            (0): Conv1d(50, 2, kernel_size=(1,), stride=(1,))\n",
      "            (1): Conv1d(2, 50, kernel_size=(10,), stride=(1,), padding=(4,))\n",
      "          )\n",
      "          (block2): Sequential(\n",
      "            (0): Conv1d(50, 2, kernel_size=(1,), stride=(1,))\n",
      "            (1): Conv1d(2, 50, kernel_size=(20,), stride=(1,), padding=(9,))\n",
      "          )\n",
      "          (block3): Sequential(\n",
      "            (0): Conv1d(50, 2, kernel_size=(1,), stride=(1,))\n",
      "            (1): Conv1d(2, 50, kernel_size=(40,), stride=(1,), padding=(19,))\n",
      "          )\n",
      "          (block4): Sequential(\n",
      "            (0): MaxPool1d(kernel_size=3, stride=3, padding=1, dilation=1, ceil_mode=False)\n",
      "            (1): Conv1d(50, 50, kernel_size=(1,), stride=(1,))\n",
      "          )\n",
      "        )\n",
      "        (2): InceptionBlock(\n",
      "          (block1): Sequential(\n",
      "            (0): Conv1d(50, 2, kernel_size=(1,), stride=(1,))\n",
      "            (1): Conv1d(2, 50, kernel_size=(10,), stride=(1,), padding=(4,))\n",
      "          )\n",
      "          (block2): Sequential(\n",
      "            (0): Conv1d(50, 2, kernel_size=(1,), stride=(1,))\n",
      "            (1): Conv1d(2, 50, kernel_size=(20,), stride=(1,), padding=(9,))\n",
      "          )\n",
      "          (block3): Sequential(\n",
      "            (0): Conv1d(50, 2, kernel_size=(1,), stride=(1,))\n",
      "            (1): Conv1d(2, 50, kernel_size=(40,), stride=(1,), padding=(19,))\n",
      "          )\n",
      "          (block4): Sequential(\n",
      "            (0): MaxPool1d(kernel_size=3, stride=3, padding=1, dilation=1, ceil_mode=False)\n",
      "            (1): Conv1d(50, 50, kernel_size=(1,), stride=(1,))\n",
      "          )\n",
      "        )\n",
      "      )\n",
      "    )\n",
      "  )\n",
      "  (GAP): AdaptiveAvgPool1d(output_size=128)\n",
      "  (linear): Linear(in_features=128, out_features=2, bias=True)\n",
      "  (softmax): Softmax(dim=None)\n",
      ")\n"
     ]
    }
   ],
   "source": [
    "print(model.__repr__())"
   ]
  },
  {
   "cell_type": "code",
   "execution_count": 1,
   "metadata": {},
   "outputs": [
    {
     "name": "stderr",
     "output_type": "stream",
     "text": [
      "c:\\Users\\johnn\\anaconda3\\lib\\site-packages\\torch\\onnx\\_internal\\_beartype.py:30: UserWarning: module 'beartype.roar' has no attribute 'BeartypeDecorHintPep585DeprecationWarning'\n",
      "  warnings.warn(f\"{e}\")\n"
     ]
    }
   ],
   "source": [
    "from models.ResNet import ResNetBaseline"
   ]
  },
  {
   "cell_type": "code",
   "execution_count": 2,
   "metadata": {},
   "outputs": [],
   "source": [
    "args = {\n",
    "    'in_channel' : 50,\n",
    "    'out_channel': 50,\n",
    "    'num_class': 2\n",
    "}\n",
    "model = ResNetBaseline(args)"
   ]
  },
  {
   "cell_type": "code",
   "execution_count": 3,
   "metadata": {},
   "outputs": [
    {
     "name": "stdout",
     "output_type": "stream",
     "text": [
      "ResNetBaseline(\n",
      "  (block): Sequential(\n",
      "    (0): ResNetBlock(\n",
      "      (blocks): Sequential(\n",
      "        (0): Conv1d(100, 64, kernel_size=(8,), stride=(1,), padding=(3,))\n",
      "        (1): Conv1d(64, 64, kernel_size=(5,), stride=(1,), padding=(2,))\n",
      "        (2): Conv1d(64, 64, kernel_size=(3,), stride=(1,), padding=(1,))\n",
      "      )\n",
      "      (bn): BatchNorm1d(64, eps=1e-05, momentum=0.1, affine=True, track_running_stats=True)\n",
      "      (relu): ReLU()\n",
      "    )\n",
      "    (1): ResNetBlock(\n",
      "      (blocks): Sequential(\n",
      "        (0): Conv1d(64, 128, kernel_size=(8,), stride=(1,), padding=(3,))\n",
      "        (1): Conv1d(128, 128, kernel_size=(5,), stride=(1,), padding=(2,))\n",
      "        (2): Conv1d(128, 128, kernel_size=(3,), stride=(1,), padding=(1,))\n",
      "      )\n",
      "      (bn): BatchNorm1d(128, eps=1e-05, momentum=0.1, affine=True, track_running_stats=True)\n",
      "      (relu): ReLU()\n",
      "    )\n",
      "    (2): ResNetBlock(\n",
      "      (blocks): Sequential(\n",
      "        (0): Conv1d(128, 128, kernel_size=(8,), stride=(1,), padding=(3,))\n",
      "        (1): Conv1d(128, 128, kernel_size=(5,), stride=(1,), padding=(2,))\n",
      "        (2): Conv1d(128, 128, kernel_size=(3,), stride=(1,), padding=(1,))\n",
      "      )\n",
      "      (bn): BatchNorm1d(128, eps=1e-05, momentum=0.1, affine=True, track_running_stats=True)\n",
      "      (relu): ReLU()\n",
      "    )\n",
      "  )\n",
      "  (GAP): AdaptiveAvgPool1d(output_size=128)\n",
      "  (linear): Linear(in_features=128, out_features=2, bias=True)\n",
      "  (softmax): Softmax(dim=None)\n",
      ")\n"
     ]
    }
   ],
   "source": [
    "print(model.__repr__())"
   ]
  },
  {
   "cell_type": "code",
   "execution_count": 2,
   "metadata": {},
   "outputs": [
    {
     "name": "stderr",
     "output_type": "stream",
     "text": [
      "c:\\Users\\johnn\\anaconda3\\lib\\site-packages\\torch\\onnx\\_internal\\_beartype.py:30: UserWarning: module 'beartype.roar' has no attribute 'BeartypeDecorHintPep585DeprecationWarning'\n",
      "  warnings.warn(f\"{e}\")\n"
     ]
    }
   ],
   "source": [
    "from models.FullConv import FCNModel"
   ]
  },
  {
   "cell_type": "code",
   "execution_count": 3,
   "metadata": {},
   "outputs": [],
   "source": [
    "args = {\n",
    "    'in_channel' : 50,\n",
    "    'out_channel': 50,\n",
    "    'num_class': 2\n",
    "}\n",
    "model = FCNModel(args)"
   ]
  },
  {
   "cell_type": "code",
   "execution_count": 4,
   "metadata": {},
   "outputs": [
    {
     "name": "stdout",
     "output_type": "stream",
     "text": [
      "FCNModel(\n",
      "  (conv_layers): Sequential(\n",
      "    (0): Conv_Block(\n",
      "      (conv): Conv1d(50, 128, kernel_size=(8,), stride=(1,), padding=(3,))\n",
      "      (bn): BatchNorm1d(128, eps=1e-05, momentum=0.1, affine=True, track_running_stats=True)\n",
      "      (relu): ReLU()\n",
      "    )\n",
      "    (1): Conv_Block(\n",
      "      (conv): Conv1d(128, 256, kernel_size=(5,), stride=(1,), padding=(2,))\n",
      "      (bn): BatchNorm1d(256, eps=1e-05, momentum=0.1, affine=True, track_running_stats=True)\n",
      "      (relu): ReLU()\n",
      "    )\n",
      "    (2): Conv_Block(\n",
      "      (conv): Conv1d(256, 128, kernel_size=(3,), stride=(1,), padding=(1,))\n",
      "      (bn): BatchNorm1d(128, eps=1e-05, momentum=0.1, affine=True, track_running_stats=True)\n",
      "      (relu): ReLU()\n",
      "    )\n",
      "  )\n",
      "  (GAP): AdaptiveAvgPool1d(output_size=128)\n",
      "  (linear): Linear(in_features=128, out_features=2, bias=True)\n",
      "  (softmax): Softmax(dim=None)\n",
      ")\n"
     ]
    }
   ],
   "source": [
    "print(model.__repr__())"
   ]
  },
  {
   "cell_type": "code",
   "execution_count": null,
   "metadata": {},
   "outputs": [],
   "source": []
  }
 ],
 "metadata": {
  "kernelspec": {
   "display_name": "base",
   "language": "python",
   "name": "python3"
  },
  "language_info": {
   "codemirror_mode": {
    "name": "ipython",
    "version": 3
   },
   "file_extension": ".py",
   "mimetype": "text/x-python",
   "name": "python",
   "nbconvert_exporter": "python",
   "pygments_lexer": "ipython3",
   "version": "3.9.13"
  },
  "orig_nbformat": 4
 },
 "nbformat": 4,
 "nbformat_minor": 2
}
