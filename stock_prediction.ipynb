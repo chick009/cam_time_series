{
 "cells": [
  {
   "cell_type": "code",
   "execution_count": 1,
   "metadata": {},
   "outputs": [
    {
     "name": "stderr",
     "output_type": "stream",
     "text": [
      "c:\\Users\\johnn\\anaconda3\\lib\\site-packages\\torch\\onnx\\_internal\\_beartype.py:30: UserWarning: module 'beartype.roar' has no attribute 'BeartypeDecorHintPep585DeprecationWarning'\n",
      "  warnings.warn(f\"{e}\")\n"
     ]
    },
    {
     "name": "stdout",
     "output_type": "stream",
     "text": [
      "[*********************100%***********************]  1 of 1 completed\n",
      "Class 1 Window (773, 6, 6, 30)\n",
      "Class 2 Window (211, 6, 6, 30)\n"
     ]
    }
   ],
   "source": [
    "from stock_gen import prepare_stock_dataloader"
   ]
  },
  {
   "cell_type": "markdown",
   "metadata": {},
   "source": [
    "Trained the model with only selected stock on predicting the selected stock"
   ]
  },
  {
   "cell_type": "code",
   "execution_count": 46,
   "metadata": {},
   "outputs": [
    {
     "name": "stdout",
     "output_type": "stream",
     "text": [
      "[*********************100%***********************]  1 of 1 completed\n",
      "Class 1 Window (773, 6, 6, 30)\n",
      "Class 2 Window (211, 6, 6, 30)\n"
     ]
    }
   ],
   "source": [
    "\n",
    "train_loader, test_loader = prepare_stock_dataloader(['AAPL'], '2017-01-01', '2023-01-01', sequence_length=30)"
   ]
  },
  {
   "cell_type": "code",
   "execution_count": 47,
   "metadata": {},
   "outputs": [
    {
     "name": "stderr",
     "output_type": "stream",
     "text": [
      "c:\\Users\\johnn\\cam_time_series_final\\CNN_model.py:91: UserWarning:\n",
      "\n",
      "To copy construct from a tensor, it is recommended to use sourceTensor.clone().detach() or sourceTensor.clone().detach().requires_grad_(True), rather than torch.tensor(sourceTensor).\n",
      "\n",
      "c:\\Users\\johnn\\cam_time_series_final\\CNN_model.py:92: UserWarning:\n",
      "\n",
      "To copy construct from a tensor, it is recommended to use sourceTensor.clone().detach() or sourceTensor.clone().detach().requires_grad_(True), rather than torch.tensor(sourceTensor).\n",
      "\n"
     ]
    },
    {
     "name": "stdout",
     "output_type": "stream",
     "text": [
      "Epoch [1/100], Loss Train: 0.7142,Loss Test: 0.7169, Accuracy Train: 13.33%, Accuracy Test: 12.71%\n",
      "Epoch [11/100], Loss Train: 0.3964,Loss Test: 0.5169, Accuracy Train: 97.33%, Accuracy Test: 87.29%\n",
      "Epoch [21/100], Loss Train: 0.2534,Loss Test: 0.9699, Accuracy Train: 97.33%, Accuracy Test: 87.29%\n",
      "Epoch [31/100], Loss Train: 0.1704,Loss Test: 1.0829, Accuracy Train: 97.33%, Accuracy Test: 87.29%\n",
      "Epoch [41/100], Loss Train: 0.1342,Loss Test: 1.1196, Accuracy Train: 97.33%, Accuracy Test: 87.29%\n",
      "Epoch [51/100], Loss Train: 0.1138,Loss Test: 0.8958, Accuracy Train: 97.33%, Accuracy Test: 87.29%\n",
      "Epoch [61/100], Loss Train: 0.1010,Loss Test: 0.9556, Accuracy Train: 97.33%, Accuracy Test: 87.29%\n",
      "Epoch [71/100], Loss Train: 0.1021,Loss Test: 1.0172, Accuracy Train: 97.33%, Accuracy Test: 87.29%\n",
      "Epoch [81/100], Loss Train: 0.0819,Loss Test: 1.0780, Accuracy Train: 97.33%, Accuracy Test: 87.29%\n",
      "Epoch [91/100], Loss Train: 0.0732,Loss Test: 1.1987, Accuracy Train: 97.33%, Accuracy Test: 87.29%\n"
     ]
    }
   ],
   "source": [
    "for i, v in train_loader:\n",
    "    batch, dim, dim, seq_len = i.shape\n",
    "    break\n",
    "\n",
    "from CNN_model import ConvNet2D, ModelCNN\n",
    "\n",
    "modelarch = ConvNet2D(seq_len, dim, dim, 2).to('cpu')\n",
    "model = ModelCNN(modelarch, 'cpu')\n",
    "\n",
    "model.train(num_epochs=100, dataloader_cl1=train_loader,dataloader_cl1_test=test_loader)"
   ]
  },
  {
   "cell_type": "code",
   "execution_count": 48,
   "metadata": {},
   "outputs": [],
   "source": [
    "torch.save(model, 'model_single_stock.pt')"
   ]
  },
  {
   "cell_type": "code",
   "execution_count": 11,
   "metadata": {},
   "outputs": [
    {
     "name": "stdout",
     "output_type": "stream",
     "text": [
      "[*********************100%***********************]  1 of 1 completed\n",
      "Class 1 Window (773, 6, 6, 30)\n",
      "Class 2 Window (211, 6, 6, 30)\n",
      "[*********************100%***********************]  1 of 1 completed\n",
      "Class 1 Window (610, 6, 6, 30)\n",
      "Class 2 Window (237, 6, 6, 30)\n",
      "[*********************100%***********************]  1 of 1 completed\n",
      "Class 1 Window (714, 6, 6, 30)\n",
      "Class 2 Window (192, 6, 6, 30)\n",
      "[*********************100%***********************]  1 of 1 completed\n",
      "Class 1 Window (774, 6, 6, 30)\n",
      "Class 2 Window (134, 6, 6, 30)\n"
     ]
    }
   ],
   "source": [
    "\n",
    "train_loader, test_loader = prepare_stock_dataloader(['AAPL', 'AMZN', 'NVDA', 'MSFT'], '2017-01-01', '2023-01-01', sequence_length=30)"
   ]
  },
  {
   "cell_type": "code",
   "execution_count": 12,
   "metadata": {},
   "outputs": [
    {
     "name": "stderr",
     "output_type": "stream",
     "text": [
      "c:\\Users\\johnn\\cam_time_series_final\\CNN_model.py:91: UserWarning: To copy construct from a tensor, it is recommended to use sourceTensor.clone().detach() or sourceTensor.clone().detach().requires_grad_(True), rather than torch.tensor(sourceTensor).\n",
      "  img_train = Variable(torch.tensor(ts_train)).to(self.device)\n",
      "c:\\Users\\johnn\\cam_time_series_final\\CNN_model.py:92: UserWarning: To copy construct from a tensor, it is recommended to use sourceTensor.clone().detach() or sourceTensor.clone().detach().requires_grad_(True), rather than torch.tensor(sourceTensor).\n",
      "  v_label_train = Variable(torch.tensor(label_train)).to(self.device)\n"
     ]
    },
    {
     "name": "stdout",
     "output_type": "stream",
     "text": [
      "Epoch [1/100], Loss Train: 0.6770,Loss Test: 0.6611, Accuracy Train: 61.00%, Accuracy Test: 86.40%\n",
      "Epoch [11/100], Loss Train: 0.1779,Loss Test: 0.5248, Accuracy Train: 95.50%, Accuracy Test: 87.72%\n",
      "Epoch [21/100], Loss Train: 0.1409,Loss Test: 0.4871, Accuracy Train: 95.50%, Accuracy Test: 87.72%\n",
      "Epoch [31/100], Loss Train: 0.1243,Loss Test: 0.4892, Accuracy Train: 95.50%, Accuracy Test: 87.72%\n",
      "Epoch [41/100], Loss Train: 0.1069,Loss Test: 0.5332, Accuracy Train: 95.50%, Accuracy Test: 87.72%\n",
      "Epoch [51/100], Loss Train: 0.0934,Loss Test: 0.6288, Accuracy Train: 95.50%, Accuracy Test: 87.72%\n",
      "Epoch [61/100], Loss Train: 0.0783,Loss Test: 0.7659, Accuracy Train: 95.50%, Accuracy Test: 87.72%\n",
      "Epoch [71/100], Loss Train: 0.0617,Loss Test: 0.9459, Accuracy Train: 96.50%, Accuracy Test: 87.68%\n",
      "Epoch [81/100], Loss Train: 0.0470,Loss Test: 1.2921, Accuracy Train: 98.67%, Accuracy Test: 87.65%\n",
      "Epoch [91/100], Loss Train: 0.0419,Loss Test: 1.9943, Accuracy Train: 99.33%, Accuracy Test: 87.68%\n"
     ]
    }
   ],
   "source": [
    "for i, v in train_loader:\n",
    "    batch, dim, dim, seq_len = i.shape\n",
    "    break\n",
    "\n",
    "from CNN_model import ConvNet2D, ModelCNN\n",
    "\n",
    "modelarch = ConvNet2D(seq_len, dim, dim, 2).to('cpu')\n",
    "model = ModelCNN(modelarch, 'cpu')\n",
    "\n",
    "model.train(num_epochs=100, dataloader_cl1=train_loader,dataloader_cl1_test=test_loader)"
   ]
  },
  {
   "cell_type": "markdown",
   "metadata": {},
   "source": [
    "Test for a random set of data"
   ]
  },
  {
   "cell_type": "code",
   "execution_count": 49,
   "metadata": {},
   "outputs": [
    {
     "name": "stdout",
     "output_type": "stream",
     "text": [
      "[*********************100%***********************]  1 of 1 completed\n"
     ]
    }
   ],
   "source": [
    "import yfinance as yf\n",
    "import pandas as pd\n",
    "from sklearn.preprocessing import MinMaxScaler\n",
    "\n",
    "stock_data = yf.download('AAPL', start='2023-01-01', end='2023-08-21')\n",
    "\n",
    "# Step 2.2: Min-max scale the stock data\n",
    "scaler = MinMaxScaler()\n",
    "scaled_data = scaler.fit_transform(stock_data[['Open', 'High', 'Low', 'Close', 'Adj Close','Volume']])\n",
    "stock_data = pd.DataFrame(scaled_data, columns = ['Open', 'High', 'Low', 'Close', 'Adj Close','Volume'])"
   ]
  },
  {
   "cell_type": "markdown",
   "metadata": {},
   "source": [
    "Test for the DCAM Value "
   ]
  },
  {
   "cell_type": "code",
   "execution_count": 50,
   "metadata": {},
   "outputs": [],
   "source": [
    "import torch\n",
    "model = torch.load(\"model\").to('cpu')\n",
    "model = model.eval()\n",
    "\n",
    "last_conv_layer = model._modules['layer3']\n",
    "fc_layer_name = model._modules['fc1']"
   ]
  },
  {
   "cell_type": "code",
   "execution_count": 51,
   "metadata": {},
   "outputs": [
    {
     "name": "stderr",
     "output_type": "stream",
     "text": [
      "  0%|          | 0/200 [00:00<?, ?it/s]c:\\Users\\johnn\\cam_time_series_final\\DCAM.py:113: UserWarning:\n",
      "\n",
      "Implicit dimension choice for softmax has been deprecated. Change the call to include dim=X as an argument.\n",
      "\n",
      "100%|██████████| 200/200 [00:00<00:00, 438.83it/s]\n"
     ]
    }
   ],
   "source": [
    "instance = stock_data.values[0:30, :].reshape(6, 30)\n",
    "\n",
    "from DCAM import DCAM\n",
    "\n",
    "DCAM_m = DCAM(model, 'cpu',last_conv_layer=last_conv_layer,fc_layer_name=fc_layer_name)\n",
    "dcam,permutation_success = DCAM_m.run(\n",
    "        instance=instance,\n",
    "        nb_permutation=200,\n",
    "        label_instance=1)"
   ]
  },
  {
   "cell_type": "code",
   "execution_count": 10,
   "metadata": {},
   "outputs": [
    {
     "data": {
      "text/plain": [
       "<Axes: >"
      ]
     },
     "execution_count": 10,
     "metadata": {},
     "output_type": "execute_result"
    },
    {
     "data": {
      "image/png": "[encoded data removed]",
      "text/plain": [
       "<Figure size 640x480 with 2 Axes>"
      ]
     },
     "metadata": {},
     "output_type": "display_data"
    }
   ],
   "source": [
    "import seaborn as sns\n",
    "sns.heatmap(dcam)"
   ]
  },
  {
   "cell_type": "code",
   "execution_count": 52,
   "metadata": {},
   "outputs": [
    {
     "name": "stderr",
     "output_type": "stream",
     "text": [
      "100%|██████████| 200/200 [00:00<00:00, 388.95it/s]\n"
     ]
    },
    {
     "data": {
      "application/vnd.plotly.v1+json": {
       "config": {
        "plotlyServerURL": "https://plot.ly"
       },
       "data": [
        {
         "name": "DCAM-1",
         "type": "scatter",
         "x": [
          0,
          1,
          2,
          3,
          4,
          5,
          6,
          7,
          8,
          9,
          10,
          11,
          12,
          13,
          14,
          15,
          16,
          17,
          18,
          19,
          20,
          21,
          22,
          23,
          24,
          25,
          26,
          27,
          28,
          29
         ],
         "xaxis": "x",
         "y": [
          0.000012258210375531632,
          0.0008355214454496527,
          0.0033472174919310926,
          0.000596806791960844,
          0.0005930931063382998,
          0.000004497387327304562,
          0.0010127980642862001,
          0.0005118560493022525,
          0.00011903277042224882,
          0.00006362456237214755,
          0.0000031914080172269593,
          0.0009008193248201819,
          0.0007050072126622513,
          0.0008808217842595239,
          0.005264364207032697,
          0.000041061895723081283,
          0.0006337251191342939,
          0.0007567201073888897,
          0.0002426647661698792,
          0.00019535222724331117,
          0.00013541027452986887,
          0.001601228290202373,
          0.0017598333909730794,
          0.0010992590564007023,
          0.0005461710354719858,
          0.0002575618389951214,
          0.00926581970089775,
          0.007091030689601399,
          0.0060759777118924016,
          0.0073033548801715465
         ],
         "yaxis": "y"
        },
        {
         "name": "DCAM-2",
         "type": "scatter",
         "x": [
          0,
          1,
          2,
          3,
          4,
          5,
          6,
          7,
          8,
          9,
          10,
          11,
          12,
          13,
          14,
          15,
          16,
          17,
          18,
          19,
          20,
          21,
          22,
          23,
          24,
          25,
          26,
          27,
          28,
          29
         ],
         "xaxis": "x",
         "y": [
          0.00005140498488003165,
          0.0001863684961187758,
          0.0011510554030870297,
          0.00012222390374467244,
          0.00009074998124100557,
          0.000010001411132831203,
          0.0004516220199755763,
          0.00039332615859774046,
          0.000019864832915315025,
          0.00006757561776632872,
          0.000014483498216865072,
          0.00037066917488339554,
          0.00036181478202694994,
          0.0022673475669852503,
          0.002509764955896212,
          0.0001274262302266004,
          0.00043695642202807,
          0.00018848043323388048,
          0.00034460913850668014,
          0.0005500111399429267,
          0.0004048484715837552,
          0.0018059007088974568,
          0.0015297638858136132,
          0.0006972346617449502,
          0.00032120332276205113,
          0.0006357802896235898,
          0.004319713032884392,
          0.004800538655458224,
          0.006278864947819438,
          0.008598184750561122
         ],
         "yaxis": "y"
        },
        {
         "name": "DCAM-3",
         "type": "scatter",
         "x": [
          0,
          1,
          2,
          3,
          4,
          5,
          6,
          7,
          8,
          9,
          10,
          11,
          12,
          13,
          14,
          15,
          16,
          17,
          18,
          19,
          20,
          21,
          22,
          23,
          24,
          25,
          26,
          27,
          28,
          29
         ],
         "xaxis": "x",
         "y": [
          0.00009907971121472012,
          0.0003489418790837847,
          0.0003109440850906956,
          0.00008156947729679928,
          0.000049026826551093866,
          0.00011786506151721545,
          0.0001774078353075117,
          0.00013437177006607356,
          0.000052110959715692314,
          0.0001291670850554043,
          0.0002528991037534453,
          0.0002643363272563332,
          0.00030186290983237997,
          0.0003454469366833658,
          0.0002898856552048487,
          0.00039364886360650377,
          0.0004564603963960484,
          0.00030089788924221383,
          0.0004429081601371853,
          0.00032091281059803614,
          0.0010405937846301495,
          0.0010102297471287543,
          0.0007651448824508864,
          0.000204831639847541,
          0.00008186642974023185,
          0.003162622677788245,
          0.0043553603669465035,
          0.0041645149403471745,
          0.0027529302844180948,
          0.0019504558893413515
         ],
         "yaxis": "y"
        },
        {
         "name": "DCAM-4",
         "type": "scatter",
         "x": [
          0,
          1,
          2,
          3,
          4,
          5,
          6,
          7,
          8,
          9,
          10,
          11,
          12,
          13,
          14,
          15,
          16,
          17,
          18,
          19,
          20,
          21,
          22,
          23,
          24,
          25,
          26,
          27,
          28,
          29
         ],
         "xaxis": "x",
         "y": [
          0.00042472048761272744,
          0.001066105525359984,
          0.0003090009935690513,
          0.000182311853286449,
          0.00002250938350542658,
          0.0002901290759962045,
          0.00020524633075256219,
          0.00013970050923396327,
          0.00008939843529859415,
          0.00004716626678989382,
          0.00041918827542804574,
          0.00018966066095283264,
          0.0003977400551945763,
          0.0016066985595146756,
          0.00042110645686640547,
          0.000211619322288159,
          0.0004090931713518188,
          0.0002455572819473225,
          0.0004433111029065842,
          0.000164715899538088,
          0.0002460720392167291,
          0.0009719604608631349,
          0.0010236582050953793,
          0.0004961199157065811,
          0.00009765183455932116,
          0.002500582629201296,
          0.0031286824858574682,
          0.004275766262501566,
          0.004847411255034453,
          0.002060512639345074
         ],
         "yaxis": "y"
        },
        {
         "name": "DCAM-5",
         "type": "scatter",
         "x": [
          0,
          1,
          2,
          3,
          4,
          5,
          6,
          7,
          8,
          9,
          10,
          11,
          12,
          13,
          14,
          15,
          16,
          17,
          18,
          19,
          20,
          21,
          22,
          23,
          24,
          25,
          26,
          27,
          28,
          29
         ],
         "xaxis": "x",
         "y": [
          0.000046906773784218626,
          0.00025184295473785345,
          0.00006239273842354755,
          0.000029456183763737565,
          0.00011522117922856633,
          0.00005134308100731213,
          0.00032587109456725516,
          0.0001264289221938969,
          0.000054435589160721596,
          0.0001941922425505597,
          0.000022431766205070564,
          0.0001659507237882259,
          0.00015698552912340744,
          0.000948655162501217,
          0.00027725108581443055,
          0.00013437375638072942,
          0.00021062839512046104,
          0.00012174656814386627,
          0.0005224295121864771,
          0.0002840689686006598,
          0.0006933739592646339,
          0.0008857322536728598,
          0.00031396256361102253,
          0.0001307781228556973,
          0.00015608018304432472,
          0.0015304634457512668,
          0.0031918284191715498,
          0.0012916805141270072,
          0.003904443451134789,
          0.0014443524461370406
         ],
         "yaxis": "y"
        },
        {
         "name": "DCAM-6",
         "type": "scatter",
         "x": [
          0,
          1,
          2,
          3,
          4,
          5,
          6,
          7,
          8,
          9,
          10,
          11,
          12,
          13,
          14,
          15,
          16,
          17,
          18,
          19,
          20,
          21,
          22,
          23,
          24,
          25,
          26,
          27,
          28,
          29
         ],
         "xaxis": "x",
         "y": [
          0.0003089204322432973,
          0.0011361463704837034,
          0.0004500956328529272,
          0.0004839135481895615,
          0.00007723876762074652,
          0.0002454706564523627,
          0.00035166042097237757,
          0.0003018636169514793,
          0.00011960810352922428,
          0.000059413963014597816,
          0.0005389525666802596,
          0.0005490672864095647,
          0.0006848372696738856,
          0.001931038610029574,
          0.00027548495624024085,
          0.0007243238888666141,
          0.0013017773701335857,
          0.0009446387872577027,
          0.002134608997074613,
          0.0003583287257629338,
          0.0024747276486434744,
          0.002462227348519769,
          0.001174956619923354,
          0.00026960799231533623,
          0.00011079226751031859,
          0.008675462749705392,
          0.011539783938229693,
          0.007907618018762767,
          0.010449543266304767,
          0.002683244429824236
         ],
         "yaxis": "y"
        },
        {
         "name": "Stock Data-1",
         "type": "scatter",
         "x": [
          0,
          1,
          2,
          3,
          4,
          5,
          6,
          7,
          8,
          9,
          10,
          11,
          12,
          13,
          14,
          15,
          16,
          17,
          18,
          19,
          20,
          21,
          22,
          23,
          24,
          25,
          26,
          27,
          28,
          29
         ],
         "xaxis": "x2",
         "y": [
          0.9312259490220023,
          0.9006121222741048,
          0.8991883597801977,
          0.9065924461936512,
          0.9182684718952476,
          0.9144239003509651,
          0.9382028849604032,
          0.9588495051757229,
          0.955289773037745,
          0.9836251018040154,
          0.9695287015896579,
          0.9597038061258285,
          0.9585646657694187,
          0.9634058493325557,
          0.9968674183370743,
          0.9776447778844686,
          0.9974368798808757,
          1,
          0.9829131119226582,
          0.9335042297348224,
          0.847358668541986,
          0.7990887094417527,
          0.7643456890120754,
          0.7811475204143052,
          0.7613554184178986,
          0.7305994978700596,
          0.7398547145212802,
          0.7528121916480348,
          0.7278940666821869,
          0.7280363777509353
         ],
         "yaxis": "y2"
        },
        {
         "name": "Stock Data-2",
         "type": "scatter",
         "x": [
          0,
          1,
          2,
          3,
          4,
          5,
          6,
          7,
          8,
          9,
          10,
          11,
          12,
          13,
          14,
          15,
          16,
          17,
          18,
          19,
          20,
          21,
          22,
          23,
          24,
          25,
          26,
          27,
          28,
          29
         ],
         "xaxis": "x2",
         "y": [
          0.9210900137547828,
          0.8830543522361347,
          0.8732615272237612,
          0.9073233201228368,
          0.900085248685673,
          0.8999431855895181,
          0.9445076858625454,
          0.9446495323991024,
          1.0000000000000002,
          0.9750213663113179,
          0.9537326916094957,
          0.9528811792709588,
          0.94621071053962,
          0.9632416069891578,
          0.9853817940295169,
          0.9772922102538153,
          0.9753052759440293,
          0.9787113252981781,
          0.956712984794376,
          0.9168322355024989,
          0.8460120495925809,
          0.7856941379374194,
          0.745103722843562,
          0.7544705751270693,
          0.7519160381114574,
          0.7216860507357994,
          0.7368720759717056,
          0.7338915662272274,
          0.7205506287645502,
          0.7059324227940673
         ],
         "yaxis": "y2"
        },
        {
         "name": "Stock Data-3",
         "type": "scatter",
         "x": [
          0,
          1,
          2,
          3,
          4,
          5,
          6,
          7,
          8,
          9,
          10,
          11,
          12,
          13,
          14,
          15,
          16,
          17,
          18,
          19,
          20,
          21,
          22,
          23,
          24,
          25,
          26,
          27,
          28,
          29
         ],
         "xaxis": "x2",
         "y": [
          0.9291239875843968,
          0.8841231131706027,
          0.8779356967897749,
          0.904232913793529,
          0.9226550421488906,
          0.9205457200395257,
          0.9512023457893488,
          0.9597806133342199,
          0.9630149787619373,
          0.960905656652572,
          0.9430459426663502,
          0.957389976750249,
          0.9668119731388665,
          0.9724371897306268,
          0.9616088355490511,
          0.9839685082286092,
          0.9997186855253937,
          0.9999999999999998,
          0.951764974738561,
          0.9354521684925643,
          0.8121220574366477,
          0.7478555404038183,
          0.7510899058315352,
          0.743074052655804,
          0.7513712203061413,
          0.7366053218003696,
          0.7472929114546061,
          0.7436366816050157,
          0.7359021429038906,
          0.6934326696014066
         ],
         "yaxis": "y2"
        },
        {
         "name": "Stock Data-4",
         "type": "scatter",
         "x": [
          0,
          1,
          2,
          3,
          4,
          5,
          6,
          7,
          8,
          9,
          10,
          11,
          12,
          13,
          14,
          15,
          16,
          17,
          18,
          19,
          20,
          21,
          22,
          23,
          24,
          25,
          26,
          27,
          28,
          29
         ],
         "xaxis": "x2",
         "y": [
          0.9192215560995476,
          0.8902422468935289,
          0.8828224124117634,
          0.9064819732991487,
          0.9172616038518884,
          0.9193616900150205,
          0.965560808559875,
          0.9619207446579554,
          0.9811005062444504,
          0.9535210408617467,
          0.9368613399472556,
          0.94820107892434,
          0.9603807669191675,
          0.9727005888294684,
          0.954780964388362,
          0.9913202419916192,
          1,
          0.9882402865140438,
          0.9458211521678086,
          0.9260814957757422,
          0.7975641692104212,
          0.7536050571253985,
          0.7669047483501421,
          0.7443651906926729,
          0.7412852352150976,
          0.7387651745430937,
          0.7621448948370801,
          0.7340053210300312,
          0.7216857127385041,
          0.6857063299408179
         ],
         "yaxis": "y2"
        },
        {
         "name": "Stock Data-5",
         "type": "scatter",
         "x": [
          0,
          1,
          2,
          3,
          4,
          5,
          6,
          7,
          8,
          9,
          10,
          11,
          12,
          13,
          14,
          15,
          16,
          17,
          18,
          19,
          20,
          21,
          22,
          23,
          24,
          25,
          26,
          27,
          28,
          29
         ],
         "xaxis": "x2",
         "y": [
          0.919630015395807,
          0.8907972491009182,
          0.8834149661543389,
          0.9069547588025748,
          0.9176798940639102,
          0.9197694161894763,
          0.9657348592647899,
          0.9621132053626953,
          0.9811960034750173,
          0.9537559681629872,
          0.9371806817316006,
          0.9484629945163348,
          0.9605810735861673,
          0.9728385534496695,
          0.9550095111778156,
          0.9913641740385923,
          1,
          0.988299697659897,
          0.9460950964547079,
          0.9264553336446264,
          0.7985877741885918,
          0.7548508283812354,
          0.7680832624978664,
          0.7456578248964285,
          0.7425933485177332,
          0.7434301789310278,
          0.766723093837804,
          0.738687998038599,
          0.7264141306008791,
          0.6905683338434057
         ],
         "yaxis": "y2"
        },
        {
         "name": "Stock Data-6",
         "type": "scatter",
         "x": [
          0,
          1,
          2,
          3,
          4,
          5,
          6,
          7,
          8,
          9,
          10,
          11,
          12,
          13,
          14,
          15,
          16,
          17,
          18,
          19,
          20,
          21,
          22,
          23,
          24,
          25,
          26,
          27,
          28,
          29
         ],
         "xaxis": "x2",
         "y": [
          0.12465347590014902,
          0.23160462525763004,
          0.12351514372359118,
          0.23834185929758644,
          0.08042451083856594,
          0.08230898354829286,
          0.15510284452856044,
          0.13747537614189204,
          0.39910056298215374,
          0.22882999143199584,
          0.32920989657369343,
          0.11326039002726629,
          0.04739660420621472,
          0.13029957094885153,
          0.13020437090263476,
          0.13696764256206923,
          0.05993453166052476,
          0.03024350869941278,
          0.15403774315678476,
          0.24228818599973478,
          0.6862662135035977,
          0.5379852252782975,
          0.29589150774903966,
          0.2353174270600843,
          0.18900626611586252,
          0.16704678878852652,
          0.09941000381613863,
          0.09897875574353271,
          0.12617423561279134,
          0.28157000336048027
         ],
         "yaxis": "y2"
        }
       ],
       "layout": {
        "showlegend": true,
        "template": {
         "data": {
          "bar": [
           {
            "error_x": {
             "color": "#2a3f5f"
            },
            "error_y": {
             "color": "#2a3f5f"
            },
            "marker": {
             "line": {
              "color": "#E5ECF6",
              "width": 0.5
             },
             "pattern": {
              "fillmode": "overlay",
              "size": 10,
              "solidity": 0.2
             }
            },
            "type": "bar"
           }
          ],
          "barpolar": [
           {
            "marker": {
             "line": {
              "color": "#E5ECF6",
              "width": 0.5
             },
             "pattern": {
              "fillmode": "overlay",
              "size": 10,
              "solidity": 0.2
             }
            },
            "type": "barpolar"
           }
          ],
          "carpet": [
           {
            "aaxis": {
             "endlinecolor": "#2a3f5f",
             "gridcolor": "white",
             "linecolor": "white",
             "minorgridcolor": "white",
             "startlinecolor": "#2a3f5f"
            },
            "baxis": {
             "endlinecolor": "#2a3f5f",
             "gridcolor": "white",
             "linecolor": "white",
             "minorgridcolor": "white",
             "startlinecolor": "#2a3f5f"
            },
            "type": "carpet"
           }
          ],
          "choropleth": [
           {
            "colorbar": {
             "outlinewidth": 0,
             "ticks": ""
            },
            "type": "choropleth"
           }
          ],
          "contour": [
           {
            "colorbar": {
             "outlinewidth": 0,
             "ticks": ""
            },
            "colorscale": [
             [
              0,
              "#0d0887"
             ],
             [
              0.1111111111111111,
              "#46039f"
             ],
             [
              0.2222222222222222,
              "#7201a8"
             ],
             [
              0.3333333333333333,
              "#9c179e"
             ],
             [
              0.4444444444444444,
              "#bd3786"
             ],
             [
              0.5555555555555556,
              "#d8576b"
             ],
             [
              0.6666666666666666,
              "#ed7953"
             ],
             [
              0.7777777777777778,
              "#fb9f3a"
             ],
             [
              0.8888888888888888,
              "#fdca26"
             ],
             [
              1,
              "#f0f921"
             ]
            ],
            "type": "contour"
           }
          ],
          "contourcarpet": [
           {
            "colorbar": {
             "outlinewidth": 0,
             "ticks": ""
            },
            "type": "contourcarpet"
           }
          ],
          "heatmap": [
           {
            "colorbar": {
             "outlinewidth": 0,
             "ticks": ""
            },
            "colorscale": [
             [
              0,
              "#0d0887"
             ],
             [
              0.1111111111111111,
              "#46039f"
             ],
             [
              0.2222222222222222,
              "#7201a8"
             ],
             [
              0.3333333333333333,
              "#9c179e"
             ],
             [
              0.4444444444444444,
              "#bd3786"
             ],
             [
              0.5555555555555556,
              "#d8576b"
             ],
             [
              0.6666666666666666,
              "#ed7953"
             ],
             [
              0.7777777777777778,
              "#fb9f3a"
             ],
             [
              0.8888888888888888,
              "#fdca26"
             ],
             [
              1,
              "#f0f921"
             ]
            ],
            "type": "heatmap"
           }
          ],
          "heatmapgl": [
           {
            "colorbar": {
             "outlinewidth": 0,
             "ticks": ""
            },
            "colorscale": [
             [
              0,
              "#0d0887"
             ],
             [
              0.1111111111111111,
              "#46039f"
             ],
             [
              0.2222222222222222,
              "#7201a8"
             ],
             [
              0.3333333333333333,
              "#9c179e"
             ],
             [
              0.4444444444444444,
              "#bd3786"
             ],
             [
              0.5555555555555556,
              "#d8576b"
             ],
             [
              0.6666666666666666,
              "#ed7953"
             ],
             [
              0.7777777777777778,
              "#fb9f3a"
             ],
             [
              0.8888888888888888,
              "#fdca26"
             ],
             [
              1,
              "#f0f921"
             ]
            ],
            "type": "heatmapgl"
           }
          ],
          "histogram": [
           {
            "marker": {
             "pattern": {
              "fillmode": "overlay",
              "size": 10,
              "solidity": 0.2
             }
            },
            "type": "histogram"
           }
          ],
          "histogram2d": [
           {
            "colorbar": {
             "outlinewidth": 0,
             "ticks": ""
            },
            "colorscale": [
             [
              0,
              "#0d0887"
             ],
             [
              0.1111111111111111,
              "#46039f"
             ],
             [
              0.2222222222222222,
              "#7201a8"
             ],
             [
              0.3333333333333333,
              "#9c179e"
             ],
             [
              0.4444444444444444,
              "#bd3786"
             ],
             [
              0.5555555555555556,
              "#d8576b"
             ],
             [
              0.6666666666666666,
              "#ed7953"
             ],
             [
              0.7777777777777778,
              "#fb9f3a"
             ],
             [
              0.8888888888888888,
              "#fdca26"
             ],
             [
              1,
              "#f0f921"
             ]
            ],
            "type": "histogram2d"
           }
          ],
          "histogram2dcontour": [
           {
            "colorbar": {
             "outlinewidth": 0,
             "ticks": ""
            },
            "colorscale": [
             [
              0,
              "#0d0887"
             ],
             [
              0.1111111111111111,
              "#46039f"
             ],
             [
              0.2222222222222222,
              "#7201a8"
             ],
             [
              0.3333333333333333,
              "#9c179e"
             ],
             [
              0.4444444444444444,
              "#bd3786"
             ],
             [
              0.5555555555555556,
              "#d8576b"
             ],
             [
              0.6666666666666666,
              "#ed7953"
             ],
             [
              0.7777777777777778,
              "#fb9f3a"
             ],
             [
              0.8888888888888888,
              "#fdca26"
             ],
             [
              1,
              "#f0f921"
             ]
            ],
            "type": "histogram2dcontour"
           }
          ],
          "mesh3d": [
           {
            "colorbar": {
             "outlinewidth": 0,
             "ticks": ""
            },
            "type": "mesh3d"
           }
          ],
          "parcoords": [
           {
            "line": {
             "colorbar": {
              "outlinewidth": 0,
              "ticks": ""
             }
            },
            "type": "parcoords"
           }
          ],
          "pie": [
           {
            "automargin": true,
            "type": "pie"
           }
          ],
          "scatter": [
           {
            "fillpattern": {
             "fillmode": "overlay",
             "size": 10,
             "solidity": 0.2
            },
            "type": "scatter"
           }
          ],
          "scatter3d": [
           {
            "line": {
             "colorbar": {
              "outlinewidth": 0,
              "ticks": ""
             }
            },
            "marker": {
             "colorbar": {
              "outlinewidth": 0,
              "ticks": ""
             }
            },
            "type": "scatter3d"
           }
          ],
          "scattercarpet": [
           {
            "marker": {
             "colorbar": {
              "outlinewidth": 0,
              "ticks": ""
             }
            },
            "type": "scattercarpet"
           }
          ],
          "scattergeo": [
           {
            "marker": {
             "colorbar": {
              "outlinewidth": 0,
              "ticks": ""
             }
            },
            "type": "scattergeo"
           }
          ],
          "scattergl": [
           {
            "marker": {
             "colorbar": {
              "outlinewidth": 0,
              "ticks": ""
             }
            },
            "type": "scattergl"
           }
          ],
          "scattermapbox": [
           {
            "marker": {
             "colorbar": {
              "outlinewidth": 0,
              "ticks": ""
             }
            },
            "type": "scattermapbox"
           }
          ],
          "scatterpolar": [
           {
            "marker": {
             "colorbar": {
              "outlinewidth": 0,
              "ticks": ""
             }
            },
            "type": "scatterpolar"
           }
          ],
          "scatterpolargl": [
           {
            "marker": {
             "colorbar": {
              "outlinewidth": 0,
              "ticks": ""
             }
            },
            "type": "scatterpolargl"
           }
          ],
          "scatterternary": [
           {
            "marker": {
             "colorbar": {
              "outlinewidth": 0,
              "ticks": ""
             }
            },
            "type": "scatterternary"
           }
          ],
          "surface": [
           {
            "colorbar": {
             "outlinewidth": 0,
             "ticks": ""
            },
            "colorscale": [
             [
              0,
              "#0d0887"
             ],
             [
              0.1111111111111111,
              "#46039f"
             ],
             [
              0.2222222222222222,
              "#7201a8"
             ],
             [
              0.3333333333333333,
              "#9c179e"
             ],
             [
              0.4444444444444444,
              "#bd3786"
             ],
             [
              0.5555555555555556,
              "#d8576b"
             ],
             [
              0.6666666666666666,
              "#ed7953"
             ],
             [
              0.7777777777777778,
              "#fb9f3a"
             ],
             [
              0.8888888888888888,
              "#fdca26"
             ],
             [
              1,
              "#f0f921"
             ]
            ],
            "type": "surface"
           }
          ],
          "table": [
           {
            "cells": {
             "fill": {
              "color": "#EBF0F8"
             },
             "line": {
              "color": "white"
             }
            },
            "header": {
             "fill": {
              "color": "#C8D4E3"
             },
             "line": {
              "color": "white"
             }
            },
            "type": "table"
           }
          ]
         },
         "layout": {
          "annotationdefaults": {
           "arrowcolor": "#2a3f5f",
           "arrowhead": 0,
           "arrowwidth": 1
          },
          "autotypenumbers": "strict",
          "coloraxis": {
           "colorbar": {
            "outlinewidth": 0,
            "ticks": ""
           }
          },
          "colorscale": {
           "diverging": [
            [
             0,
             "#8e0152"
            ],
            [
             0.1,
             "#c51b7d"
            ],
            [
             0.2,
             "#de77ae"
            ],
            [
             0.3,
             "#f1b6da"
            ],
            [
             0.4,
             "#fde0ef"
            ],
            [
             0.5,
             "#f7f7f7"
            ],
            [
             0.6,
             "#e6f5d0"
            ],
            [
             0.7,
             "#b8e186"
            ],
            [
             0.8,
             "#7fbc41"
            ],
            [
             0.9,
             "#4d9221"
            ],
            [
             1,
             "#276419"
            ]
           ],
           "sequential": [
            [
             0,
             "#0d0887"
            ],
            [
             0.1111111111111111,
             "#46039f"
            ],
            [
             0.2222222222222222,
             "#7201a8"
            ],
            [
             0.3333333333333333,
             "#9c179e"
            ],
            [
             0.4444444444444444,
             "#bd3786"
            ],
            [
             0.5555555555555556,
             "#d8576b"
            ],
            [
             0.6666666666666666,
             "#ed7953"
            ],
            [
             0.7777777777777778,
             "#fb9f3a"
            ],
            [
             0.8888888888888888,
             "#fdca26"
            ],
            [
             1,
             "#f0f921"
            ]
           ],
           "sequentialminus": [
            [
             0,
             "#0d0887"
            ],
            [
             0.1111111111111111,
             "#46039f"
            ],
            [
             0.2222222222222222,
             "#7201a8"
            ],
            [
             0.3333333333333333,
             "#9c179e"
            ],
            [
             0.4444444444444444,
             "#bd3786"
            ],
            [
             0.5555555555555556,
             "#d8576b"
            ],
            [
             0.6666666666666666,
             "#ed7953"
            ],
            [
             0.7777777777777778,
             "#fb9f3a"
            ],
            [
             0.8888888888888888,
             "#fdca26"
            ],
            [
             1,
             "#f0f921"
            ]
           ]
          },
          "colorway": [
           "#636efa",
           "#EF553B",
           "#00cc96",
           "#ab63fa",
           "#FFA15A",
           "#19d3f3",
           "#FF6692",
           "#B6E880",
           "#FF97FF",
           "#FECB52"
          ],
          "font": {
           "color": "#2a3f5f"
          },
          "geo": {
           "bgcolor": "white",
           "lakecolor": "white",
           "landcolor": "#E5ECF6",
           "showlakes": true,
           "showland": true,
           "subunitcolor": "white"
          },
          "hoverlabel": {
           "align": "left"
          },
          "hovermode": "closest",
          "mapbox": {
           "style": "light"
          },
          "paper_bgcolor": "white",
          "plot_bgcolor": "#E5ECF6",
          "polar": {
           "angularaxis": {
            "gridcolor": "white",
            "linecolor": "white",
            "ticks": ""
           },
           "bgcolor": "#E5ECF6",
           "radialaxis": {
            "gridcolor": "white",
            "linecolor": "white",
            "ticks": ""
           }
          },
          "scene": {
           "xaxis": {
            "backgroundcolor": "#E5ECF6",
            "gridcolor": "white",
            "gridwidth": 2,
            "linecolor": "white",
            "showbackground": true,
            "ticks": "",
            "zerolinecolor": "white"
           },
           "yaxis": {
            "backgroundcolor": "#E5ECF6",
            "gridcolor": "white",
            "gridwidth": 2,
            "linecolor": "white",
            "showbackground": true,
            "ticks": "",
            "zerolinecolor": "white"
           },
           "zaxis": {
            "backgroundcolor": "#E5ECF6",
            "gridcolor": "white",
            "gridwidth": 2,
            "linecolor": "white",
            "showbackground": true,
            "ticks": "",
            "zerolinecolor": "white"
           }
          },
          "shapedefaults": {
           "line": {
            "color": "#2a3f5f"
           }
          },
          "ternary": {
           "aaxis": {
            "gridcolor": "white",
            "linecolor": "white",
            "ticks": ""
           },
           "baxis": {
            "gridcolor": "white",
            "linecolor": "white",
            "ticks": ""
           },
           "bgcolor": "#E5ECF6",
           "caxis": {
            "gridcolor": "white",
            "linecolor": "white",
            "ticks": ""
           }
          },
          "title": {
           "x": 0.05
          },
          "xaxis": {
           "automargin": true,
           "gridcolor": "white",
           "linecolor": "white",
           "ticks": "",
           "title": {
            "standoff": 15
           },
           "zerolinecolor": "white",
           "zerolinewidth": 2
          },
          "yaxis": {
           "automargin": true,
           "gridcolor": "white",
           "linecolor": "white",
           "ticks": "",
           "title": {
            "standoff": 15
           },
           "zerolinecolor": "white",
           "zerolinewidth": 2
          }
         }
        },
        "title": {
         "text": "Matched DCAM and Stock Data Visualization"
        },
        "xaxis": {
         "anchor": "y",
         "domain": [
          0,
          0.45
         ],
         "title": {
          "text": "Time"
         }
        },
        "xaxis2": {
         "anchor": "y2",
         "domain": [
          0.55,
          1
         ],
         "title": {
          "text": "Time"
         }
        },
        "yaxis": {
         "anchor": "x",
         "domain": [
          0,
          1
         ],
         "title": {
          "text": "DCAM Value"
         }
        },
        "yaxis2": {
         "anchor": "x2",
         "domain": [
          0,
          1
         ],
         "title": {
          "text": "Stock Data Value"
         }
        }
       }
      }
     },
     "metadata": {},
     "output_type": "display_data"
    },
    {
     "name": "stderr",
     "output_type": "stream",
     "text": [
      "100%|██████████| 200/200 [00:00<00:00, 433.23it/s]\n"
     ]
    },
    {
     "data": {
      "application/vnd.plotly.v1+json": {
       "config": {
        "plotlyServerURL": "https://plot.ly"
       },
       "data": [
        {
         "name": "DCAM-1",
         "type": "scatter",
         "x": [
          0,
          1,
          2,
          3,
          4,
          5,
          6,
          7,
          8,
          9,
          10,
          11,
          12,
          13,
          14,
          15,
          16,
          17,
          18,
          19,
          20,
          21,
          22,
          23,
          24,
          25,
          26,
          27,
          28,
          29
         ],
         "xaxis": "x",
         "y": [
          0.00039717900809397184,
          0.004204172666802877,
          0.0016083833599513902,
          0.0006545710766432011,
          0.0010378777185989462,
          0.00033613244226119273,
          0.0025994883744973173,
          0.0021471463775001487,
          0.0027424208326553502,
          0.001829700345022656,
          0.000016118728058765915,
          0.0005159352791787065,
          0.0001230962417601035,
          0.00006988336587541872,
          0.0009014857505702298,
          0.00007673519036025398,
          0.019496502806713164,
          0.0016554449901534688,
          0.000677760270265868,
          0.0009896585862775094,
          0.0001597526755573138,
          0.0003288804498639044,
          0.0003961398023274864,
          0.0006819913637907996,
          0.0017005059028118758,
          0.0005224924185034019,
          0.0012074477597049593,
          0.0012539437586489288,
          0.0010431251635111254,
          0.0008909892245714731
         ],
         "yaxis": "y"
        },
        {
         "name": "DCAM-2",
         "type": "scatter",
         "x": [
          0,
          1,
          2,
          3,
          4,
          5,
          6,
          7,
          8,
          9,
          10,
          11,
          12,
          13,
          14,
          15,
          16,
          17,
          18,
          19,
          20,
          21,
          22,
          23,
          24,
          25,
          26,
          27,
          28,
          29
         ],
         "xaxis": "x",
         "y": [
          0.0008491787580327645,
          0.0031983910343242506,
          0.0011499359899928042,
          0.00042307942179487456,
          0.0011630775004333083,
          0.0006637435793913022,
          0.002296958581588081,
          0.0022203432899670084,
          0.0025047096674066117,
          0.0009552229040444756,
          0.000040889854252305566,
          0.00011230162618223978,
          0.00014634958833817683,
          0.00010301918514296682,
          0.001385308194485809,
          0.0004273564325828601,
          0.005862233530005122,
          0.0011972413318339036,
          0.0007955078920744154,
          0.0009005646723289641,
          0.0001572441118794212,
          0.00029291138383879704,
          0.0004482364046112177,
          0.000463155079581974,
          0.001575910264208265,
          0.0009022231725648444,
          0.001779442893325935,
          0.0008416352320240768,
          0.00072944572726718,
          0.0008827132326215757
         ],
         "yaxis": "y"
        },
        {
         "name": "DCAM-3",
         "type": "scatter",
         "x": [
          0,
          1,
          2,
          3,
          4,
          5,
          6,
          7,
          8,
          9,
          10,
          11,
          12,
          13,
          14,
          15,
          16,
          17,
          18,
          19,
          20,
          21,
          22,
          23,
          24,
          25,
          26,
          27,
          28,
          29
         ],
         "xaxis": "x",
         "y": [
          0.00203678415948484,
          0.0008844187043550089,
          0.00025565596195626267,
          0.00020758813380678716,
          0.0003735343361525257,
          0.0016179478169218325,
          0.0008293233452509224,
          0.0006688435434637461,
          0.0012002028898967715,
          0.0003336608325644764,
          0.00005443616524764878,
          0.000044454108639566654,
          0.00002722321073612395,
          0.00011532765118750788,
          0.0010558093015032056,
          0.0010209978869471208,
          0.000976295237973439,
          0.00023315570002099736,
          0.0005136272828988696,
          0.0006376704702739453,
          0.0007004180203741316,
          0.0002449343769836131,
          0.00029188495607741874,
          0.00030923988923580933,
          0.0004080538729812694,
          0.0022482873451951275,
          0.0005184539172651538,
          0.0001653836139949515,
          0.0002444666974999647,
          0.0003315695128465771
         ],
         "yaxis": "y"
        },
        {
         "name": "DCAM-4",
         "type": "scatter",
         "x": [
          0,
          1,
          2,
          3,
          4,
          5,
          6,
          7,
          8,
          9,
          10,
          11,
          12,
          13,
          14,
          15,
          16,
          17,
          18,
          19,
          20,
          21,
          22,
          23,
          24,
          25,
          26,
          27,
          28,
          29
         ],
         "xaxis": "x",
         "y": [
          0.0015594983090854672,
          0.0009409786045014286,
          0.0005183821400883832,
          0.0003122774338412758,
          0.0003327424536855834,
          0.0006547674943806813,
          0.0010252535124660562,
          0.0011355857529031959,
          0.0018597451860766436,
          0.00030853904461253863,
          0.00009420017098477006,
          0.00009443807916941726,
          0.000029063273185643706,
          0.0002060474341960288,
          0.0005158888710280431,
          0.003937688393641023,
          0.0007051325483198505,
          0.0005178420406743312,
          0.0005698422478397953,
          0.00036688739916771227,
          0.0003816790014253597,
          0.00042444974808092243,
          0.00044523584637065205,
          0.0003799814488882151,
          0.0005869628118448675,
          0.0011106418840676712,
          0.0007783087247927002,
          0.00030821183667529135,
          0.0005283279696955477,
          0.00023923654538646953
         ],
         "yaxis": "y"
        },
        {
         "name": "DCAM-5",
         "type": "scatter",
         "x": [
          0,
          1,
          2,
          3,
          4,
          5,
          6,
          7,
          8,
          9,
          10,
          11,
          12,
          13,
          14,
          15,
          16,
          17,
          18,
          19,
          20,
          21,
          22,
          23,
          24,
          25,
          26,
          27,
          28,
          29
         ],
         "xaxis": "x",
         "y": [
          0.001312298270994458,
          0.0012181729591095286,
          0.00040991119115560583,
          0.0003547049716419148,
          0.0004958620204303221,
          0.0016815442657007503,
          0.001145701652528601,
          0.0013600982571793307,
          0.0018865042475195576,
          0.0001395121884400447,
          0.0000623493604517118,
          0.00007636841671066554,
          0.00003373832291245662,
          0.00039233751675112993,
          0.00039290145082975506,
          0.0013920206652155214,
          0.0010261642758360387,
          0.0005177074206222639,
          0.0010527019848090109,
          0.00022281796447851525,
          0.0006054424987523868,
          0.0001974997003021635,
          0.0003651451111580405,
          0.0006804805911629587,
          0.0006061221509993831,
          0.0015883365036129065,
          0.000844470656010497,
          0.00042619150921261763,
          0.0004054817010647953,
          0.0001418026852834806
         ],
         "yaxis": "y"
        },
        {
         "name": "DCAM-6",
         "type": "scatter",
         "x": [
          0,
          1,
          2,
          3,
          4,
          5,
          6,
          7,
          8,
          9,
          10,
          11,
          12,
          13,
          14,
          15,
          16,
          17,
          18,
          19,
          20,
          21,
          22,
          23,
          24,
          25,
          26,
          27,
          28,
          29
         ],
         "xaxis": "x",
         "y": [
          0.0035635032593983674,
          0.0021007111050998506,
          0.0010315031194228015,
          0.0007825552129592561,
          0.00020190369643150767,
          0.0032115670413381736,
          0.002921204902350059,
          0.0038455407258551053,
          0.0031859613170234654,
          0.0001131960680543684,
          0.00013265924018906642,
          0.00019065072251030226,
          0.0001209818361606698,
          0.0014584687516842787,
          0.0004511614387971057,
          0.009087241475910383,
          0.0016463517951706191,
          0.0014668847317948449,
          0.002267151869984552,
          0.0002581247410680217,
          0.0010376065314460124,
          0.0009514065217538316,
          0.0013667783817035073,
          0.0016197065350837478,
          0.00020307620429307682,
          0.0023117397688254353,
          0.0017826656412202905,
          0.0008402464723101142,
          0.0009684248732676644,
          0.0001258693119682861
         ],
         "yaxis": "y"
        },
        {
         "name": "Stock Data-1",
         "type": "scatter",
         "x": [
          0,
          1,
          2,
          3,
          4,
          5,
          6,
          7,
          8,
          9,
          10,
          11,
          12,
          13,
          14,
          15,
          16,
          17,
          18,
          19,
          20,
          21,
          22,
          23,
          24,
          25,
          26,
          27,
          28,
          29
         ],
         "xaxis": "x2",
         "y": [
          0.5558877837028189,
          0.5551757938214616,
          0.5578812250093343,
          0.5275522376677411,
          0.5578812250093343,
          0.604869732684409,
          0.6161183906421455,
          0.6276518880061861,
          0.6192509723050708,
          0.5536095029899988,
          0.6403245257266366,
          0.6616829185545061,
          0.6697992121181242,
          0.6693720616430712,
          0.681190398413416,
          0.6779152884129349,
          0.6713655029495871,
          0.6547059826161052,
          0.6507191000030743,
          0.669087222236767,
          0.7173571813370003,
          0.6830413113823761,
          0.670938352474534,
          0.641890816558099,
          0.6606863065356521,
          0.6736437836624067,
          0.7254734749006184,
          0.730741808938808,
          0.7360101429769976,
          0.7834258011271253
         ],
         "yaxis": "y2"
        },
        {
         "name": "Stock Data-2",
         "type": "scatter",
         "x": [
          0,
          1,
          2,
          3,
          4,
          5,
          6,
          7,
          8,
          9,
          10,
          11,
          12,
          13,
          14,
          15,
          16,
          17,
          18,
          19,
          20,
          21,
          22,
          23,
          24,
          25,
          26,
          27,
          28,
          29
         ],
         "xaxis": "x2",
         "y": [
          0.5489639626421703,
          0.5369005102468962,
          0.5469770283323838,
          0.5323588223619009,
          0.5789100403851168,
          0.5972184219020582,
          0.6057337618470282,
          0.6043146468026654,
          0.612404230578367,
          0.5573374560505833,
          0.6603747802055431,
          0.6539882211069161,
          0.6495883797584778,
          0.656542758122528,
          0.6644904953616726,
          0.6569685142917965,
          0.6449050618965229,
          0.6439114864618307,
          0.640930976717353,
          0.6737157176682207,
          0.6900369483157782,
          0.6661937365983446,
          0.6473177523755778,
          0.6336929052801887,
          0.6546976703492986,
          0.6812376987380964,
          0.726937404422775,
          0.7320466950135962,
          0.7429747254376211,
          0.7665342440819407
         ],
         "yaxis": "y2"
        },
        {
         "name": "Stock Data-3",
         "type": "scatter",
         "x": [
          0,
          1,
          2,
          3,
          4,
          5,
          6,
          7,
          8,
          9,
          10,
          11,
          12,
          13,
          14,
          15,
          16,
          17,
          18,
          19,
          20,
          21,
          22,
          23,
          24,
          25,
          26,
          27,
          28,
          29
         ],
         "xaxis": "x2",
         "y": [
          0.5670089576451123,
          0.558571240047508,
          0.5563211534108039,
          0.5432429271725965,
          0.5768528184556028,
          0.6146815685374112,
          0.6253691581916476,
          0.6099000807893973,
          0.604556393252315,
          0.564477556533802,
          0.6551820550977252,
          0.674166812402299,
          0.6669949026503856,
          0.6712135468691158,
          0.675010541246045,
          0.6585571850527814,
          0.6651666804355545,
          0.6698074036562296,
          0.6504007819297828,
          0.6807763077850721,
          0.7139643346462055,
          0.6930108051795336,
          0.6624947293769774,
          0.651807139722741,
          0.6682604959160046,
          0.6882295320115916,
          0.7368866362749757,
          0.7395583727534805,
          0.7419490093374519,
          0.7747151717767122
         ],
         "yaxis": "y2"
        },
        {
         "name": "Stock Data-4",
         "type": "scatter",
         "x": [
          0,
          1,
          2,
          3,
          4,
          5,
          6,
          7,
          8,
          9,
          10,
          11,
          12,
          13,
          14,
          15,
          16,
          17,
          18,
          19,
          20,
          21,
          22,
          23,
          24,
          25,
          26,
          27,
          28,
          29
         ],
         "xaxis": "x2",
         "y": [
          0.5599889046409001,
          0.5643287836450903,
          0.542489254708665,
          0.5423491207931921,
          0.6074479467123699,
          0.6252274372380033,
          0.623967513711388,
          0.6092677650445562,
          0.5940081215721529,
          0.5707685351936398,
          0.6796865529011407,
          0.6787064699679242,
          0.6544870142749679,
          0.6795464189856677,
          0.6822063999543713,
          0.6656868329553527,
          0.6586869729824589,
          0.6586869729824589,
          0.6673667309908398,
          0.7004060786076498,
          0.7019460563464377,
          0.6885062312062207,
          0.6515469790940918,
          0.6554668835894106,
          0.6715666896983308,
          0.7057258269262832,
          0.7319054484856724,
          0.7312054197646285,
          0.7709645731421602,
          0.7830043408402889
         ],
         "yaxis": "y2"
        },
        {
         "name": "Stock Data-5",
         "type": "scatter",
         "x": [
          0,
          1,
          2,
          3,
          4,
          5,
          6,
          7,
          8,
          9,
          10,
          11,
          12,
          13,
          14,
          15,
          16,
          17,
          18,
          19,
          20,
          21,
          22,
          23,
          24,
          25,
          26,
          27,
          28,
          29
         ],
         "xaxis": "x2",
         "y": [
          0.5590388964394699,
          0.5633507438894569,
          0.5416516801945739,
          0.5415124922265435,
          0.6061927578840196,
          0.6238579244136973,
          0.6226060840039827,
          0.6080009245145765,
          0.5928392259786897,
          0.5697491339060616,
          0.6779667149213333,
          0.6769928247964003,
          0.652929268250118,
          0.6778275269533034,
          0.680470395740763,
          0.6673771495921623,
          0.6604128562009519,
          0.6604128562009519,
          0.6690486821623596,
          0.7019208790890725,
          0.7034532236912394,
          0.6900811759552998,
          0.6533089491904325,
          0.6572089790285873,
          0.673227300762214,
          0.7072138527357246,
          0.733260944239257,
          0.7325645787478279,
          0.7721226931296905,
          0.7841015842314931
         ],
         "yaxis": "y2"
        },
        {
         "name": "Stock Data-6",
         "type": "scatter",
         "x": [
          0,
          1,
          2,
          3,
          4,
          5,
          6,
          7,
          8,
          9,
          10,
          11,
          12,
          13,
          14,
          15,
          16,
          17,
          18,
          19,
          20,
          21,
          22,
          23,
          24,
          25,
          26,
          27,
          28,
          29
         ],
         "xaxis": "x2",
         "y": [
          0.2187086805354962,
          0.08536596281014264,
          0.14040704936000348,
          0.11424493751378162,
          0.27212648424601976,
          0.19325609382005243,
          0.17099148813945753,
          0.1380604089045404,
          0.27402804414352916,
          0.4050249350890283,
          0.6660602071129895,
          0.19938795320714314,
          0.11284622914244286,
          0.18117545205782631,
          0.14692133628317866,
          0.11423680075769471,
          0.04726234773078081,
          0.08667353951330808,
          0.2155703337127774,
          0.27696297206407533,
          0.19783871484819665,
          0.09855808545383976,
          0.15695070183589627,
          0.11135394807610471,
          0.20016501341344245,
          0.19021131969233301,
          0.19940097201688217,
          0.5546590658515806,
          0.30466944021559156,
          0.24807097855069732
         ],
         "yaxis": "y2"
        }
       ],
       "layout": {
        "showlegend": true,
        "template": {
         "data": {
          "bar": [
           {
            "error_x": {
             "color": "#2a3f5f"
            },
            "error_y": {
             "color": "#2a3f5f"
            },
            "marker": {
             "line": {
              "color": "#E5ECF6",
              "width": 0.5
             },
             "pattern": {
              "fillmode": "overlay",
              "size": 10,
              "solidity": 0.2
             }
            },
            "type": "bar"
           }
          ],
          "barpolar": [
           {
            "marker": {
             "line": {
              "color": "#E5ECF6",
              "width": 0.5
             },
             "pattern": {
              "fillmode": "overlay",
              "size": 10,
              "solidity": 0.2
             }
            },
            "type": "barpolar"
           }
          ],
          "carpet": [
           {
            "aaxis": {
             "endlinecolor": "#2a3f5f",
             "gridcolor": "white",
             "linecolor": "white",
             "minorgridcolor": "white",
             "startlinecolor": "#2a3f5f"
            },
            "baxis": {
             "endlinecolor": "#2a3f5f",
             "gridcolor": "white",
             "linecolor": "white",
             "minorgridcolor": "white",
             "startlinecolor": "#2a3f5f"
            },
            "type": "carpet"
           }
          ],
          "choropleth": [
           {
            "colorbar": {
             "outlinewidth": 0,
             "ticks": ""
            },
            "type": "choropleth"
           }
          ],
          "contour": [
           {
            "colorbar": {
             "outlinewidth": 0,
             "ticks": ""
            },
            "colorscale": [
             [
              0,
              "#0d0887"
             ],
             [
              0.1111111111111111,
              "#46039f"
             ],
             [
              0.2222222222222222,
              "#7201a8"
             ],
             [
              0.3333333333333333,
              "#9c179e"
             ],
             [
              0.4444444444444444,
              "#bd3786"
             ],
             [
              0.5555555555555556,
              "#d8576b"
             ],
             [
              0.6666666666666666,
              "#ed7953"
             ],
             [
              0.7777777777777778,
              "#fb9f3a"
             ],
             [
              0.8888888888888888,
              "#fdca26"
             ],
             [
              1,
              "#f0f921"
             ]
            ],
            "type": "contour"
           }
          ],
          "contourcarpet": [
           {
            "colorbar": {
             "outlinewidth": 0,
             "ticks": ""
            },
            "type": "contourcarpet"
           }
          ],
          "heatmap": [
           {
            "colorbar": {
             "outlinewidth": 0,
             "ticks": ""
            },
            "colorscale": [
             [
              0,
              "#0d0887"
             ],
             [
              0.1111111111111111,
              "#46039f"
             ],
             [
              0.2222222222222222,
              "#7201a8"
             ],
             [
              0.3333333333333333,
              "#9c179e"
             ],
             [
              0.4444444444444444,
              "#bd3786"
             ],
             [
              0.5555555555555556,
              "#d8576b"
             ],
             [
              0.6666666666666666,
              "#ed7953"
             ],
             [
              0.7777777777777778,
              "#fb9f3a"
             ],
             [
              0.8888888888888888,
              "#fdca26"
             ],
             [
              1,
              "#f0f921"
             ]
            ],
            "type": "heatmap"
           }
          ],
          "heatmapgl": [
           {
            "colorbar": {
             "outlinewidth": 0,
             "ticks": ""
            },
            "colorscale": [
             [
              0,
              "#0d0887"
             ],
             [
              0.1111111111111111,
              "#46039f"
             ],
             [
              0.2222222222222222,
              "#7201a8"
             ],
             [
              0.3333333333333333,
              "#9c179e"
             ],
             [
              0.4444444444444444,
              "#bd3786"
             ],
             [
              0.5555555555555556,
              "#d8576b"
             ],
             [
              0.6666666666666666,
              "#ed7953"
             ],
             [
              0.7777777777777778,
              "#fb9f3a"
             ],
             [
              0.8888888888888888,
              "#fdca26"
             ],
             [
              1,
              "#f0f921"
             ]
            ],
            "type": "heatmapgl"
           }
          ],
          "histogram": [
           {
            "marker": {
             "pattern": {
              "fillmode": "overlay",
              "size": 10,
              "solidity": 0.2
             }
            },
            "type": "histogram"
           }
          ],
          "histogram2d": [
           {
            "colorbar": {
             "outlinewidth": 0,
             "ticks": ""
            },
            "colorscale": [
             [
              0,
              "#0d0887"
             ],
             [
              0.1111111111111111,
              "#46039f"
             ],
             [
              0.2222222222222222,
              "#7201a8"
             ],
             [
              0.3333333333333333,
              "#9c179e"
             ],
             [
              0.4444444444444444,
              "#bd3786"
             ],
             [
              0.5555555555555556,
              "#d8576b"
             ],
             [
              0.6666666666666666,
              "#ed7953"
             ],
             [
              0.7777777777777778,
              "#fb9f3a"
             ],
             [
              0.8888888888888888,
              "#fdca26"
             ],
             [
              1,
              "#f0f921"
             ]
            ],
            "type": "histogram2d"
           }
          ],
          "histogram2dcontour": [
           {
            "colorbar": {
             "outlinewidth": 0,
             "ticks": ""
            },
            "colorscale": [
             [
              0,
              "#0d0887"
             ],
             [
              0.1111111111111111,
              "#46039f"
             ],
             [
              0.2222222222222222,
              "#7201a8"
             ],
             [
              0.3333333333333333,
              "#9c179e"
             ],
             [
              0.4444444444444444,
              "#bd3786"
             ],
             [
              0.5555555555555556,
              "#d8576b"
             ],
             [
              0.6666666666666666,
              "#ed7953"
             ],
             [
              0.7777777777777778,
              "#fb9f3a"
             ],
             [
              0.8888888888888888,
              "#fdca26"
             ],
             [
              1,
              "#f0f921"
             ]
            ],
            "type": "histogram2dcontour"
           }
          ],
          "mesh3d": [
           {
            "colorbar": {
             "outlinewidth": 0,
             "ticks": ""
            },
            "type": "mesh3d"
           }
          ],
          "parcoords": [
           {
            "line": {
             "colorbar": {
              "outlinewidth": 0,
              "ticks": ""
             }
            },
            "type": "parcoords"
           }
          ],
          "pie": [
           {
            "automargin": true,
            "type": "pie"
           }
          ],
          "scatter": [
           {
            "fillpattern": {
             "fillmode": "overlay",
             "size": 10,
             "solidity": 0.2
            },
            "type": "scatter"
           }
          ],
          "scatter3d": [
           {
            "line": {
             "colorbar": {
              "outlinewidth": 0,
              "ticks": ""
             }
            },
            "marker": {
             "colorbar": {
              "outlinewidth": 0,
              "ticks": ""
             }
            },
            "type": "scatter3d"
           }
          ],
          "scattercarpet": [
           {
            "marker": {
             "colorbar": {
              "outlinewidth": 0,
              "ticks": ""
             }
            },
            "type": "scattercarpet"
           }
          ],
          "scattergeo": [
           {
            "marker": {
             "colorbar": {
              "outlinewidth": 0,
              "ticks": ""
             }
            },
            "type": "scattergeo"
           }
          ],
          "scattergl": [
           {
            "marker": {
             "colorbar": {
              "outlinewidth": 0,
              "ticks": ""
             }
            },
            "type": "scattergl"
           }
          ],
          "scattermapbox": [
           {
            "marker": {
             "colorbar": {
              "outlinewidth": 0,
              "ticks": ""
             }
            },
            "type": "scattermapbox"
           }
          ],
          "scatterpolar": [
           {
            "marker": {
             "colorbar": {
              "outlinewidth": 0,
              "ticks": ""
             }
            },
            "type": "scatterpolar"
           }
          ],
          "scatterpolargl": [
           {
            "marker": {
             "colorbar": {
              "outlinewidth": 0,
              "ticks": ""
             }
            },
            "type": "scatterpolargl"
           }
          ],
          "scatterternary": [
           {
            "marker": {
             "colorbar": {
              "outlinewidth": 0,
              "ticks": ""
             }
            },
            "type": "scatterternary"
           }
          ],
          "surface": [
           {
            "colorbar": {
             "outlinewidth": 0,
             "ticks": ""
            },
            "colorscale": [
             [
              0,
              "#0d0887"
             ],
             [
              0.1111111111111111,
              "#46039f"
             ],
             [
              0.2222222222222222,
              "#7201a8"
             ],
             [
              0.3333333333333333,
              "#9c179e"
             ],
             [
              0.4444444444444444,
              "#bd3786"
             ],
             [
              0.5555555555555556,
              "#d8576b"
             ],
             [
              0.6666666666666666,
              "#ed7953"
             ],
             [
              0.7777777777777778,
              "#fb9f3a"
             ],
             [
              0.8888888888888888,
              "#fdca26"
             ],
             [
              1,
              "#f0f921"
             ]
            ],
            "type": "surface"
           }
          ],
          "table": [
           {
            "cells": {
             "fill": {
              "color": "#EBF0F8"
             },
             "line": {
              "color": "white"
             }
            },
            "header": {
             "fill": {
              "color": "#C8D4E3"
             },
             "line": {
              "color": "white"
             }
            },
            "type": "table"
           }
          ]
         },
         "layout": {
          "annotationdefaults": {
           "arrowcolor": "#2a3f5f",
           "arrowhead": 0,
           "arrowwidth": 1
          },
          "autotypenumbers": "strict",
          "coloraxis": {
           "colorbar": {
            "outlinewidth": 0,
            "ticks": ""
           }
          },
          "colorscale": {
           "diverging": [
            [
             0,
             "#8e0152"
            ],
            [
             0.1,
             "#c51b7d"
            ],
            [
             0.2,
             "#de77ae"
            ],
            [
             0.3,
             "#f1b6da"
            ],
            [
             0.4,
             "#fde0ef"
            ],
            [
             0.5,
             "#f7f7f7"
            ],
            [
             0.6,
             "#e6f5d0"
            ],
            [
             0.7,
             "#b8e186"
            ],
            [
             0.8,
             "#7fbc41"
            ],
            [
             0.9,
             "#4d9221"
            ],
            [
             1,
             "#276419"
            ]
           ],
           "sequential": [
            [
             0,
             "#0d0887"
            ],
            [
             0.1111111111111111,
             "#46039f"
            ],
            [
             0.2222222222222222,
             "#7201a8"
            ],
            [
             0.3333333333333333,
             "#9c179e"
            ],
            [
             0.4444444444444444,
             "#bd3786"
            ],
            [
             0.5555555555555556,
             "#d8576b"
            ],
            [
             0.6666666666666666,
             "#ed7953"
            ],
            [
             0.7777777777777778,
             "#fb9f3a"
            ],
            [
             0.8888888888888888,
             "#fdca26"
            ],
            [
             1,
             "#f0f921"
            ]
           ],
           "sequentialminus": [
            [
             0,
             "#0d0887"
            ],
            [
             0.1111111111111111,
             "#46039f"
            ],
            [
             0.2222222222222222,
             "#7201a8"
            ],
            [
             0.3333333333333333,
             "#9c179e"
            ],
            [
             0.4444444444444444,
             "#bd3786"
            ],
            [
             0.5555555555555556,
             "#d8576b"
            ],
            [
             0.6666666666666666,
             "#ed7953"
            ],
            [
             0.7777777777777778,
             "#fb9f3a"
            ],
            [
             0.8888888888888888,
             "#fdca26"
            ],
            [
             1,
             "#f0f921"
            ]
           ]
          },
          "colorway": [
           "#636efa",
           "#EF553B",
           "#00cc96",
           "#ab63fa",
           "#FFA15A",
           "#19d3f3",
           "#FF6692",
           "#B6E880",
           "#FF97FF",
           "#FECB52"
          ],
          "font": {
           "color": "#2a3f5f"
          },
          "geo": {
           "bgcolor": "white",
           "lakecolor": "white",
           "landcolor": "#E5ECF6",
           "showlakes": true,
           "showland": true,
           "subunitcolor": "white"
          },
          "hoverlabel": {
           "align": "left"
          },
          "hovermode": "closest",
          "mapbox": {
           "style": "light"
          },
          "paper_bgcolor": "white",
          "plot_bgcolor": "#E5ECF6",
          "polar": {
           "angularaxis": {
            "gridcolor": "white",
            "linecolor": "white",
            "ticks": ""
           },
           "bgcolor": "#E5ECF6",
           "radialaxis": {
            "gridcolor": "white",
            "linecolor": "white",
            "ticks": ""
           }
          },
          "scene": {
           "xaxis": {
            "backgroundcolor": "#E5ECF6",
            "gridcolor": "white",
            "gridwidth": 2,
            "linecolor": "white",
            "showbackground": true,
            "ticks": "",
            "zerolinecolor": "white"
           },
           "yaxis": {
            "backgroundcolor": "#E5ECF6",
            "gridcolor": "white",
            "gridwidth": 2,
            "linecolor": "white",
            "showbackground": true,
            "ticks": "",
            "zerolinecolor": "white"
           },
           "zaxis": {
            "backgroundcolor": "#E5ECF6",
            "gridcolor": "white",
            "gridwidth": 2,
            "linecolor": "white",
            "showbackground": true,
            "ticks": "",
            "zerolinecolor": "white"
           }
          },
          "shapedefaults": {
           "line": {
            "color": "#2a3f5f"
           }
          },
          "ternary": {
           "aaxis": {
            "gridcolor": "white",
            "linecolor": "white",
            "ticks": ""
           },
           "baxis": {
            "gridcolor": "white",
            "linecolor": "white",
            "ticks": ""
           },
           "bgcolor": "#E5ECF6",
           "caxis": {
            "gridcolor": "white",
            "linecolor": "white",
            "ticks": ""
           }
          },
          "title": {
           "x": 0.05
          },
          "xaxis": {
           "automargin": true,
           "gridcolor": "white",
           "linecolor": "white",
           "ticks": "",
           "title": {
            "standoff": 15
           },
           "zerolinecolor": "white",
           "zerolinewidth": 2
          },
          "yaxis": {
           "automargin": true,
           "gridcolor": "white",
           "linecolor": "white",
           "ticks": "",
           "title": {
            "standoff": 15
           },
           "zerolinecolor": "white",
           "zerolinewidth": 2
          }
         }
        },
        "title": {
         "text": "Matched DCAM and Stock Data Visualization"
        },
        "xaxis": {
         "anchor": "y",
         "domain": [
          0,
          0.45
         ],
         "title": {
          "text": "Time"
         }
        },
        "xaxis2": {
         "anchor": "y2",
         "domain": [
          0.55,
          1
         ],
         "title": {
          "text": "Time"
         }
        },
        "yaxis": {
         "anchor": "x",
         "domain": [
          0,
          1
         ],
         "title": {
          "text": "DCAM Value"
         }
        },
        "yaxis2": {
         "anchor": "x2",
         "domain": [
          0,
          1
         ],
         "title": {
          "text": "Stock Data Value"
         }
        }
       }
      }
     },
     "metadata": {},
     "output_type": "display_data"
    },
    {
     "name": "stderr",
     "output_type": "stream",
     "text": [
      "100%|██████████| 200/200 [00:00<00:00, 386.54it/s]\n"
     ]
    },
    {
     "data": {
      "application/vnd.plotly.v1+json": {
       "config": {
        "plotlyServerURL": "https://plot.ly"
       },
       "data": [
        {
         "name": "DCAM-1",
         "type": "scatter",
         "x": [
          0,
          1,
          2,
          3,
          4,
          5,
          6,
          7,
          8,
          9,
          10,
          11,
          12,
          13,
          14,
          15,
          16,
          17,
          18,
          19,
          20,
          21,
          22,
          23,
          24,
          25,
          26,
          27,
          28,
          29
         ],
         "xaxis": "x",
         "y": [
          0.0003466801830245196,
          0.003335778067210985,
          0.004141095390885222,
          0.0047207505058809215,
          0.0028670685327512125,
          0.00005062505492272921,
          0.00033631700330291473,
          0.00033342399897440077,
          0.0001861822425068787,
          0.007429037168617723,
          0.000025451596559904124,
          0.00019405509239308203,
          0.00003488833628033692,
          0.0008442353649516753,
          0.0006880993163261083,
          0.00003940294684451809,
          0.0004436158924177333,
          0.0006489330495922345,
          0.006786973582653211,
          0.0014082867963370388,
          0.00014679879593667967,
          0.0012377314842962864,
          0.0005875582038859113,
          0.00001218509539822535,
          0.0003125536311393564,
          0.00014659123494906946,
          0.0010892316220513568,
          0.0012189756945024338,
          0.0015817200340451476,
          0.001399020466845234
         ],
         "yaxis": "y"
        },
        {
         "name": "DCAM-2",
         "type": "scatter",
         "x": [
          0,
          1,
          2,
          3,
          4,
          5,
          6,
          7,
          8,
          9,
          10,
          11,
          12,
          13,
          14,
          15,
          16,
          17,
          18,
          19,
          20,
          21,
          22,
          23,
          24,
          25,
          26,
          27,
          28,
          29
         ],
         "xaxis": "x",
         "y": [
          0.0008612290438500852,
          0.0034975505226031334,
          0.004930446380606555,
          0.004123625485454997,
          0.003362469411618747,
          0.00014347027381076476,
          0.0005629358041299564,
          0.00039452838377554205,
          0.001034299615988149,
          0.0011916635959324825,
          0.00007850922291348668,
          0.00010270318483109949,
          0.00016257549513221703,
          0.0005050204890904009,
          0.0003351836535494024,
          0.00011138551029199858,
          0.00041991611780162094,
          0.0018413725625784153,
          0.002747237989658512,
          0.00065588217466149,
          0.0004045096514122029,
          0.0014723865389497475,
          0.00018212452946749527,
          0.000019974943496714352,
          0.00016432568536228,
          0.00036499653576874873,
          0.0011107465856141593,
          0.002165168439718009,
          0.0024875835821481836,
          0.0036179921239118673
         ],
         "yaxis": "y"
        },
        {
         "name": "DCAM-3",
         "type": "scatter",
         "x": [
          0,
          1,
          2,
          3,
          4,
          5,
          6,
          7,
          8,
          9,
          10,
          11,
          12,
          13,
          14,
          15,
          16,
          17,
          18,
          19,
          20,
          21,
          22,
          23,
          24,
          25,
          26,
          27,
          28,
          29
         ],
         "xaxis": "x",
         "y": [
          0.0024788877882119006,
          0.0015144200845786625,
          0.0019302434027433767,
          0.0011182985322403189,
          0.00044844199026895413,
          0.00048084940966370724,
          0.0002560572418604597,
          0.00015154600860875007,
          0.0007144419691680897,
          0.00021935449478213754,
          0.0001544123129828861,
          0.00007861486159574743,
          0.00007475899400948053,
          0.00007571068402779543,
          0.00004446041461525962,
          0.0003507692964454307,
          0.00024129856149996312,
          0.0007840391167075397,
          0.0008426690477808918,
          0.00028091509607318594,
          0.0010637567578878498,
          0.0005617728379164481,
          0.00005282715266266067,
          0.00003519122212408131,
          0.00003807634583134204,
          0.0009970411342093838,
          0.0005123697891682831,
          0.0009562020799796108,
          0.0006712242834730945,
          0.0007866316244340048
         ],
         "yaxis": "y"
        },
        {
         "name": "DCAM-4",
         "type": "scatter",
         "x": [
          0,
          1,
          2,
          3,
          4,
          5,
          6,
          7,
          8,
          9,
          10,
          11,
          12,
          13,
          14,
          15,
          16,
          17,
          18,
          19,
          20,
          21,
          22,
          23,
          24,
          25,
          26,
          27,
          28,
          29
         ],
         "xaxis": "x",
         "y": [
          0.0008844540455717605,
          0.0021157496182897108,
          0.0038526172712242067,
          0.002189796424877641,
          0.0006976778250397468,
          0.0002401173563444865,
          0.00031882909594152585,
          0.00018061387802093397,
          0.0026845183840483594,
          0.00024008799822353212,
          0.0001983999863880455,
          0.00017186109690427905,
          0.00025185708204699997,
          0.00017994294565443846,
          0.00005827782063089393,
          0.0001613305839966406,
          0.00041671021795617,
          0.0020514982011232688,
          0.000769279696120803,
          0.0001458878491275849,
          0.0005284513865147966,
          0.0006673835964866366,
          0.00015798077070859468,
          0.00014311871286849215,
          0.00006263108585528212,
          0.0005409064118867202,
          0.0007107552613113286,
          0.0013847356858160064,
          0.0008975419256377509,
          0.0007498038092154978
         ],
         "yaxis": "y"
        },
        {
         "name": "DCAM-5",
         "type": "scatter",
         "x": [
          0,
          1,
          2,
          3,
          4,
          5,
          6,
          7,
          8,
          9,
          10,
          11,
          12,
          13,
          14,
          15,
          16,
          17,
          18,
          19,
          20,
          21,
          22,
          23,
          24,
          25,
          26,
          27,
          28,
          29
         ],
         "xaxis": "x",
         "y": [
          0.0009063157749251185,
          0.0014468988103703115,
          0.0025248861649510477,
          0.0016219536006262544,
          0.00041868598761460925,
          0.0001772185133682499,
          0.00014723902408317918,
          0.00017891184409862498,
          0.0003872282289319636,
          0.00047618393897971514,
          0.00019360594271181908,
          0.00006165031083513764,
          0.00016790966758512197,
          0.0002874752268708753,
          0.0001064112306862366,
          0.0001822555455761161,
          0.0002825959496314286,
          0.001348343274171707,
          0.0008951062207037271,
          0.00019890403212716117,
          0.0005506741168413243,
          0.0003512051809270939,
          0.000042372059020498416,
          0.00002788819917513865,
          0.00004790796400452541,
          0.00037386368741621824,
          0.00039170769817302935,
          0.0013036476715296238,
          0.0008383864776121013,
          0.0020095331258958324
         ],
         "yaxis": "y"
        },
        {
         "name": "DCAM-6",
         "type": "scatter",
         "x": [
          0,
          1,
          2,
          3,
          4,
          5,
          6,
          7,
          8,
          9,
          10,
          11,
          12,
          13,
          14,
          15,
          16,
          17,
          18,
          19,
          20,
          21,
          22,
          23,
          24,
          25,
          26,
          27,
          28,
          29
         ],
         "xaxis": "x",
         "y": [
          0.004380548013021748,
          0.006009244788312039,
          0.004456739306653815,
          0.0029011309239113346,
          0.00044757805154096926,
          0.00081596413127229,
          0.0006393362146474397,
          0.0006651738934263452,
          0.0038591927133485556,
          0.0001910861640052841,
          0.0003246049670452744,
          0.00011172905221832958,
          0.00022046525711415748,
          0.00033516496754112306,
          0.00003624166064638172,
          0.0007261982617181873,
          0.0012939854101341245,
          0.0031535755692599626,
          0.0019531559771626588,
          0.00021334833978605493,
          0.002112515343493326,
          0.0008725386858157939,
          0.000022959772568239767,
          0.00010848139308932058,
          0.0000552741182095338,
          0.001597427268951706,
          0.001849952281212424,
          0.003151342601215114,
          0.002933573699270847,
          0.0006566778616876378
         ],
         "yaxis": "y"
        },
        {
         "name": "Stock Data-1",
         "type": "scatter",
         "x": [
          0,
          1,
          2,
          3,
          4,
          5,
          6,
          7,
          8,
          9,
          10,
          11,
          12,
          13,
          14,
          15,
          16,
          17,
          18,
          19,
          20,
          21,
          22,
          23,
          24,
          25,
          26,
          27,
          28,
          29
         ],
         "xaxis": "x2",
         "y": [
          0.8086287654992774,
          0.8167448417940886,
          0.8251459747640109,
          0.8645876504192689,
          0.8315534491586103,
          0.8385303850970112,
          0.8220133931010851,
          0.8477858190170391,
          0.8660116301819833,
          0.8526270025801757,
          0.8816743212278033,
          0.8980492194237879,
          0.934358530684928,
          0.9649721401640181,
          0.9335042297348224,
          0.9088707269064713,
          0.9312259490220023,
          0.9006121222741048,
          0.8991883597801977,
          0.9065924461936512,
          0.9182684718952476,
          0.9144239003509651,
          0.9382028849604032,
          0.9588495051757229,
          0.955289773037745,
          0.9836251018040154,
          0.9695287015896579,
          0.9597038061258285,
          0.9585646657694187,
          0.9634058493325557
         ],
         "yaxis": "y2"
        },
        {
         "name": "Stock Data-2",
         "type": "scatter",
         "x": [
          0,
          1,
          2,
          3,
          4,
          5,
          6,
          7,
          8,
          9,
          10,
          11,
          12,
          13,
          14,
          15,
          16,
          17,
          18,
          19,
          20,
          21,
          22,
          23,
          24,
          25,
          26,
          27,
          28,
          29
         ],
         "xaxis": "x2",
         "y": [
          0.8001702808117479,
          0.8035765467254945,
          0.8338065341011525,
          0.8404770028324913,
          0.8278457311717944,
          0.8180529061594208,
          0.8413285151710286,
          0.8485665866081928,
          0.8555209649722431,
          0.8603463459303524,
          0.8817768671687312,
          0.8841897742073839,
          0.9467783132454455,
          0.9382629733004755,
          0.9254896385436238,
          0.9118650080078325,
          0.9210900137547828,
          0.8830543522361347,
          0.8732615272237612,
          0.9073233201228368,
          0.900085248685673,
          0.8999431855895181,
          0.9445076858625454,
          0.9446495323991024,
          1.0000000000000002,
          0.9750213663113179,
          0.9537326916094957,
          0.9528811792709588,
          0.94621071053962,
          0.9632416069891578
         ],
         "yaxis": "y2"
        },
        {
         "name": "Stock Data-3",
         "type": "scatter",
         "x": [
          0,
          1,
          2,
          3,
          4,
          5,
          6,
          7,
          8,
          9,
          10,
          11,
          12,
          13,
          14,
          15,
          16,
          17,
          18,
          19,
          20,
          21,
          22,
          23,
          24,
          25,
          26,
          27,
          28,
          29
         ],
         "xaxis": "x2",
         "y": [
          0.8194347317159003,
          0.8135284152296058,
          0.8382787244931349,
          0.8451695343505141,
          0.8471383065126126,
          0.8215440538252652,
          0.8367318167529099,
          0.8555758095301444,
          0.858669625010595,
          0.8648572559714951,
          0.8919984163990675,
          0.9108424091763021,
          0.9434678070882232,
          0.9504991668928697,
          0.9344676751214791,
          0.914498639025892,
          0.9291239875843968,
          0.8841231131706027,
          0.8779356967897749,
          0.904232913793529,
          0.9226550421488906,
          0.9205457200395257,
          0.9512023457893488,
          0.9597806133342199,
          0.9630149787619373,
          0.960905656652572,
          0.9430459426663502,
          0.957389976750249,
          0.9668119731388665,
          0.9724371897306268
         ],
         "yaxis": "y2"
        },
        {
         "name": "Stock Data-4",
         "type": "scatter",
         "x": [
          0,
          1,
          2,
          3,
          4,
          5,
          6,
          7,
          8,
          9,
          10,
          11,
          12,
          13,
          14,
          15,
          16,
          17,
          18,
          19,
          20,
          21,
          22,
          23,
          24,
          25,
          26,
          27,
          28,
          29
         ],
         "xaxis": "x2",
         "y": [
          0.816043688457099,
          0.8250035006776524,
          0.8538428895869714,
          0.8385832461145681,
          0.8398431696411834,
          0.8251436345931253,
          0.8677026892360598,
          0.8632226763163962,
          0.8434832335431035,
          0.8825423581995913,
          0.8992020591140824,
          0.9039619126271448,
          0.9652807543477029,
          0.9441412541323215,
          0.928321502235574,
          0.9350413079962956,
          0.9192215560995476,
          0.8902422468935289,
          0.8828224124117634,
          0.9064819732991487,
          0.9172616038518884,
          0.9193616900150205,
          0.965560808559875,
          0.9619207446579554,
          0.9811005062444504,
          0.9535210408617467,
          0.9368613399472556,
          0.94820107892434,
          0.9603807669191675,
          0.9727005888294684
         ],
         "yaxis": "y2"
        },
        {
         "name": "Stock Data-5",
         "type": "scatter",
         "x": [
          0,
          1,
          2,
          3,
          4,
          5,
          6,
          7,
          8,
          9,
          10,
          11,
          12,
          13,
          14,
          15,
          16,
          17,
          18,
          19,
          20,
          21,
          22,
          23,
          24,
          25,
          26,
          27,
          28,
          29
         ],
         "xaxis": "x2",
         "y": [
          0.8169737811582056,
          0.8258884087069522,
          0.8545819870338107,
          0.8393994315852829,
          0.8406529746001112,
          0.8260278095006219,
          0.868371598673841,
          0.863914178486648,
          0.8442746285022058,
          0.883136164567,
          0.8997116638240255,
          0.9044474599472792,
          0.9654562705030902,
          0.94442377671015,
          0.9286838309125836,
          0.9353697483677337,
          0.919630015395807,
          0.8907972491009182,
          0.8834149661543389,
          0.9069547588025748,
          0.9176798940639102,
          0.9197694161894763,
          0.9657348592647899,
          0.9621132053626953,
          0.9811960034750173,
          0.9537559681629872,
          0.9371806817316006,
          0.9484629945163348,
          0.9605810735861673,
          0.9728385534496695
         ],
         "yaxis": "y2"
        },
        {
         "name": "Stock Data-6",
         "type": "scatter",
         "x": [
          0,
          1,
          2,
          3,
          4,
          5,
          6,
          7,
          8,
          9,
          10,
          11,
          12,
          13,
          14,
          15,
          16,
          17,
          18,
          19,
          20,
          21,
          22,
          23,
          24,
          25,
          26,
          27,
          28,
          29
         ],
         "xaxis": "x2",
         "y": [
          0.19097698844011063,
          0.21159390101310754,
          0.27644628805255694,
          0.567761684178322,
          0.1492354297142941,
          0.14692947303926557,
          0.1610028063671744,
          0.17592561703055598,
          0.13531832210325384,
          0.15681644536046235,
          0.16077090881869766,
          0.12114897505351951,
          0.43622288527743497,
          0,
          0.1258113362913154,
          0.11095361967662903,
          0.12465347590014902,
          0.23160462525763004,
          0.12351514372359118,
          0.23834185929758644,
          0.08042451083856594,
          0.08230898354829286,
          0.15510284452856044,
          0.13747537614189204,
          0.39910056298215374,
          0.22882999143199584,
          0.32920989657369343,
          0.11326039002726629,
          0.04739660420621472,
          0.13029957094885153
         ],
         "yaxis": "y2"
        }
       ],
       "layout": {
        "showlegend": true,
        "template": {
         "data": {
          "bar": [
           {
            "error_x": {
             "color": "#2a3f5f"
            },
            "error_y": {
             "color": "#2a3f5f"
            },
            "marker": {
             "line": {
              "color": "#E5ECF6",
              "width": 0.5
             },
             "pattern": {
              "fillmode": "overlay",
              "size": 10,
              "solidity": 0.2
             }
            },
            "type": "bar"
           }
          ],
          "barpolar": [
           {
            "marker": {
             "line": {
              "color": "#E5ECF6",
              "width": 0.5
             },
             "pattern": {
              "fillmode": "overlay",
              "size": 10,
              "solidity": 0.2
             }
            },
            "type": "barpolar"
           }
          ],
          "carpet": [
           {
            "aaxis": {
             "endlinecolor": "#2a3f5f",
             "gridcolor": "white",
             "linecolor": "white",
             "minorgridcolor": "white",
             "startlinecolor": "#2a3f5f"
            },
            "baxis": {
             "endlinecolor": "#2a3f5f",
             "gridcolor": "white",
             "linecolor": "white",
             "minorgridcolor": "white",
             "startlinecolor": "#2a3f5f"
            },
            "type": "carpet"
           }
          ],
          "choropleth": [
           {
            "colorbar": {
             "outlinewidth": 0,
             "ticks": ""
            },
            "type": "choropleth"
           }
          ],
          "contour": [
           {
            "colorbar": {
             "outlinewidth": 0,
             "ticks": ""
            },
            "colorscale": [
             [
              0,
              "#0d0887"
             ],
             [
              0.1111111111111111,
              "#46039f"
             ],
             [
              0.2222222222222222,
              "#7201a8"
             ],
             [
              0.3333333333333333,
              "#9c179e"
             ],
             [
              0.4444444444444444,
              "#bd3786"
             ],
             [
              0.5555555555555556,
              "#d8576b"
             ],
             [
              0.6666666666666666,
              "#ed7953"
             ],
             [
              0.7777777777777778,
              "#fb9f3a"
             ],
             [
              0.8888888888888888,
              "#fdca26"
             ],
             [
              1,
              "#f0f921"
             ]
            ],
            "type": "contour"
           }
          ],
          "contourcarpet": [
           {
            "colorbar": {
             "outlinewidth": 0,
             "ticks": ""
            },
            "type": "contourcarpet"
           }
          ],
          "heatmap": [
           {
            "colorbar": {
             "outlinewidth": 0,
             "ticks": ""
            },
            "colorscale": [
             [
              0,
              "#0d0887"
             ],
             [
              0.1111111111111111,
              "#46039f"
             ],
             [
              0.2222222222222222,
              "#7201a8"
             ],
             [
              0.3333333333333333,
              "#9c179e"
             ],
             [
              0.4444444444444444,
              "#bd3786"
             ],
             [
              0.5555555555555556,
              "#d8576b"
             ],
             [
              0.6666666666666666,
              "#ed7953"
             ],
             [
              0.7777777777777778,
              "#fb9f3a"
             ],
             [
              0.8888888888888888,
              "#fdca26"
             ],
             [
              1,
              "#f0f921"
             ]
            ],
            "type": "heatmap"
           }
          ],
          "heatmapgl": [
           {
            "colorbar": {
             "outlinewidth": 0,
             "ticks": ""
            },
            "colorscale": [
             [
              0,
              "#0d0887"
             ],
             [
              0.1111111111111111,
              "#46039f"
             ],
             [
              0.2222222222222222,
              "#7201a8"
             ],
             [
              0.3333333333333333,
              "#9c179e"
             ],
             [
              0.4444444444444444,
              "#bd3786"
             ],
             [
              0.5555555555555556,
              "#d8576b"
             ],
             [
              0.6666666666666666,
              "#ed7953"
             ],
             [
              0.7777777777777778,
              "#fb9f3a"
             ],
             [
              0.8888888888888888,
              "#fdca26"
             ],
             [
              1,
              "#f0f921"
             ]
            ],
            "type": "heatmapgl"
           }
          ],
          "histogram": [
           {
            "marker": {
             "pattern": {
              "fillmode": "overlay",
              "size": 10,
              "solidity": 0.2
             }
            },
            "type": "histogram"
           }
          ],
          "histogram2d": [
           {
            "colorbar": {
             "outlinewidth": 0,
             "ticks": ""
            },
            "colorscale": [
             [
              0,
              "#0d0887"
             ],
             [
              0.1111111111111111,
              "#46039f"
             ],
             [
              0.2222222222222222,
              "#7201a8"
             ],
             [
              0.3333333333333333,
              "#9c179e"
             ],
             [
              0.4444444444444444,
              "#bd3786"
             ],
             [
              0.5555555555555556,
              "#d8576b"
             ],
             [
              0.6666666666666666,
              "#ed7953"
             ],
             [
              0.7777777777777778,
              "#fb9f3a"
             ],
             [
              0.8888888888888888,
              "#fdca26"
             ],
             [
              1,
              "#f0f921"
             ]
            ],
            "type": "histogram2d"
           }
          ],
          "histogram2dcontour": [
           {
            "colorbar": {
             "outlinewidth": 0,
             "ticks": ""
            },
            "colorscale": [
             [
              0,
              "#0d0887"
             ],
             [
              0.1111111111111111,
              "#46039f"
             ],
             [
              0.2222222222222222,
              "#7201a8"
             ],
             [
              0.3333333333333333,
              "#9c179e"
             ],
             [
              0.4444444444444444,
              "#bd3786"
             ],
             [
              0.5555555555555556,
              "#d8576b"
             ],
             [
              0.6666666666666666,
              "#ed7953"
             ],
             [
              0.7777777777777778,
              "#fb9f3a"
             ],
             [
              0.8888888888888888,
              "#fdca26"
             ],
             [
              1,
              "#f0f921"
             ]
            ],
            "type": "histogram2dcontour"
           }
          ],
          "mesh3d": [
           {
            "colorbar": {
             "outlinewidth": 0,
             "ticks": ""
            },
            "type": "mesh3d"
           }
          ],
          "parcoords": [
           {
            "line": {
             "colorbar": {
              "outlinewidth": 0,
              "ticks": ""
             }
            },
            "type": "parcoords"
           }
          ],
          "pie": [
           {
            "automargin": true,
            "type": "pie"
           }
          ],
          "scatter": [
           {
            "fillpattern": {
             "fillmode": "overlay",
             "size": 10,
             "solidity": 0.2
            },
            "type": "scatter"
           }
          ],
          "scatter3d": [
           {
            "line": {
             "colorbar": {
              "outlinewidth": 0,
              "ticks": ""
             }
            },
            "marker": {
             "colorbar": {
              "outlinewidth": 0,
              "ticks": ""
             }
            },
            "type": "scatter3d"
           }
          ],
          "scattercarpet": [
           {
            "marker": {
             "colorbar": {
              "outlinewidth": 0,
              "ticks": ""
             }
            },
            "type": "scattercarpet"
           }
          ],
          "scattergeo": [
           {
            "marker": {
             "colorbar": {
              "outlinewidth": 0,
              "ticks": ""
             }
            },
            "type": "scattergeo"
           }
          ],
          "scattergl": [
           {
            "marker": {
             "colorbar": {
              "outlinewidth": 0,
              "ticks": ""
             }
            },
            "type": "scattergl"
           }
          ],
          "scattermapbox": [
           {
            "marker": {
             "colorbar": {
              "outlinewidth": 0,
              "ticks": ""
             }
            },
            "type": "scattermapbox"
           }
          ],
          "scatterpolar": [
           {
            "marker": {
             "colorbar": {
              "outlinewidth": 0,
              "ticks": ""
             }
            },
            "type": "scatterpolar"
           }
          ],
          "scatterpolargl": [
           {
            "marker": {
             "colorbar": {
              "outlinewidth": 0,
              "ticks": ""
             }
            },
            "type": "scatterpolargl"
           }
          ],
          "scatterternary": [
           {
            "marker": {
             "colorbar": {
              "outlinewidth": 0,
              "ticks": ""
             }
            },
            "type": "scatterternary"
           }
          ],
          "surface": [
           {
            "colorbar": {
             "outlinewidth": 0,
             "ticks": ""
            },
            "colorscale": [
             [
              0,
              "#0d0887"
             ],
             [
              0.1111111111111111,
              "#46039f"
             ],
             [
              0.2222222222222222,
              "#7201a8"
             ],
             [
              0.3333333333333333,
              "#9c179e"
             ],
             [
              0.4444444444444444,
              "#bd3786"
             ],
             [
              0.5555555555555556,
              "#d8576b"
             ],
             [
              0.6666666666666666,
              "#ed7953"
             ],
             [
              0.7777777777777778,
              "#fb9f3a"
             ],
             [
              0.8888888888888888,
              "#fdca26"
             ],
             [
              1,
              "#f0f921"
             ]
            ],
            "type": "surface"
           }
          ],
          "table": [
           {
            "cells": {
             "fill": {
              "color": "#EBF0F8"
             },
             "line": {
              "color": "white"
             }
            },
            "header": {
             "fill": {
              "color": "#C8D4E3"
             },
             "line": {
              "color": "white"
             }
            },
            "type": "table"
           }
          ]
         },
         "layout": {
          "annotationdefaults": {
           "arrowcolor": "#2a3f5f",
           "arrowhead": 0,
           "arrowwidth": 1
          },
          "autotypenumbers": "strict",
          "coloraxis": {
           "colorbar": {
            "outlinewidth": 0,
            "ticks": ""
           }
          },
          "colorscale": {
           "diverging": [
            [
             0,
             "#8e0152"
            ],
            [
             0.1,
             "#c51b7d"
            ],
            [
             0.2,
             "#de77ae"
            ],
            [
             0.3,
             "#f1b6da"
            ],
            [
             0.4,
             "#fde0ef"
            ],
            [
             0.5,
             "#f7f7f7"
            ],
            [
             0.6,
             "#e6f5d0"
            ],
            [
             0.7,
             "#b8e186"
            ],
            [
             0.8,
             "#7fbc41"
            ],
            [
             0.9,
             "#4d9221"
            ],
            [
             1,
             "#276419"
            ]
           ],
           "sequential": [
            [
             0,
             "#0d0887"
            ],
            [
             0.1111111111111111,
             "#46039f"
            ],
            [
             0.2222222222222222,
             "#7201a8"
            ],
            [
             0.3333333333333333,
             "#9c179e"
            ],
            [
             0.4444444444444444,
             "#bd3786"
            ],
            [
             0.5555555555555556,
             "#d8576b"
            ],
            [
             0.6666666666666666,
             "#ed7953"
            ],
            [
             0.7777777777777778,
             "#fb9f3a"
            ],
            [
             0.8888888888888888,
             "#fdca26"
            ],
            [
             1,
             "#f0f921"
            ]
           ],
           "sequentialminus": [
            [
             0,
             "#0d0887"
            ],
            [
             0.1111111111111111,
             "#46039f"
            ],
            [
             0.2222222222222222,
             "#7201a8"
            ],
            [
             0.3333333333333333,
             "#9c179e"
            ],
            [
             0.4444444444444444,
             "#bd3786"
            ],
            [
             0.5555555555555556,
             "#d8576b"
            ],
            [
             0.6666666666666666,
             "#ed7953"
            ],
            [
             0.7777777777777778,
             "#fb9f3a"
            ],
            [
             0.8888888888888888,
             "#fdca26"
            ],
            [
             1,
             "#f0f921"
            ]
           ]
          },
          "colorway": [
           "#636efa",
           "#EF553B",
           "#00cc96",
           "#ab63fa",
           "#FFA15A",
           "#19d3f3",
           "#FF6692",
           "#B6E880",
           "#FF97FF",
           "#FECB52"
          ],
          "font": {
           "color": "#2a3f5f"
          },
          "geo": {
           "bgcolor": "white",
           "lakecolor": "white",
           "landcolor": "#E5ECF6",
           "showlakes": true,
           "showland": true,
           "subunitcolor": "white"
          },
          "hoverlabel": {
           "align": "left"
          },
          "hovermode": "closest",
          "mapbox": {
           "style": "light"
          },
          "paper_bgcolor": "white",
          "plot_bgcolor": "#E5ECF6",
          "polar": {
           "angularaxis": {
            "gridcolor": "white",
            "linecolor": "white",
            "ticks": ""
           },
           "bgcolor": "#E5ECF6",
           "radialaxis": {
            "gridcolor": "white",
            "linecolor": "white",
            "ticks": ""
           }
          },
          "scene": {
           "xaxis": {
            "backgroundcolor": "#E5ECF6",
            "gridcolor": "white",
            "gridwidth": 2,
            "linecolor": "white",
            "showbackground": true,
            "ticks": "",
            "zerolinecolor": "white"
           },
           "yaxis": {
            "backgroundcolor": "#E5ECF6",
            "gridcolor": "white",
            "gridwidth": 2,
            "linecolor": "white",
            "showbackground": true,
            "ticks": "",
            "zerolinecolor": "white"
           },
           "zaxis": {
            "backgroundcolor": "#E5ECF6",
            "gridcolor": "white",
            "gridwidth": 2,
            "linecolor": "white",
            "showbackground": true,
            "ticks": "",
            "zerolinecolor": "white"
           }
          },
          "shapedefaults": {
           "line": {
            "color": "#2a3f5f"
           }
          },
          "ternary": {
           "aaxis": {
            "gridcolor": "white",
            "linecolor": "white",
            "ticks": ""
           },
           "baxis": {
            "gridcolor": "white",
            "linecolor": "white",
            "ticks": ""
           },
           "bgcolor": "#E5ECF6",
           "caxis": {
            "gridcolor": "white",
            "linecolor": "white",
            "ticks": ""
           }
          },
          "title": {
           "x": 0.05
          },
          "xaxis": {
           "automargin": true,
           "gridcolor": "white",
           "linecolor": "white",
           "ticks": "",
           "title": {
            "standoff": 15
           },
           "zerolinecolor": "white",
           "zerolinewidth": 2
          },
          "yaxis": {
           "automargin": true,
           "gridcolor": "white",
           "linecolor": "white",
           "ticks": "",
           "title": {
            "standoff": 15
           },
           "zerolinecolor": "white",
           "zerolinewidth": 2
          }
         }
        },
        "title": {
         "text": "Matched DCAM and Stock Data Visualization"
        },
        "xaxis": {
         "anchor": "y",
         "domain": [
          0,
          0.45
         ],
         "title": {
          "text": "Time"
         }
        },
        "xaxis2": {
         "anchor": "y2",
         "domain": [
          0.55,
          1
         ],
         "title": {
          "text": "Time"
         }
        },
        "yaxis": {
         "anchor": "x",
         "domain": [
          0,
          1
         ],
         "title": {
          "text": "DCAM Value"
         }
        },
        "yaxis2": {
         "anchor": "x2",
         "domain": [
          0,
          1
         ],
         "title": {
          "text": "Stock Data Value"
         }
        }
       }
      }
     },
     "metadata": {},
     "output_type": "display_data"
    }
   ],
   "source": [
    "import plotly.graph_objects as go\n",
    "from plotly.subplots import make_subplots\n",
    "import numpy as np\n",
    "from DCAM import DCAM\n",
    "import random\n",
    "\n",
    "for _ in range(3):\n",
    "    index = random.randint(0, 122)\n",
    "    instance = stock_data.values[index:index + 30, :].reshape(6, 30)\n",
    "\n",
    "    DCAM_m = DCAM(model, 'cpu',last_conv_layer=last_conv_layer,fc_layer_name=fc_layer_name)\n",
    "    dcam_agg ,permutation_success = DCAM_m.run(\n",
    "            instance=instance,\n",
    "            nb_permutation=200,\n",
    "            label_instance=1)\n",
    "    # Assuming you have the dcam and stock_data arrays\n",
    "    dcam = dcam_agg.reshape(30, 6)\n",
    "    stock_datas = stock_data.values[index + 5: index + 35, :]\n",
    "\n",
    "    # Create subplots with 1 row and 2 columns\n",
    "    fig = make_subplots(rows=1, cols=2)\n",
    "\n",
    "    # Add the dcam array graph to the first subplot\n",
    "    for i in range(dcam.shape[1]):\n",
    "        fig.add_trace(go.Scatter(x=np.arange(dcam.shape[0]), y=dcam[:, i], name=f'DCAM-{i+1}'), row=1, col=1)\n",
    "\n",
    "    # Add the stock_data array graph to the second subplot\n",
    "    for i in range(stock_data.shape[1]):\n",
    "        fig.add_trace(go.Scatter(x=np.arange(stock_datas.shape[0]), y=stock_datas[:, i], name=f'Stock Data-{i+1}'), row=1, col=2)\n",
    "\n",
    "    # Update x-axis labels\n",
    "    fig.update_xaxes(title_text=\"Time\", row=1, col=1)\n",
    "    fig.update_xaxes(title_text=\"Time\", row=1, col=2)\n",
    "\n",
    "    # Update y-axis labels\n",
    "    fig.update_yaxes(title_text=\"DCAM Value\", row=1, col=1)\n",
    "    fig.update_yaxes(title_text=\"Stock Data Value\", row=1, col=2)\n",
    "\n",
    "    # Update layout\n",
    "    fig.update_layout(title=\"Matched DCAM and Stock Data Visualization\", showlegend=True)\n",
    "\n",
    "    # Show the plot\n",
    "    fig.show()"
   ]
  },
  {
   "cell_type": "markdown",
   "metadata": {},
   "source": [
    "DCAM Value for aggragated model"
   ]
  },
  {
   "cell_type": "code",
   "execution_count": 27,
   "metadata": {},
   "outputs": [],
   "source": [
    "import torch\n",
    "model = torch.load(\"model\").to('cpu')\n",
    "model = model.eval()\n",
    "\n",
    "last_conv_layer = model._modules['layer3']\n",
    "fc_layer_name = model._modules['fc1']"
   ]
  },
  {
   "cell_type": "code",
   "execution_count": 34,
   "metadata": {},
   "outputs": [
    {
     "name": "stderr",
     "output_type": "stream",
     "text": [
      "  0%|          | 0/200 [00:00<?, ?it/s]c:\\Users\\johnn\\cam_time_series_final\\DCAM.py:113: UserWarning:\n",
      "\n",
      "Implicit dimension choice for softmax has been deprecated. Change the call to include dim=X as an argument.\n",
      "\n",
      "100%|██████████| 200/200 [00:00<00:00, 400.36it/s]\n"
     ]
    }
   ],
   "source": [
    "index = random.randint(0, 157)\n",
    "instance = stock_data.values[0:30, :].reshape(6, 30)\n",
    "\n",
    "from DCAM import DCAM\n",
    "\n",
    "DCAM_m = DCAM(model, 'cpu',last_conv_layer=last_conv_layer,fc_layer_name=fc_layer_name)\n",
    "dcam_agg ,permutation_success = DCAM_m.run(\n",
    "        instance=instance,\n",
    "        nb_permutation=200,\n",
    "        label_instance=1)"
   ]
  },
  {
   "cell_type": "code",
   "execution_count": 45,
   "metadata": {},
   "outputs": [],
   "source": [
    "torch.save(model, 'model_multiple_stock.pt')\n"
   ]
  },
  {
   "cell_type": "code",
   "execution_count": 35,
   "metadata": {},
   "outputs": [
    {
     "data": {
      "text/plain": [
       "<Axes: >"
      ]
     },
     "execution_count": 35,
     "metadata": {},
     "output_type": "execute_result"
    },
    {
     "data": {
      "image/png": "[encoded data removed]",
      "text/plain": [
       "<Figure size 640x480 with 2 Axes>"
      ]
     },
     "metadata": {},
     "output_type": "display_data"
    }
   ],
   "source": [
    "import seaborn as sns\n",
    "sns.heatmap(dcam_agg)"
   ]
  },
  {
   "cell_type": "code",
   "execution_count": 41,
   "metadata": {},
   "outputs": [
    {
     "name": "stderr",
     "output_type": "stream",
     "text": [
      "100%|██████████| 200/200 [00:00<00:00, 436.81it/s]\n"
     ]
    },
    {
     "data": {
      "application/vnd.plotly.v1+json": {
       "config": {
        "plotlyServerURL": "https://plot.ly"
       },
       "data": [
        {
         "name": "DCAM-1",
         "type": "scatter",
         "x": [
          0,
          1,
          2,
          3,
          4,
          5,
          6,
          7,
          8,
          9,
          10,
          11,
          12,
          13,
          14,
          15,
          16,
          17,
          18,
          19,
          20,
          21,
          22,
          23,
          24,
          25,
          26,
          27,
          28,
          29
         ],
         "xaxis": "x",
         "y": [
          0.001126816712265402,
          0.00328466324290194,
          0.0010714889658743963,
          0.0008715223449445363,
          0.0007361199182786847,
          0.00013231318134102746,
          0.001988630220936623,
          0.00036785900277409275,
          0.0003150883346119362,
          0.00026809577738122166,
          0.0006192874907264499,
          0.0008777505323091869,
          0.0006915420390095239,
          0.0008380316424222626,
          0.0009097725340809419,
          0.00014446341639092573,
          0.0005304276673897367,
          0.0009534061857883586,
          0.0007730725599718552,
          0.00040355053577149566,
          0.000306683691299488,
          0.0005776374283579379,
          0.00028271453375325664,
          0.0002813881290028289,
          0.0006609300222629054,
          0.0017430250155062452,
          0.002032191568736473,
          0.001634337718188471,
          0.0007713975100555336,
          0.0004813079398303586
         ],
         "yaxis": "y"
        },
        {
         "name": "DCAM-2",
         "type": "scatter",
         "x": [
          0,
          1,
          2,
          3,
          4,
          5,
          6,
          7,
          8,
          9,
          10,
          11,
          12,
          13,
          14,
          15,
          16,
          17,
          18,
          19,
          20,
          21,
          22,
          23,
          24,
          25,
          26,
          27,
          28,
          29
         ],
         "xaxis": "x",
         "y": [
          0.00131678043897373,
          0.0027426740005086483,
          0.001674401649797376,
          0.0018878558725063878,
          0.0011546142279006244,
          0.0019457766717372441,
          0.0006734515180518067,
          0.000754903963356221,
          0.001425866339614927,
          0.0011905723269172747,
          0.0008779313133026689,
          0.0010272010482164633,
          0.0011744404069537503,
          0.001799722224600427,
          0.0021176674274205245,
          0.0004793433372249654,
          0.0005509031708733134,
          0.001202301215187451,
          0.0009269040399574112,
          0.0002346221346143313,
          0.00046373008173291794,
          0.0007352238744455484,
          0.0005946235386733993,
          0.0009273530947386794,
          0.0013590512449524086,
          0.005097181922378857,
          0.004227832059933151,
          0.0016929218911976693,
          0.0014249580624398823,
          0.0012115682854497328
         ],
         "yaxis": "y"
        },
        {
         "name": "DCAM-3",
         "type": "scatter",
         "x": [
          0,
          1,
          2,
          3,
          4,
          5,
          6,
          7,
          8,
          9,
          10,
          11,
          12,
          13,
          14,
          15,
          16,
          17,
          18,
          19,
          20,
          21,
          22,
          23,
          24,
          25,
          26,
          27,
          28,
          29
         ],
         "xaxis": "x",
         "y": [
          0.0024300588881400183,
          0.0023955124285356955,
          0.004222342722810116,
          0.0048201216812169805,
          0.0038096717578938026,
          0.000496269807613051,
          0.0009621101855753223,
          0.00031797050698398024,
          0.00033830892117014716,
          0.0025346152899384726,
          0.0025029088368076725,
          0.00273583129750804,
          0.0028653195990211377,
          0.001945308236898542,
          0.002983390367799255,
          0.00012044029231079049,
          0.0002957734049198208,
          0.0004703197593761113,
          0.0002510836741700722,
          0.0011079648767443836,
          0.0012981185542285455,
          0.0008282534649875062,
          0.001674359609968056,
          0.002149855894576694,
          0.002817559757149038,
          0.005608476116135685,
          0.006857070356281139,
          0.005967977377581223,
          0.00438881372127442,
          0.005930171609258058
         ],
         "yaxis": "y"
        },
        {
         "name": "DCAM-4",
         "type": "scatter",
         "x": [
          0,
          1,
          2,
          3,
          4,
          5,
          6,
          7,
          8,
          9,
          10,
          11,
          12,
          13,
          14,
          15,
          16,
          17,
          18,
          19,
          20,
          21,
          22,
          23,
          24,
          25,
          26,
          27,
          28,
          29
         ],
         "xaxis": "x",
         "y": [
          0.0031945244806798655,
          0.0026691499637319337,
          0.0016895234520288038,
          0.0019306227941815158,
          0.001214477668128607,
          0.0011100435479459553,
          0.0003171410765408682,
          0.0007090926365323132,
          0.0016035973490469517,
          0.0017512339713517727,
          0.0007430236008697862,
          0.0006345451919395812,
          0.0006948746432243679,
          0.00122798610658841,
          0.000951406058368763,
          0.00043506847835427865,
          0.0015991634183556084,
          0.0019325892937014219,
          0.0014005836159554053,
          0.00033825507465062843,
          0.0004708944162997596,
          0.0005897851933859958,
          0.0003296057642173621,
          0.0004922782555768771,
          0.001305704574288297,
          0.003368196183989391,
          0.0026276827277778975,
          0.0009821101960774514,
          0.0007810634143891192,
          0.00017348354811916818
         ],
         "yaxis": "y"
        },
        {
         "name": "DCAM-5",
         "type": "scatter",
         "x": [
          0,
          1,
          2,
          3,
          4,
          5,
          6,
          7,
          8,
          9,
          10,
          11,
          12,
          13,
          14,
          15,
          16,
          17,
          18,
          19,
          20,
          21,
          22,
          23,
          24,
          25,
          26,
          27,
          28,
          29
         ],
         "xaxis": "x",
         "y": [
          0.004045892529983621,
          0.005468312178891442,
          0.007939777955130635,
          0.007825792123526285,
          0.002063897700841024,
          0.0014088903796914214,
          0.0013279815690089986,
          0.0005453127718316379,
          0.0023676501024595055,
          0.002653905757060464,
          0.0028243741801033564,
          0.0020814957861775073,
          0.001744851931601282,
          0.0011261927678903063,
          0.0032935068799172388,
          0.00027236019425821626,
          0.0011611364306045738,
          0.0007884115754678541,
          0.0005316370822382122,
          0.0003648589534048898,
          0.002322264347831643,
          0.002594465993542875,
          0.0037143603849215147,
          0.004509046234051975,
          0.002257261081306344,
          0.006570920889422944,
          0.008348718309125957,
          0.0055255684826546626,
          0.0056463815875714,
          0.0016351907136562033
         ],
         "yaxis": "y"
        },
        {
         "name": "DCAM-6",
         "type": "scatter",
         "x": [
          0,
          1,
          2,
          3,
          4,
          5,
          6,
          7,
          8,
          9,
          10,
          11,
          12,
          13,
          14,
          15,
          16,
          17,
          18,
          19,
          20,
          21,
          22,
          23,
          24,
          25,
          26,
          27,
          28,
          29
         ],
         "xaxis": "x",
         "y": [
          0.0022493076626583053,
          0.0011848539710315534,
          0.0015707779628559022,
          0.0009548532853280258,
          0.0009230308654888176,
          0.000809913531213187,
          0.00019785211260620573,
          0.0006012042209668686,
          0.0005995487175406501,
          0.001781366057496516,
          0.0006791903079924946,
          0.0007380817234907409,
          0.0007936030874092574,
          0.0007379452095274402,
          0.0016894654881224216,
          0.0001813221295992313,
          0.0006665509165217797,
          0.0007946212862425755,
          0.00039171589571596093,
          0.0005706877733821652,
          0.0004237759264135492,
          0.0003568202317813183,
          0.0003222615977847299,
          0.0003732383063543442,
          0.0016388497085979578,
          0.0015813283700030932,
          0.0011622808506662724,
          0.0007195949758858026,
          0.0007451189373295061,
          0.0016963166924843088
         ],
         "yaxis": "y"
        },
        {
         "name": "Stock Data-1",
         "type": "scatter",
         "x": [
          0,
          1,
          2,
          3,
          4,
          5,
          6,
          7,
          8,
          9,
          10,
          11,
          12,
          13,
          14,
          15,
          16,
          17,
          18,
          19,
          20,
          21,
          22,
          23,
          24,
          25,
          26,
          27,
          28,
          29
         ],
         "xaxis": "x2",
         "y": [
          0.3955573091562399,
          0.3942758577310812,
          0.38160322001063074,
          0.39228241642456574,
          0.3445821361369408,
          0.31040857725106497,
          0.35981767670770815,
          0.3585362252825499,
          0.3723480033594102,
          0.4281645772106528,
          0.4137833375899911,
          0.4458209268317961,
          0.4740139445293181,
          0.46732163072841404,
          0.4677487812034671,
          0.48312685011179024,
          0.4550761434830166,
          0.47501055654817215,
          0.5057666943648185,
          0.5187241714915731,
          0.5447814368138308,
          0.5779581664120457,
          0.5514737506147349,
          0.5185816431540173,
          0.5042004035333556,
          0.5174427200664145,
          0.5013526612767345,
          0.5071906741275325,
          0.5493377809706637,
          0.5564572452466199
         ],
         "yaxis": "y2"
        },
        {
         "name": "Stock Data-2",
         "type": "scatter",
         "x": [
          0,
          1,
          2,
          3,
          4,
          5,
          6,
          7,
          8,
          9,
          10,
          11,
          12,
          13,
          14,
          15,
          16,
          17,
          18,
          19,
          20,
          21,
          22,
          23,
          24,
          25,
          26,
          27,
          28,
          29
         ],
         "xaxis": "x2",
         "y": [
          0.40491068378368156,
          0.3726937620982371,
          0.364746024859093,
          0.3799318335354014,
          0.32883914418678795,
          0.36006249043754024,
          0.3637524494244009,
          0.36162366857805783,
          0.40718152772617944,
          0.41115539634575193,
          0.42648326811821513,
          0.4489071482316882,
          0.487794538648471,
          0.479421045240058,
          0.4622480856943654,
          0.4683509517198783,
          0.4359921834978773,
          0.4723248203394508,
          0.4924780730700238,
          0.5283849537423284,
          0.5466931186996724,
          0.5544990094022599,
          0.5290946195443087,
          0.527817351036503,
          0.4862333605079534,
          0.4909168949295062,
          0.4866591166772223,
          0.5397389568952196,
          0.5471190914285387,
          0.5339200005024185
         ],
         "yaxis": "y2"
        },
        {
         "name": "Stock Data-3",
         "type": "scatter",
         "x": [
          0,
          1,
          2,
          3,
          4,
          5,
          6,
          7,
          8,
          9,
          10,
          11,
          12,
          13,
          14,
          15,
          16,
          17,
          18,
          19,
          20,
          21,
          22,
          23,
          24,
          25,
          26,
          27,
          28,
          29
         ],
         "xaxis": "x2",
         "y": [
          0.4118971775210205,
          0.37913101508176017,
          0.38897487589225066,
          0.3664744386853538,
          0.3296301819746301,
          0.33089577524024905,
          0.3646464310505946,
          0.36211502993928435,
          0.38630292483367357,
          0.4234284960190029,
          0.4216002738041722,
          0.4552101650871785,
          0.47306987907340026,
          0.4712416568585691,
          0.4736325080226125,
          0.4739136079171462,
          0.447335076438786,
          0.4947265874365512,
          0.5217269833367844,
          0.5307271153035289,
          0.5632119632681831,
          0.5757277751372507,
          0.5291802075633039,
          0.5319927085691478,
          0.5049923126689146,
          0.511039179102476,
          0.5007734538701125,
          0.5238363054461492,
          0.5575869612564948,
          0.560540012209606
         ],
         "yaxis": "y2"
        },
        {
         "name": "Stock Data-4",
         "type": "scatter",
         "x": [
          0,
          1,
          2,
          3,
          4,
          5,
          6,
          7,
          8,
          9,
          10,
          11,
          12,
          13,
          14,
          15,
          16,
          17,
          18,
          19,
          20,
          21,
          22,
          23,
          24,
          25,
          26,
          27,
          28,
          29
         ],
         "xaxis": "x2",
         "y": [
          0.4033320042685302,
          0.3721126886026802,
          0.38989217912831364,
          0.3579728347414193,
          0.3287134713232285,
          0.3562929367059322,
          0.3859722746329952,
          0.3915722907825745,
          0.4316114983722783,
          0.41971165097084917,
          0.4533108933932306,
          0.4796304352493195,
          0.45933088405168165,
          0.4747304478207841,
          0.49321018068623523,
          0.4656307153035315,
          0.4568108233796777,
          0.5004900948713016,
          0.5227495983165986,
          0.5583087929866393,
          0.5760884971310465,
          0.5685287423525813,
          0.5423491207931921,
          0.5549489969156656,
          0.5181296651002358,
          0.5009100693801734,
          0.49111030814187684,
          0.5675486594193648,
          0.5626488856096032,
          0.562928726203002
         ],
         "yaxis": "y2"
        },
        {
         "name": "Stock Data-5",
         "type": "scatter",
         "x": [
          0,
          1,
          2,
          3,
          4,
          5,
          6,
          7,
          8,
          9,
          10,
          11,
          12,
          13,
          14,
          15,
          16,
          17,
          18,
          19,
          20,
          21,
          22,
          23,
          24,
          25,
          26,
          27,
          28,
          29
         ],
         "xaxis": "x2",
         "y": [
          0.4033892908692267,
          0.372370805259858,
          0.3900359717895361,
          0.35832175916565534,
          0.3292506281548744,
          0.3566527805031283,
          0.38614126259236103,
          0.39170537610334133,
          0.4314869574063538,
          0.4196636418467987,
          0.4530468331332065,
          0.4791969322461065,
          0.45902808489699876,
          0.4743285457496378,
          0.4926896521194668,
          0.4652874997712124,
          0.4565241912519298,
          0.4999227442929741,
          0.5220391590663085,
          0.5573694921256642,
          0.5750348714809812,
          0.5675238290226918,
          0.5415124922265435,
          0.5540313219749708,
          0.5174487228546218,
          0.5003398825457865,
          0.49060310955284914,
          0.5665499388977593,
          0.5616817652269299,
          0.5619597155117115
         ],
         "yaxis": "y2"
        },
        {
         "name": "Stock Data-6",
         "type": "scatter",
         "x": [
          0,
          1,
          2,
          3,
          4,
          5,
          6,
          7,
          8,
          9,
          10,
          11,
          12,
          13,
          14,
          15,
          16,
          17,
          18,
          19,
          20,
          21,
          22,
          23,
          24,
          25,
          26,
          27,
          28,
          29
         ],
         "xaxis": "x2",
         "y": [
          0.4564703891240864,
          0.20117153014139244,
          0.12812624339803952,
          0.18206317214690754,
          0.3019891927605654,
          0.4312391221742064,
          0.34367786257181704,
          0.37192867970554716,
          0.36373659367725236,
          0.5491203759832253,
          0.3432344093650808,
          0.3456502122472826,
          0.3599993816065374,
          0.29425683345118075,
          0.22569978136536395,
          0.17031939208667923,
          0.11825961296706,
          0.1614942664348234,
          0.14681555845404892,
          0.3034326532903821,
          0.20763374182561145,
          0.12058753888352314,
          0.16317043818872556,
          0.11336047212713518,
          0.13229307619014297,
          0.13170153402262508,
          0.15195310624731995,
          0.30095745208874597,
          0.1458782041528376,
          0.08183949272207852
         ],
         "yaxis": "y2"
        }
       ],
       "layout": {
        "showlegend": true,
        "template": {
         "data": {
          "bar": [
           {
            "error_x": {
             "color": "#2a3f5f"
            },
            "error_y": {
             "color": "#2a3f5f"
            },
            "marker": {
             "line": {
              "color": "#E5ECF6",
              "width": 0.5
             },
             "pattern": {
              "fillmode": "overlay",
              "size": 10,
              "solidity": 0.2
             }
            },
            "type": "bar"
           }
          ],
          "barpolar": [
           {
            "marker": {
             "line": {
              "color": "#E5ECF6",
              "width": 0.5
             },
             "pattern": {
              "fillmode": "overlay",
              "size": 10,
              "solidity": 0.2
             }
            },
            "type": "barpolar"
           }
          ],
          "carpet": [
           {
            "aaxis": {
             "endlinecolor": "#2a3f5f",
             "gridcolor": "white",
             "linecolor": "white",
             "minorgridcolor": "white",
             "startlinecolor": "#2a3f5f"
            },
            "baxis": {
             "endlinecolor": "#2a3f5f",
             "gridcolor": "white",
             "linecolor": "white",
             "minorgridcolor": "white",
             "startlinecolor": "#2a3f5f"
            },
            "type": "carpet"
           }
          ],
          "choropleth": [
           {
            "colorbar": {
             "outlinewidth": 0,
             "ticks": ""
            },
            "type": "choropleth"
           }
          ],
          "contour": [
           {
            "colorbar": {
             "outlinewidth": 0,
             "ticks": ""
            },
            "colorscale": [
             [
              0,
              "#0d0887"
             ],
             [
              0.1111111111111111,
              "#46039f"
             ],
             [
              0.2222222222222222,
              "#7201a8"
             ],
             [
              0.3333333333333333,
              "#9c179e"
             ],
             [
              0.4444444444444444,
              "#bd3786"
             ],
             [
              0.5555555555555556,
              "#d8576b"
             ],
             [
              0.6666666666666666,
              "#ed7953"
             ],
             [
              0.7777777777777778,
              "#fb9f3a"
             ],
             [
              0.8888888888888888,
              "#fdca26"
             ],
             [
              1,
              "#f0f921"
             ]
            ],
            "type": "contour"
           }
          ],
          "contourcarpet": [
           {
            "colorbar": {
             "outlinewidth": 0,
             "ticks": ""
            },
            "type": "contourcarpet"
           }
          ],
          "heatmap": [
           {
            "colorbar": {
             "outlinewidth": 0,
             "ticks": ""
            },
            "colorscale": [
             [
              0,
              "#0d0887"
             ],
             [
              0.1111111111111111,
              "#46039f"
             ],
             [
              0.2222222222222222,
              "#7201a8"
             ],
             [
              0.3333333333333333,
              "#9c179e"
             ],
             [
              0.4444444444444444,
              "#bd3786"
             ],
             [
              0.5555555555555556,
              "#d8576b"
             ],
             [
              0.6666666666666666,
              "#ed7953"
             ],
             [
              0.7777777777777778,
              "#fb9f3a"
             ],
             [
              0.8888888888888888,
              "#fdca26"
             ],
             [
              1,
              "#f0f921"
             ]
            ],
            "type": "heatmap"
           }
          ],
          "heatmapgl": [
           {
            "colorbar": {
             "outlinewidth": 0,
             "ticks": ""
            },
            "colorscale": [
             [
              0,
              "#0d0887"
             ],
             [
              0.1111111111111111,
              "#46039f"
             ],
             [
              0.2222222222222222,
              "#7201a8"
             ],
             [
              0.3333333333333333,
              "#9c179e"
             ],
             [
              0.4444444444444444,
              "#bd3786"
             ],
             [
              0.5555555555555556,
              "#d8576b"
             ],
             [
              0.6666666666666666,
              "#ed7953"
             ],
             [
              0.7777777777777778,
              "#fb9f3a"
             ],
             [
              0.8888888888888888,
              "#fdca26"
             ],
             [
              1,
              "#f0f921"
             ]
            ],
            "type": "heatmapgl"
           }
          ],
          "histogram": [
           {
            "marker": {
             "pattern": {
              "fillmode": "overlay",
              "size": 10,
              "solidity": 0.2
             }
            },
            "type": "histogram"
           }
          ],
          "histogram2d": [
           {
            "colorbar": {
             "outlinewidth": 0,
             "ticks": ""
            },
            "colorscale": [
             [
              0,
              "#0d0887"
             ],
             [
              0.1111111111111111,
              "#46039f"
             ],
             [
              0.2222222222222222,
              "#7201a8"
             ],
             [
              0.3333333333333333,
              "#9c179e"
             ],
             [
              0.4444444444444444,
              "#bd3786"
             ],
             [
              0.5555555555555556,
              "#d8576b"
             ],
             [
              0.6666666666666666,
              "#ed7953"
             ],
             [
              0.7777777777777778,
              "#fb9f3a"
             ],
             [
              0.8888888888888888,
              "#fdca26"
             ],
             [
              1,
              "#f0f921"
             ]
            ],
            "type": "histogram2d"
           }
          ],
          "histogram2dcontour": [
           {
            "colorbar": {
             "outlinewidth": 0,
             "ticks": ""
            },
            "colorscale": [
             [
              0,
              "#0d0887"
             ],
             [
              0.1111111111111111,
              "#46039f"
             ],
             [
              0.2222222222222222,
              "#7201a8"
             ],
             [
              0.3333333333333333,
              "#9c179e"
             ],
             [
              0.4444444444444444,
              "#bd3786"
             ],
             [
              0.5555555555555556,
              "#d8576b"
             ],
             [
              0.6666666666666666,
              "#ed7953"
             ],
             [
              0.7777777777777778,
              "#fb9f3a"
             ],
             [
              0.8888888888888888,
              "#fdca26"
             ],
             [
              1,
              "#f0f921"
             ]
            ],
            "type": "histogram2dcontour"
           }
          ],
          "mesh3d": [
           {
            "colorbar": {
             "outlinewidth": 0,
             "ticks": ""
            },
            "type": "mesh3d"
           }
          ],
          "parcoords": [
           {
            "line": {
             "colorbar": {
              "outlinewidth": 0,
              "ticks": ""
             }
            },
            "type": "parcoords"
           }
          ],
          "pie": [
           {
            "automargin": true,
            "type": "pie"
           }
          ],
          "scatter": [
           {
            "fillpattern": {
             "fillmode": "overlay",
             "size": 10,
             "solidity": 0.2
            },
            "type": "scatter"
           }
          ],
          "scatter3d": [
           {
            "line": {
             "colorbar": {
              "outlinewidth": 0,
              "ticks": ""
             }
            },
            "marker": {
             "colorbar": {
              "outlinewidth": 0,
              "ticks": ""
             }
            },
            "type": "scatter3d"
           }
          ],
          "scattercarpet": [
           {
            "marker": {
             "colorbar": {
              "outlinewidth": 0,
              "ticks": ""
             }
            },
            "type": "scattercarpet"
           }
          ],
          "scattergeo": [
           {
            "marker": {
             "colorbar": {
              "outlinewidth": 0,
              "ticks": ""
             }
            },
            "type": "scattergeo"
           }
          ],
          "scattergl": [
           {
            "marker": {
             "colorbar": {
              "outlinewidth": 0,
              "ticks": ""
             }
            },
            "type": "scattergl"
           }
          ],
          "scattermapbox": [
           {
            "marker": {
             "colorbar": {
              "outlinewidth": 0,
              "ticks": ""
             }
            },
            "type": "scattermapbox"
           }
          ],
          "scatterpolar": [
           {
            "marker": {
             "colorbar": {
              "outlinewidth": 0,
              "ticks": ""
             }
            },
            "type": "scatterpolar"
           }
          ],
          "scatterpolargl": [
           {
            "marker": {
             "colorbar": {
              "outlinewidth": 0,
              "ticks": ""
             }
            },
            "type": "scatterpolargl"
           }
          ],
          "scatterternary": [
           {
            "marker": {
             "colorbar": {
              "outlinewidth": 0,
              "ticks": ""
             }
            },
            "type": "scatterternary"
           }
          ],
          "surface": [
           {
            "colorbar": {
             "outlinewidth": 0,
             "ticks": ""
            },
            "colorscale": [
             [
              0,
              "#0d0887"
             ],
             [
              0.1111111111111111,
              "#46039f"
             ],
             [
              0.2222222222222222,
              "#7201a8"
             ],
             [
              0.3333333333333333,
              "#9c179e"
             ],
             [
              0.4444444444444444,
              "#bd3786"
             ],
             [
              0.5555555555555556,
              "#d8576b"
             ],
             [
              0.6666666666666666,
              "#ed7953"
             ],
             [
              0.7777777777777778,
              "#fb9f3a"
             ],
             [
              0.8888888888888888,
              "#fdca26"
             ],
             [
              1,
              "#f0f921"
             ]
            ],
            "type": "surface"
           }
          ],
          "table": [
           {
            "cells": {
             "fill": {
              "color": "#EBF0F8"
             },
             "line": {
              "color": "white"
             }
            },
            "header": {
             "fill": {
              "color": "#C8D4E3"
             },
             "line": {
              "color": "white"
             }
            },
            "type": "table"
           }
          ]
         },
         "layout": {
          "annotationdefaults": {
           "arrowcolor": "#2a3f5f",
           "arrowhead": 0,
           "arrowwidth": 1
          },
          "autotypenumbers": "strict",
          "coloraxis": {
           "colorbar": {
            "outlinewidth": 0,
            "ticks": ""
           }
          },
          "colorscale": {
           "diverging": [
            [
             0,
             "#8e0152"
            ],
            [
             0.1,
             "#c51b7d"
            ],
            [
             0.2,
             "#de77ae"
            ],
            [
             0.3,
             "#f1b6da"
            ],
            [
             0.4,
             "#fde0ef"
            ],
            [
             0.5,
             "#f7f7f7"
            ],
            [
             0.6,
             "#e6f5d0"
            ],
            [
             0.7,
             "#b8e186"
            ],
            [
             0.8,
             "#7fbc41"
            ],
            [
             0.9,
             "#4d9221"
            ],
            [
             1,
             "#276419"
            ]
           ],
           "sequential": [
            [
             0,
             "#0d0887"
            ],
            [
             0.1111111111111111,
             "#46039f"
            ],
            [
             0.2222222222222222,
             "#7201a8"
            ],
            [
             0.3333333333333333,
             "#9c179e"
            ],
            [
             0.4444444444444444,
             "#bd3786"
            ],
            [
             0.5555555555555556,
             "#d8576b"
            ],
            [
             0.6666666666666666,
             "#ed7953"
            ],
            [
             0.7777777777777778,
             "#fb9f3a"
            ],
            [
             0.8888888888888888,
             "#fdca26"
            ],
            [
             1,
             "#f0f921"
            ]
           ],
           "sequentialminus": [
            [
             0,
             "#0d0887"
            ],
            [
             0.1111111111111111,
             "#46039f"
            ],
            [
             0.2222222222222222,
             "#7201a8"
            ],
            [
             0.3333333333333333,
             "#9c179e"
            ],
            [
             0.4444444444444444,
             "#bd3786"
            ],
            [
             0.5555555555555556,
             "#d8576b"
            ],
            [
             0.6666666666666666,
             "#ed7953"
            ],
            [
             0.7777777777777778,
             "#fb9f3a"
            ],
            [
             0.8888888888888888,
             "#fdca26"
            ],
            [
             1,
             "#f0f921"
            ]
           ]
          },
          "colorway": [
           "#636efa",
           "#EF553B",
           "#00cc96",
           "#ab63fa",
           "#FFA15A",
           "#19d3f3",
           "#FF6692",
           "#B6E880",
           "#FF97FF",
           "#FECB52"
          ],
          "font": {
           "color": "#2a3f5f"
          },
          "geo": {
           "bgcolor": "white",
           "lakecolor": "white",
           "landcolor": "#E5ECF6",
           "showlakes": true,
           "showland": true,
           "subunitcolor": "white"
          },
          "hoverlabel": {
           "align": "left"
          },
          "hovermode": "closest",
          "mapbox": {
           "style": "light"
          },
          "paper_bgcolor": "white",
          "plot_bgcolor": "#E5ECF6",
          "polar": {
           "angularaxis": {
            "gridcolor": "white",
            "linecolor": "white",
            "ticks": ""
           },
           "bgcolor": "#E5ECF6",
           "radialaxis": {
            "gridcolor": "white",
            "linecolor": "white",
            "ticks": ""
           }
          },
          "scene": {
           "xaxis": {
            "backgroundcolor": "#E5ECF6",
            "gridcolor": "white",
            "gridwidth": 2,
            "linecolor": "white",
            "showbackground": true,
            "ticks": "",
            "zerolinecolor": "white"
           },
           "yaxis": {
            "backgroundcolor": "#E5ECF6",
            "gridcolor": "white",
            "gridwidth": 2,
            "linecolor": "white",
            "showbackground": true,
            "ticks": "",
            "zerolinecolor": "white"
           },
           "zaxis": {
            "backgroundcolor": "#E5ECF6",
            "gridcolor": "white",
            "gridwidth": 2,
            "linecolor": "white",
            "showbackground": true,
            "ticks": "",
            "zerolinecolor": "white"
           }
          },
          "shapedefaults": {
           "line": {
            "color": "#2a3f5f"
           }
          },
          "ternary": {
           "aaxis": {
            "gridcolor": "white",
            "linecolor": "white",
            "ticks": ""
           },
           "baxis": {
            "gridcolor": "white",
            "linecolor": "white",
            "ticks": ""
           },
           "bgcolor": "#E5ECF6",
           "caxis": {
            "gridcolor": "white",
            "linecolor": "white",
            "ticks": ""
           }
          },
          "title": {
           "x": 0.05
          },
          "xaxis": {
           "automargin": true,
           "gridcolor": "white",
           "linecolor": "white",
           "ticks": "",
           "title": {
            "standoff": 15
           },
           "zerolinecolor": "white",
           "zerolinewidth": 2
          },
          "yaxis": {
           "automargin": true,
           "gridcolor": "white",
           "linecolor": "white",
           "ticks": "",
           "title": {
            "standoff": 15
           },
           "zerolinecolor": "white",
           "zerolinewidth": 2
          }
         }
        },
        "title": {
         "text": "Matched DCAM and Stock Data Visualization"
        },
        "xaxis": {
         "anchor": "y",
         "domain": [
          0,
          0.45
         ],
         "title": {
          "text": "Time"
         }
        },
        "xaxis2": {
         "anchor": "y2",
         "domain": [
          0.55,
          1
         ],
         "title": {
          "text": "Time"
         }
        },
        "yaxis": {
         "anchor": "x",
         "domain": [
          0,
          1
         ],
         "title": {
          "text": "DCAM Value"
         }
        },
        "yaxis2": {
         "anchor": "x2",
         "domain": [
          0,
          1
         ],
         "title": {
          "text": "Stock Data Value"
         }
        }
       }
      }
     },
     "metadata": {},
     "output_type": "display_data"
    },
    {
     "name": "stderr",
     "output_type": "stream",
     "text": [
      "100%|██████████| 200/200 [00:00<00:00, 377.15it/s]\n"
     ]
    },
    {
     "data": {
      "application/vnd.plotly.v1+json": {
       "config": {
        "plotlyServerURL": "https://plot.ly"
       },
       "data": [
        {
         "name": "DCAM-1",
         "type": "scatter",
         "x": [
          0,
          1,
          2,
          3,
          4,
          5,
          6,
          7,
          8,
          9,
          10,
          11,
          12,
          13,
          14,
          15,
          16,
          17,
          18,
          19,
          20,
          21,
          22,
          23,
          24,
          25,
          26,
          27,
          28,
          29
         ],
         "xaxis": "x",
         "y": [
          0.0008026240602808069,
          0.001842684966431346,
          0.0004033328859356516,
          0.00038418639686587394,
          0.004299127021582334,
          0.0005152834339914065,
          0.00022646940766576278,
          0.00037028150969121754,
          0.00019701548734863577,
          0.00010567293130533682,
          0.000022772788033392902,
          0.000043762997437861254,
          0.00004850432289252658,
          0.0017652508420254438,
          0.00016129679119563723,
          0.000053102542419082355,
          0.00005055355254176639,
          0.00007543224277932389,
          0.00002249055563501679,
          0.0002122250728080551,
          0.0004029096955652775,
          0.0007727847509086071,
          0.0015502342786712854,
          0.0011231270493418804,
          0.0005418568095779745,
          0.0007073145505089719,
          0.00045471070175207576,
          0.00010812666050669486,
          0.00017695035130849666,
          0.00024915297647362303
         ],
         "yaxis": "y"
        },
        {
         "name": "DCAM-2",
         "type": "scatter",
         "x": [
          0,
          1,
          2,
          3,
          4,
          5,
          6,
          7,
          8,
          9,
          10,
          11,
          12,
          13,
          14,
          15,
          16,
          17,
          18,
          19,
          20,
          21,
          22,
          23,
          24,
          25,
          26,
          27,
          28,
          29
         ],
         "xaxis": "x",
         "y": [
          0.0024226397654825062,
          0.0015626357905776872,
          0.00034221735557055625,
          0.0024212111074770897,
          0.003411952485359433,
          0.0003922958849592237,
          0.00034330516051669593,
          0.0005734905156262299,
          0.00033500312732915574,
          0.00018785424659634794,
          0.0001050118387148702,
          0.000041362334153722224,
          0.0011108666566339424,
          0.0007868311627472989,
          0.0004203829084436792,
          0.00011950446993013137,
          0.00016458138082551434,
          0.0002464255970957713,
          0.00020292188565033674,
          0.00017847440120829475,
          0.0007075335312632796,
          0.0006486572143465991,
          0.0018401004333440277,
          0.0010194440089899312,
          0.00048023269604057753,
          0.0011111249355620241,
          0.00030516317437480697,
          0.00008005375316223969,
          0.0003578860138829526,
          0.0005648458358653857
         ],
         "yaxis": "y"
        },
        {
         "name": "DCAM-3",
         "type": "scatter",
         "x": [
          0,
          1,
          2,
          3,
          4,
          5,
          6,
          7,
          8,
          9,
          10,
          11,
          12,
          13,
          14,
          15,
          16,
          17,
          18,
          19,
          20,
          21,
          22,
          23,
          24,
          25,
          26,
          27,
          28,
          29
         ],
         "xaxis": "x",
         "y": [
          0.003072240742969114,
          0.0035902729221140802,
          0.0011682361899020667,
          0.00535968311273064,
          0.006974503214767978,
          0.0005538446069120237,
          0.0004588991866792032,
          0.00020869409611228742,
          0.00005806097619952343,
          0.00027726661982165046,
          0.000020441660698852046,
          0.000012235265166236107,
          0.0015061785387150486,
          0.0018871157313044204,
          0.00015889729044597526,
          0.00020264483547514578,
          0.0003656881002042138,
          0.0002957031382010834,
          0.00038866805619655186,
          0.0004294185623053244,
          0.0009327572452983822,
          0.0009823118237261054,
          0.0018443504939857816,
          0.003333702182049174,
          0.001311745237099668,
          0.0012469587549303032,
          0.0012357432971643473,
          0.0005659020930153126,
          0.0006141817029703379,
          0.0011189973600305425
         ],
         "yaxis": "y"
        },
        {
         "name": "DCAM-4",
         "type": "scatter",
         "x": [
          0,
          1,
          2,
          3,
          4,
          5,
          6,
          7,
          8,
          9,
          10,
          11,
          12,
          13,
          14,
          15,
          16,
          17,
          18,
          19,
          20,
          21,
          22,
          23,
          24,
          25,
          26,
          27,
          28,
          29
         ],
         "xaxis": "x",
         "y": [
          0.0012380734071592158,
          0.000655467850564334,
          0.0000961582492699393,
          0.0023060766180863306,
          0.0007690693312537225,
          0.0003323131527873953,
          0.00027551984800760424,
          0.0002120308794507991,
          0.00019649033380645016,
          0.00013624025515069363,
          0.00003316410495538485,
          0.00001775871189123113,
          0.0015802564770666383,
          0.0006672827654790407,
          0.0001370309668418623,
          0.00005947343722175271,
          0.0001889644807578828,
          0.00010413322203520851,
          0.00013265664539317728,
          0.00005441792487194971,
          0.0002891419619503594,
          0.0009261466101152238,
          0.0005551889335529382,
          0.0004583520411107071,
          0.0001946344412997165,
          0.0006201008900801736,
          0.00028126378130374216,
          0.00006469039198181305,
          0.00010307173151698813,
          0.0002073689153844257
         ],
         "yaxis": "y"
        },
        {
         "name": "DCAM-5",
         "type": "scatter",
         "x": [
          0,
          1,
          2,
          3,
          4,
          5,
          6,
          7,
          8,
          9,
          10,
          11,
          12,
          13,
          14,
          15,
          16,
          17,
          18,
          19,
          20,
          21,
          22,
          23,
          24,
          25,
          26,
          27,
          28,
          29
         ],
         "xaxis": "x",
         "y": [
          0.002531018354629215,
          0.0018919993228441144,
          0.0008777821302537692,
          0.004338408302798587,
          0.002236247310020372,
          0.0015561442844367337,
          0.0008639853286206902,
          0.0006555286998121,
          0.00030299568236426033,
          0.00022577533448920708,
          0.00004010346773620243,
          0.00003376039436843197,
          0.0016469536609384052,
          0.00027121141455256734,
          0.0001931934887322133,
          0.00010612839036251064,
          0.00026578987944138565,
          0.00009176406790630548,
          0.00027384582952525593,
          0.0002028055571208165,
          0.001812041627053357,
          0.0019378772814096388,
          0.0029363583932405144,
          0.001562523785987796,
          0.000756399071119042,
          0.0015663237759945103,
          0.0005489648211582449,
          0.0005087754941761578,
          0.0006461871625106873,
          0.0007679156949438119
         ],
         "yaxis": "y"
        },
        {
         "name": "DCAM-6",
         "type": "scatter",
         "x": [
          0,
          1,
          2,
          3,
          4,
          5,
          6,
          7,
          8,
          9,
          10,
          11,
          12,
          13,
          14,
          15,
          16,
          17,
          18,
          19,
          20,
          21,
          22,
          23,
          24,
          25,
          26,
          27,
          28,
          29
         ],
         "xaxis": "x",
         "y": [
          0.0032415601966568216,
          0.00020196998196654893,
          0.0002202957446276981,
          0.006316409395092114,
          0.0003612564756325985,
          0.00017287150806714712,
          0.0005169579428701349,
          0.0003349255294015632,
          0.00031259704500510735,
          0.00003583263814593295,
          0.00008585031720047789,
          0.000032567709528101164,
          0.002960482842638884,
          0.000364500431798719,
          0.000020625078428491915,
          0.00021442506969482884,
          0.0001010692847817649,
          0.0001276963825840587,
          0.0003028857337714234,
          0.0000311420398526362,
          0.0005103317604314293,
          0.000904600514652814,
          0.0012392500147680634,
          0.00044081759515296405,
          0.00013209883560494026,
          0.0005282196043326853,
          0.000017778098985130285,
          0.0002148305456429267,
          0.00016460940207277665,
          0.00010921742720156318
         ],
         "yaxis": "y"
        },
        {
         "name": "Stock Data-1",
         "type": "scatter",
         "x": [
          0,
          1,
          2,
          3,
          4,
          5,
          6,
          7,
          8,
          9,
          10,
          11,
          12,
          13,
          14,
          15,
          16,
          17,
          18,
          19,
          20,
          21,
          22,
          23,
          24,
          25,
          26,
          27,
          28,
          29
         ],
         "xaxis": "x2",
         "y": [
          0.7465470283221838,
          0.7388578852336187,
          0.790118114928029,
          0.7868432221963553,
          0.8086287654992774,
          0.8167448417940886,
          0.8251459747640109,
          0.8645876504192689,
          0.8315534491586103,
          0.8385303850970112,
          0.8220133931010851,
          0.8477858190170391,
          0.8660116301819833,
          0.8526270025801757,
          0.8816743212278033,
          0.8980492194237879,
          0.934358530684928,
          0.9649721401640181,
          0.9335042297348224,
          0.9088707269064713,
          0.9312259490220023,
          0.9006121222741048,
          0.8991883597801977,
          0.9065924461936512,
          0.9182684718952476,
          0.9144239003509651,
          0.9382028849604032,
          0.9588495051757229,
          0.955289773037745,
          0.9836251018040154
         ],
         "yaxis": "y2"
        },
        {
         "name": "Stock Data-2",
         "type": "scatter",
         "x": [
          0,
          1,
          2,
          3,
          4,
          5,
          6,
          7,
          8,
          9,
          10,
          11,
          12,
          13,
          14,
          15,
          16,
          17,
          18,
          19,
          20,
          21,
          22,
          23,
          24,
          25,
          26,
          27,
          28,
          29
         ],
         "xaxis": "x2",
         "y": [
          0.7584446603062391,
          0.7531933066192631,
          0.7729208031805677,
          0.7964803218248873,
          0.8001702808117479,
          0.8035765467254945,
          0.8338065341011525,
          0.8404770028324913,
          0.8278457311717944,
          0.8180529061594208,
          0.8413285151710286,
          0.8485665866081928,
          0.8555209649722431,
          0.8603463459303524,
          0.8817768671687312,
          0.8841897742073839,
          0.9467783132454455,
          0.9382629733004755,
          0.9254896385436238,
          0.9118650080078325,
          0.9210900137547828,
          0.8830543522361347,
          0.8732615272237612,
          0.9073233201228368,
          0.900085248685673,
          0.8999431855895181,
          0.9445076858625454,
          0.9446495323991024,
          1.0000000000000002,
          0.9750213663113179
         ],
         "yaxis": "y2"
        },
        {
         "name": "Stock Data-3",
         "type": "scatter",
         "x": [
          0,
          1,
          2,
          3,
          4,
          5,
          6,
          7,
          8,
          9,
          10,
          11,
          12,
          13,
          14,
          15,
          16,
          17,
          18,
          19,
          20,
          21,
          22,
          23,
          24,
          25,
          26,
          27,
          28,
          29
         ],
         "xaxis": "x2",
         "y": [
          0.7474336759819453,
          0.7494024481440433,
          0.7939812435558922,
          0.7987625167238341,
          0.8194347317159003,
          0.8135284152296058,
          0.8382787244931349,
          0.8451695343505141,
          0.8471383065126126,
          0.8215440538252652,
          0.8367318167529099,
          0.8555758095301444,
          0.858669625010595,
          0.8648572559714951,
          0.8919984163990675,
          0.9108424091763021,
          0.9434678070882232,
          0.9504991668928697,
          0.9344676751214791,
          0.914498639025892,
          0.9291239875843968,
          0.8841231131706027,
          0.8779356967897749,
          0.904232913793529,
          0.9226550421488906,
          0.9205457200395257,
          0.9512023457893488,
          0.9597806133342199,
          0.9630149787619373,
          0.960905656652572
         ],
         "yaxis": "y2"
        },
        {
         "name": "Stock Data-4",
         "type": "scatter",
         "x": [
          0,
          1,
          2,
          3,
          4,
          5,
          6,
          7,
          8,
          9,
          10,
          11,
          12,
          13,
          14,
          15,
          16,
          17,
          18,
          19,
          20,
          21,
          22,
          23,
          24,
          25,
          26,
          27,
          28,
          29
         ],
         "xaxis": "x2",
         "y": [
          0.7391853626707388,
          0.7776845925216556,
          0.7831444747557619,
          0.8227634942178206,
          0.816043688457099,
          0.8250035006776524,
          0.8538428895869714,
          0.8385832461145681,
          0.8398431696411834,
          0.8251436345931253,
          0.8677026892360598,
          0.8632226763163962,
          0.8434832335431035,
          0.8825423581995913,
          0.8992020591140824,
          0.9039619126271448,
          0.9652807543477029,
          0.9441412541323215,
          0.928321502235574,
          0.9350413079962956,
          0.9192215560995476,
          0.8902422468935289,
          0.8828224124117634,
          0.9064819732991487,
          0.9172616038518884,
          0.9193616900150205,
          0.965560808559875,
          0.9619207446579554,
          0.9811005062444504,
          0.9535210408617467
         ],
         "yaxis": "y2"
        },
        {
         "name": "Stock Data-5",
         "type": "scatter",
         "x": [
          0,
          1,
          2,
          3,
          4,
          5,
          6,
          7,
          8,
          9,
          10,
          11,
          12,
          13,
          14,
          15,
          16,
          17,
          18,
          19,
          20,
          21,
          22,
          23,
          24,
          25,
          26,
          27,
          28,
          29
         ],
         "xaxis": "x2",
         "y": [
          0.7405040392178064,
          0.7788086105848406,
          0.7842409850251624,
          0.8236596986133558,
          0.8169737811582056,
          0.8258884087069522,
          0.8545819870338107,
          0.8393994315852829,
          0.8406529746001112,
          0.8260278095006219,
          0.868371598673841,
          0.863914178486648,
          0.8442746285022058,
          0.883136164567,
          0.8997116638240255,
          0.9044474599472792,
          0.9654562705030902,
          0.94442377671015,
          0.9286838309125836,
          0.9353697483677337,
          0.919630015395807,
          0.8907972491009182,
          0.8834149661543389,
          0.9069547588025748,
          0.9176798940639102,
          0.9197694161894763,
          0.9657348592647899,
          0.9621132053626953,
          0.9811960034750173,
          0.9537559681629872
         ],
         "yaxis": "y2"
        },
        {
         "name": "Stock Data-6",
         "type": "scatter",
         "x": [
          0,
          1,
          2,
          3,
          4,
          5,
          6,
          7,
          8,
          9,
          10,
          11,
          12,
          13,
          14,
          15,
          16,
          17,
          18,
          19,
          20,
          21,
          22,
          23,
          24,
          25,
          26,
          27,
          28,
          29
         ],
         "xaxis": "x2",
         "y": [
          0.2480604007677843,
          0.15261869289522872,
          0.14168126536321263,
          0.1856539226080582,
          0.19097698844011063,
          0.21159390101310754,
          0.27644628805255694,
          0.567761684178322,
          0.1492354297142941,
          0.14692947303926557,
          0.1610028063671744,
          0.17592561703055598,
          0.13531832210325384,
          0.15681644536046235,
          0.16077090881869766,
          0.12114897505351951,
          0.43622288527743497,
          0,
          0.1258113362913154,
          0.11095361967662903,
          0.12465347590014902,
          0.23160462525763004,
          0.12351514372359118,
          0.23834185929758644,
          0.08042451083856594,
          0.08230898354829286,
          0.15510284452856044,
          0.13747537614189204,
          0.39910056298215374,
          0.22882999143199584
         ],
         "yaxis": "y2"
        }
       ],
       "layout": {
        "showlegend": true,
        "template": {
         "data": {
          "bar": [
           {
            "error_x": {
             "color": "#2a3f5f"
            },
            "error_y": {
             "color": "#2a3f5f"
            },
            "marker": {
             "line": {
              "color": "#E5ECF6",
              "width": 0.5
             },
             "pattern": {
              "fillmode": "overlay",
              "size": 10,
              "solidity": 0.2
             }
            },
            "type": "bar"
           }
          ],
          "barpolar": [
           {
            "marker": {
             "line": {
              "color": "#E5ECF6",
              "width": 0.5
             },
             "pattern": {
              "fillmode": "overlay",
              "size": 10,
              "solidity": 0.2
             }
            },
            "type": "barpolar"
           }
          ],
          "carpet": [
           {
            "aaxis": {
             "endlinecolor": "#2a3f5f",
             "gridcolor": "white",
             "linecolor": "white",
             "minorgridcolor": "white",
             "startlinecolor": "#2a3f5f"
            },
            "baxis": {
             "endlinecolor": "#2a3f5f",
             "gridcolor": "white",
             "linecolor": "white",
             "minorgridcolor": "white",
             "startlinecolor": "#2a3f5f"
            },
            "type": "carpet"
           }
          ],
          "choropleth": [
           {
            "colorbar": {
             "outlinewidth": 0,
             "ticks": ""
            },
            "type": "choropleth"
           }
          ],
          "contour": [
           {
            "colorbar": {
             "outlinewidth": 0,
             "ticks": ""
            },
            "colorscale": [
             [
              0,
              "#0d0887"
             ],
             [
              0.1111111111111111,
              "#46039f"
             ],
             [
              0.2222222222222222,
              "#7201a8"
             ],
             [
              0.3333333333333333,
              "#9c179e"
             ],
             [
              0.4444444444444444,
              "#bd3786"
             ],
             [
              0.5555555555555556,
              "#d8576b"
             ],
             [
              0.6666666666666666,
              "#ed7953"
             ],
             [
              0.7777777777777778,
              "#fb9f3a"
             ],
             [
              0.8888888888888888,
              "#fdca26"
             ],
             [
              1,
              "#f0f921"
             ]
            ],
            "type": "contour"
           }
          ],
          "contourcarpet": [
           {
            "colorbar": {
             "outlinewidth": 0,
             "ticks": ""
            },
            "type": "contourcarpet"
           }
          ],
          "heatmap": [
           {
            "colorbar": {
             "outlinewidth": 0,
             "ticks": ""
            },
            "colorscale": [
             [
              0,
              "#0d0887"
             ],
             [
              0.1111111111111111,
              "#46039f"
             ],
             [
              0.2222222222222222,
              "#7201a8"
             ],
             [
              0.3333333333333333,
              "#9c179e"
             ],
             [
              0.4444444444444444,
              "#bd3786"
             ],
             [
              0.5555555555555556,
              "#d8576b"
             ],
             [
              0.6666666666666666,
              "#ed7953"
             ],
             [
              0.7777777777777778,
              "#fb9f3a"
             ],
             [
              0.8888888888888888,
              "#fdca26"
             ],
             [
              1,
              "#f0f921"
             ]
            ],
            "type": "heatmap"
           }
          ],
          "heatmapgl": [
           {
            "colorbar": {
             "outlinewidth": 0,
             "ticks": ""
            },
            "colorscale": [
             [
              0,
              "#0d0887"
             ],
             [
              0.1111111111111111,
              "#46039f"
             ],
             [
              0.2222222222222222,
              "#7201a8"
             ],
             [
              0.3333333333333333,
              "#9c179e"
             ],
             [
              0.4444444444444444,
              "#bd3786"
             ],
             [
              0.5555555555555556,
              "#d8576b"
             ],
             [
              0.6666666666666666,
              "#ed7953"
             ],
             [
              0.7777777777777778,
              "#fb9f3a"
             ],
             [
              0.8888888888888888,
              "#fdca26"
             ],
             [
              1,
              "#f0f921"
             ]
            ],
            "type": "heatmapgl"
           }
          ],
          "histogram": [
           {
            "marker": {
             "pattern": {
              "fillmode": "overlay",
              "size": 10,
              "solidity": 0.2
             }
            },
            "type": "histogram"
           }
          ],
          "histogram2d": [
           {
            "colorbar": {
             "outlinewidth": 0,
             "ticks": ""
            },
            "colorscale": [
             [
              0,
              "#0d0887"
             ],
             [
              0.1111111111111111,
              "#46039f"
             ],
             [
              0.2222222222222222,
              "#7201a8"
             ],
             [
              0.3333333333333333,
              "#9c179e"
             ],
             [
              0.4444444444444444,
              "#bd3786"
             ],
             [
              0.5555555555555556,
              "#d8576b"
             ],
             [
              0.6666666666666666,
              "#ed7953"
             ],
             [
              0.7777777777777778,
              "#fb9f3a"
             ],
             [
              0.8888888888888888,
              "#fdca26"
             ],
             [
              1,
              "#f0f921"
             ]
            ],
            "type": "histogram2d"
           }
          ],
          "histogram2dcontour": [
           {
            "colorbar": {
             "outlinewidth": 0,
             "ticks": ""
            },
            "colorscale": [
             [
              0,
              "#0d0887"
             ],
             [
              0.1111111111111111,
              "#46039f"
             ],
             [
              0.2222222222222222,
              "#7201a8"
             ],
             [
              0.3333333333333333,
              "#9c179e"
             ],
             [
              0.4444444444444444,
              "#bd3786"
             ],
             [
              0.5555555555555556,
              "#d8576b"
             ],
             [
              0.6666666666666666,
              "#ed7953"
             ],
             [
              0.7777777777777778,
              "#fb9f3a"
             ],
             [
              0.8888888888888888,
              "#fdca26"
             ],
             [
              1,
              "#f0f921"
             ]
            ],
            "type": "histogram2dcontour"
           }
          ],
          "mesh3d": [
           {
            "colorbar": {
             "outlinewidth": 0,
             "ticks": ""
            },
            "type": "mesh3d"
           }
          ],
          "parcoords": [
           {
            "line": {
             "colorbar": {
              "outlinewidth": 0,
              "ticks": ""
             }
            },
            "type": "parcoords"
           }
          ],
          "pie": [
           {
            "automargin": true,
            "type": "pie"
           }
          ],
          "scatter": [
           {
            "fillpattern": {
             "fillmode": "overlay",
             "size": 10,
             "solidity": 0.2
            },
            "type": "scatter"
           }
          ],
          "scatter3d": [
           {
            "line": {
             "colorbar": {
              "outlinewidth": 0,
              "ticks": ""
             }
            },
            "marker": {
             "colorbar": {
              "outlinewidth": 0,
              "ticks": ""
             }
            },
            "type": "scatter3d"
           }
          ],
          "scattercarpet": [
           {
            "marker": {
             "colorbar": {
              "outlinewidth": 0,
              "ticks": ""
             }
            },
            "type": "scattercarpet"
           }
          ],
          "scattergeo": [
           {
            "marker": {
             "colorbar": {
              "outlinewidth": 0,
              "ticks": ""
             }
            },
            "type": "scattergeo"
           }
          ],
          "scattergl": [
           {
            "marker": {
             "colorbar": {
              "outlinewidth": 0,
              "ticks": ""
             }
            },
            "type": "scattergl"
           }
          ],
          "scattermapbox": [
           {
            "marker": {
             "colorbar": {
              "outlinewidth": 0,
              "ticks": ""
             }
            },
            "type": "scattermapbox"
           }
          ],
          "scatterpolar": [
           {
            "marker": {
             "colorbar": {
              "outlinewidth": 0,
              "ticks": ""
             }
            },
            "type": "scatterpolar"
           }
          ],
          "scatterpolargl": [
           {
            "marker": {
             "colorbar": {
              "outlinewidth": 0,
              "ticks": ""
             }
            },
            "type": "scatterpolargl"
           }
          ],
          "scatterternary": [
           {
            "marker": {
             "colorbar": {
              "outlinewidth": 0,
              "ticks": ""
             }
            },
            "type": "scatterternary"
           }
          ],
          "surface": [
           {
            "colorbar": {
             "outlinewidth": 0,
             "ticks": ""
            },
            "colorscale": [
             [
              0,
              "#0d0887"
             ],
             [
              0.1111111111111111,
              "#46039f"
             ],
             [
              0.2222222222222222,
              "#7201a8"
             ],
             [
              0.3333333333333333,
              "#9c179e"
             ],
             [
              0.4444444444444444,
              "#bd3786"
             ],
             [
              0.5555555555555556,
              "#d8576b"
             ],
             [
              0.6666666666666666,
              "#ed7953"
             ],
             [
              0.7777777777777778,
              "#fb9f3a"
             ],
             [
              0.8888888888888888,
              "#fdca26"
             ],
             [
              1,
              "#f0f921"
             ]
            ],
            "type": "surface"
           }
          ],
          "table": [
           {
            "cells": {
             "fill": {
              "color": "#EBF0F8"
             },
             "line": {
              "color": "white"
             }
            },
            "header": {
             "fill": {
              "color": "#C8D4E3"
             },
             "line": {
              "color": "white"
             }
            },
            "type": "table"
           }
          ]
         },
         "layout": {
          "annotationdefaults": {
           "arrowcolor": "#2a3f5f",
           "arrowhead": 0,
           "arrowwidth": 1
          },
          "autotypenumbers": "strict",
          "coloraxis": {
           "colorbar": {
            "outlinewidth": 0,
            "ticks": ""
           }
          },
          "colorscale": {
           "diverging": [
            [
             0,
             "#8e0152"
            ],
            [
             0.1,
             "#c51b7d"
            ],
            [
             0.2,
             "#de77ae"
            ],
            [
             0.3,
             "#f1b6da"
            ],
            [
             0.4,
             "#fde0ef"
            ],
            [
             0.5,
             "#f7f7f7"
            ],
            [
             0.6,
             "#e6f5d0"
            ],
            [
             0.7,
             "#b8e186"
            ],
            [
             0.8,
             "#7fbc41"
            ],
            [
             0.9,
             "#4d9221"
            ],
            [
             1,
             "#276419"
            ]
           ],
           "sequential": [
            [
             0,
             "#0d0887"
            ],
            [
             0.1111111111111111,
             "#46039f"
            ],
            [
             0.2222222222222222,
             "#7201a8"
            ],
            [
             0.3333333333333333,
             "#9c179e"
            ],
            [
             0.4444444444444444,
             "#bd3786"
            ],
            [
             0.5555555555555556,
             "#d8576b"
            ],
            [
             0.6666666666666666,
             "#ed7953"
            ],
            [
             0.7777777777777778,
             "#fb9f3a"
            ],
            [
             0.8888888888888888,
             "#fdca26"
            ],
            [
             1,
             "#f0f921"
            ]
           ],
           "sequentialminus": [
            [
             0,
             "#0d0887"
            ],
            [
             0.1111111111111111,
             "#46039f"
            ],
            [
             0.2222222222222222,
             "#7201a8"
            ],
            [
             0.3333333333333333,
             "#9c179e"
            ],
            [
             0.4444444444444444,
             "#bd3786"
            ],
            [
             0.5555555555555556,
             "#d8576b"
            ],
            [
             0.6666666666666666,
             "#ed7953"
            ],
            [
             0.7777777777777778,
             "#fb9f3a"
            ],
            [
             0.8888888888888888,
             "#fdca26"
            ],
            [
             1,
             "#f0f921"
            ]
           ]
          },
          "colorway": [
           "#636efa",
           "#EF553B",
           "#00cc96",
           "#ab63fa",
           "#FFA15A",
           "#19d3f3",
           "#FF6692",
           "#B6E880",
           "#FF97FF",
           "#FECB52"
          ],
          "font": {
           "color": "#2a3f5f"
          },
          "geo": {
           "bgcolor": "white",
           "lakecolor": "white",
           "landcolor": "#E5ECF6",
           "showlakes": true,
           "showland": true,
           "subunitcolor": "white"
          },
          "hoverlabel": {
           "align": "left"
          },
          "hovermode": "closest",
          "mapbox": {
           "style": "light"
          },
          "paper_bgcolor": "white",
          "plot_bgcolor": "#E5ECF6",
          "polar": {
           "angularaxis": {
            "gridcolor": "white",
            "linecolor": "white",
            "ticks": ""
           },
           "bgcolor": "#E5ECF6",
           "radialaxis": {
            "gridcolor": "white",
            "linecolor": "white",
            "ticks": ""
           }
          },
          "scene": {
           "xaxis": {
            "backgroundcolor": "#E5ECF6",
            "gridcolor": "white",
            "gridwidth": 2,
            "linecolor": "white",
            "showbackground": true,
            "ticks": "",
            "zerolinecolor": "white"
           },
           "yaxis": {
            "backgroundcolor": "#E5ECF6",
            "gridcolor": "white",
            "gridwidth": 2,
            "linecolor": "white",
            "showbackground": true,
            "ticks": "",
            "zerolinecolor": "white"
           },
           "zaxis": {
            "backgroundcolor": "#E5ECF6",
            "gridcolor": "white",
            "gridwidth": 2,
            "linecolor": "white",
            "showbackground": true,
            "ticks": "",
            "zerolinecolor": "white"
           }
          },
          "shapedefaults": {
           "line": {
            "color": "#2a3f5f"
           }
          },
          "ternary": {
           "aaxis": {
            "gridcolor": "white",
            "linecolor": "white",
            "ticks": ""
           },
           "baxis": {
            "gridcolor": "white",
            "linecolor": "white",
            "ticks": ""
           },
           "bgcolor": "#E5ECF6",
           "caxis": {
            "gridcolor": "white",
            "linecolor": "white",
            "ticks": ""
           }
          },
          "title": {
           "x": 0.05
          },
          "xaxis": {
           "automargin": true,
           "gridcolor": "white",
           "linecolor": "white",
           "ticks": "",
           "title": {
            "standoff": 15
           },
           "zerolinecolor": "white",
           "zerolinewidth": 2
          },
          "yaxis": {
           "automargin": true,
           "gridcolor": "white",
           "linecolor": "white",
           "ticks": "",
           "title": {
            "standoff": 15
           },
           "zerolinecolor": "white",
           "zerolinewidth": 2
          }
         }
        },
        "title": {
         "text": "Matched DCAM and Stock Data Visualization"
        },
        "xaxis": {
         "anchor": "y",
         "domain": [
          0,
          0.45
         ],
         "title": {
          "text": "Time"
         }
        },
        "xaxis2": {
         "anchor": "y2",
         "domain": [
          0.55,
          1
         ],
         "title": {
          "text": "Time"
         }
        },
        "yaxis": {
         "anchor": "x",
         "domain": [
          0,
          1
         ],
         "title": {
          "text": "DCAM Value"
         }
        },
        "yaxis2": {
         "anchor": "x2",
         "domain": [
          0,
          1
         ],
         "title": {
          "text": "Stock Data Value"
         }
        }
       }
      }
     },
     "metadata": {},
     "output_type": "display_data"
    },
    {
     "name": "stderr",
     "output_type": "stream",
     "text": [
      "100%|██████████| 200/200 [00:00<00:00, 365.92it/s]\n"
     ]
    },
    {
     "data": {
      "application/vnd.plotly.v1+json": {
       "config": {
        "plotlyServerURL": "https://plot.ly"
       },
       "data": [
        {
         "name": "DCAM-1",
         "type": "scatter",
         "x": [
          0,
          1,
          2,
          3,
          4,
          5,
          6,
          7,
          8,
          9,
          10,
          11,
          12,
          13,
          14,
          15,
          16,
          17,
          18,
          19,
          20,
          21,
          22,
          23,
          24,
          25,
          26,
          27,
          28,
          29
         ],
         "xaxis": "x",
         "y": [
          0.0004170076521707843,
          0.0014147033195518054,
          0.00034444587838030477,
          0.00029893339898453853,
          0.00028787086263416394,
          0.00028404244653231614,
          0.0006070460172263352,
          0.00044834226683241154,
          0.0003852326056416462,
          0.00041489204748486384,
          0.000056202141601782656,
          0.0003768783198496262,
          0.00014824999933866467,
          0.00022044385072021329,
          0.0004226573077232637,
          0.0000796749220098107,
          0.0002548613297387031,
          0.00004447260732700436,
          0.001447689206572366,
          0.000271477313385365,
          0.00037637144122893383,
          0.0016294565782100886,
          0.00022384694777957822,
          0.000052186978574205465,
          0.00020048253571024852,
          0.0006211603136015205,
          0.0007281569016799428,
          0.0009111737026828152,
          0.0011006221219175849,
          0.0012205059563501458
         ],
         "yaxis": "y"
        },
        {
         "name": "DCAM-2",
         "type": "scatter",
         "x": [
          0,
          1,
          2,
          3,
          4,
          5,
          6,
          7,
          8,
          9,
          10,
          11,
          12,
          13,
          14,
          15,
          16,
          17,
          18,
          19,
          20,
          21,
          22,
          23,
          24,
          25,
          26,
          27,
          28,
          29
         ],
         "xaxis": "x",
         "y": [
          0.0012865470595951473,
          0.001405176512391898,
          0.00028500104298678113,
          0.0006748769220445474,
          0.00040653160102962805,
          0.0006084985159072751,
          0.0012789431502122953,
          0.0008636128904191744,
          0.0007914746028917191,
          0.00045164845329097157,
          0.00017166633809348377,
          0.0005331697774717905,
          0.0006306592911874356,
          0.000639621109354309,
          0.0007635264128921657,
          0.0001338984803841022,
          0.0002817076033335095,
          0.0011931392589806223,
          0.0022745022128734423,
          0.0003881795130924542,
          0.0012499638938323055,
          0.0024845301355234236,
          0.00031203618451120413,
          0.00008921102206656988,
          0.0003837447615658188,
          0.0010652447683160684,
          0.0007377858436636596,
          0.0014085044403126467,
          0.001650842417367729,
          0.0018957964120633662
         ],
         "yaxis": "y"
        },
        {
         "name": "DCAM-3",
         "type": "scatter",
         "x": [
          0,
          1,
          2,
          3,
          4,
          5,
          6,
          7,
          8,
          9,
          10,
          11,
          12,
          13,
          14,
          15,
          16,
          17,
          18,
          19,
          20,
          21,
          22,
          23,
          24,
          25,
          26,
          27,
          28,
          29
         ],
         "xaxis": "x",
         "y": [
          0.0022790320552706273,
          0.0019038974088720507,
          0.0002055533977524589,
          0.00008696101899384065,
          0.0003348575638907383,
          0.00016939145403579314,
          0.0005009988255288211,
          0.00016443783511899593,
          0.00022129664993279506,
          0.0006999245961808514,
          0.00005879572534256133,
          0.00007101944624709794,
          0.00011980107116104905,
          0.00021709416663187898,
          0.0004912951079235869,
          0.00007137334489350305,
          0.0002300658694028879,
          0.00096746820000306,
          0.0008284213794743751,
          0.0004247645975559618,
          0.00018765023345228494,
          0.0007525095162777364,
          0.00016991940927493524,
          0.00021269502125829273,
          0.0016320158423114353,
          0.0017312429852349306,
          0.0018637914908992616,
          0.0015601589323990378,
          0.0013774826172081632,
          0.0013335629282494766
         ],
         "yaxis": "y"
        },
        {
         "name": "DCAM-4",
         "type": "scatter",
         "x": [
          0,
          1,
          2,
          3,
          4,
          5,
          6,
          7,
          8,
          9,
          10,
          11,
          12,
          13,
          14,
          15,
          16,
          17,
          18,
          19,
          20,
          21,
          22,
          23,
          24,
          25,
          26,
          27,
          28,
          29
         ],
         "xaxis": "x",
         "y": [
          0.000943376913854813,
          0.0005904018944959586,
          0.00025677035067610775,
          0.00025145308706138426,
          0.00048045548750444254,
          0.0005406369704891786,
          0.000987632920922322,
          0.0004716339164095802,
          0.00018638538045063664,
          0.00011790392218635273,
          0.0003109893479832334,
          0.0003459366346464211,
          0.00030650553337918353,
          0.00035654717270186775,
          0.0003970499767388196,
          0.00033261053323443594,
          0.00015761366923472726,
          0.0015877313390236889,
          0.0010542330212008587,
          0.00027667504823810805,
          0.0021997130211404703,
          0.0015260548039939305,
          0.0000840812015570924,
          0.000049824881098789005,
          0.00023469444566707592,
          0.0011109064695734225,
          0.00018499877444290685,
          0.00022603547021120404,
          0.0005146850025859883,
          0.0015080569203138488
         ],
         "yaxis": "y"
        },
        {
         "name": "DCAM-5",
         "type": "scatter",
         "x": [
          0,
          1,
          2,
          3,
          4,
          5,
          6,
          7,
          8,
          9,
          10,
          11,
          12,
          13,
          14,
          15,
          16,
          17,
          18,
          19,
          20,
          21,
          22,
          23,
          24,
          25,
          26,
          27,
          28,
          29
         ],
         "xaxis": "x",
         "y": [
          0.0021570368598829762,
          0.0004461775712473909,
          0.00042217092824698685,
          0.0005094887019417892,
          0.0006724144447248355,
          0.000725003427392933,
          0.00044367305955239265,
          0.0005221795301401869,
          0.0007644762394360647,
          0.0006556878727479604,
          0.00046916662927706446,
          0.0001689780853051969,
          0.00048137693031105177,
          0.0010795639108692075,
          0.0010206035613229709,
          0.0004561369301257793,
          0.00004268984650179327,
          0.0017340231801411003,
          0.00022033964464415713,
          0.00021283066065719573,
          0.0029416647407558335,
          0.000400760629862981,
          0.00011103087069789731,
          0.0006629145500324902,
          0.0004243820949609022,
          0.0024671508632681497,
          0.0015486567735600051,
          0.0025890360966618043,
          0.00232455281240956,
          0.002982970778159124
         ],
         "yaxis": "y"
        },
        {
         "name": "DCAM-6",
         "type": "scatter",
         "x": [
          0,
          1,
          2,
          3,
          4,
          5,
          6,
          7,
          8,
          9,
          10,
          11,
          12,
          13,
          14,
          15,
          16,
          17,
          18,
          19,
          20,
          21,
          22,
          23,
          24,
          25,
          26,
          27,
          28,
          29
         ],
         "xaxis": "x",
         "y": [
          0.0013011729239955994,
          0.00014076277397404583,
          0.0003467075319458951,
          0.00014976634732378157,
          0.000044109515404557765,
          0.0008988284387495981,
          0.0006046620477070617,
          0.0003812483539452494,
          0.0001763861999764467,
          0.0001006263132834849,
          0.00022399055185757155,
          0.00022146642753808962,
          0.00030914169961894917,
          0.0005780250887496395,
          0.00005773944345558625,
          0.00031332564857208963,
          0.00006744755677653741,
          0.0020092219983802177,
          0.00022613294072750968,
          0.00004231184548209682,
          0.0013329392468195923,
          0.000348020600779972,
          0.00012021608281432097,
          0.00011708606455252192,
          0.00025428558186733836,
          0.00034426688249296924,
          0.000430201398946353,
          0.0003547956918965867,
          0.0006962012462962586,
          0.0003992526687301192
         ],
         "yaxis": "y"
        },
        {
         "name": "Stock Data-1",
         "type": "scatter",
         "x": [
          0,
          1,
          2,
          3,
          4,
          5,
          6,
          7,
          8,
          9,
          10,
          11,
          12,
          13,
          14,
          15,
          16,
          17,
          18,
          19,
          20,
          21,
          22,
          23,
          24,
          25,
          26,
          27,
          28,
          29
         ],
         "xaxis": "x2",
         "y": [
          0.6779152884129349,
          0.6713655029495871,
          0.6547059826161052,
          0.6507191000030743,
          0.669087222236767,
          0.7173571813370003,
          0.6830413113823761,
          0.670938352474534,
          0.641890816558099,
          0.6606863065356521,
          0.6736437836624067,
          0.7254734749006184,
          0.730741808938808,
          0.7360101429769976,
          0.7834258011271253,
          0.8062081737177094,
          0.7683325716251064,
          0.7465470283221838,
          0.7388578852336187,
          0.790118114928029,
          0.7868432221963553,
          0.8086287654992774,
          0.8167448417940886,
          0.8251459747640109,
          0.8645876504192689,
          0.8315534491586103,
          0.8385303850970112,
          0.8220133931010851,
          0.8477858190170391,
          0.8660116301819833
         ],
         "yaxis": "y2"
        },
        {
         "name": "Stock Data-2",
         "type": "scatter",
         "x": [
          0,
          1,
          2,
          3,
          4,
          5,
          6,
          7,
          8,
          9,
          10,
          11,
          12,
          13,
          14,
          15,
          16,
          17,
          18,
          19,
          20,
          21,
          22,
          23,
          24,
          25,
          26,
          27,
          28,
          29
         ],
         "xaxis": "x2",
         "y": [
          0.6569685142917965,
          0.6449050618965229,
          0.6439114864618307,
          0.640930976717353,
          0.6737157176682207,
          0.6900369483157782,
          0.6661937365983446,
          0.6473177523755778,
          0.6336929052801887,
          0.6546976703492986,
          0.6812376987380964,
          0.726937404422775,
          0.7320466950135962,
          0.7429747254376211,
          0.7665342440819407,
          0.811524283964639,
          0.7429747254376211,
          0.7584446603062391,
          0.7531933066192631,
          0.7729208031805677,
          0.7964803218248873,
          0.8001702808117479,
          0.8035765467254945,
          0.8338065341011525,
          0.8404770028324913,
          0.8278457311717944,
          0.8180529061594208,
          0.8413285151710286,
          0.8485665866081928,
          0.8555209649722431
         ],
         "yaxis": "y2"
        },
        {
         "name": "Stock Data-3",
         "type": "scatter",
         "x": [
          0,
          1,
          2,
          3,
          4,
          5,
          6,
          7,
          8,
          9,
          10,
          11,
          12,
          13,
          14,
          15,
          16,
          17,
          18,
          19,
          20,
          21,
          22,
          23,
          24,
          25,
          26,
          27,
          28,
          29
         ],
         "xaxis": "x2",
         "y": [
          0.6585571850527814,
          0.6651666804355545,
          0.6698074036562296,
          0.6504007819297828,
          0.6807763077850721,
          0.7139643346462055,
          0.6930108051795336,
          0.6624947293769774,
          0.651807139722741,
          0.6682604959160046,
          0.6882295320115916,
          0.7368866362749757,
          0.7395583727534805,
          0.7419490093374519,
          0.7747151717767122,
          0.7575586366869695,
          0.748980369142098,
          0.7474336759819453,
          0.7494024481440433,
          0.7939812435558922,
          0.7987625167238341,
          0.8194347317159003,
          0.8135284152296058,
          0.8382787244931349,
          0.8451695343505141,
          0.8471383065126126,
          0.8215440538252652,
          0.8367318167529099,
          0.8555758095301444,
          0.858669625010595
         ],
         "yaxis": "y2"
        },
        {
         "name": "Stock Data-4",
         "type": "scatter",
         "x": [
          0,
          1,
          2,
          3,
          4,
          5,
          6,
          7,
          8,
          9,
          10,
          11,
          12,
          13,
          14,
          15,
          16,
          17,
          18,
          19,
          20,
          21,
          22,
          23,
          24,
          25,
          26,
          27,
          28,
          29
         ],
         "xaxis": "x2",
         "y": [
          0.6656868329553527,
          0.6586869729824589,
          0.6586869729824589,
          0.6673667309908398,
          0.7004060786076498,
          0.7019460563464377,
          0.6885062312062207,
          0.6515469790940918,
          0.6554668835894106,
          0.6715666896983308,
          0.7057258269262832,
          0.7319054484856724,
          0.7312054197646285,
          0.7709645731421602,
          0.7830043408402889,
          0.7638247928725668,
          0.758644964850633,
          0.7391853626707388,
          0.7776845925216556,
          0.7831444747557619,
          0.8227634942178206,
          0.816043688457099,
          0.8250035006776524,
          0.8538428895869714,
          0.8385832461145681,
          0.8398431696411834,
          0.8251436345931253,
          0.8677026892360598,
          0.8632226763163962,
          0.8434832335431035
         ],
         "yaxis": "y2"
        },
        {
         "name": "Stock Data-5",
         "type": "scatter",
         "x": [
          0,
          1,
          2,
          3,
          4,
          5,
          6,
          7,
          8,
          9,
          10,
          11,
          12,
          13,
          14,
          15,
          16,
          17,
          18,
          19,
          20,
          21,
          22,
          23,
          24,
          25,
          26,
          27,
          28,
          29
         ],
         "xaxis": "x2",
         "y": [
          0.6673771495921623,
          0.6604128562009519,
          0.6604128562009519,
          0.6690486821623596,
          0.7019208790890725,
          0.7034532236912394,
          0.6900811759552998,
          0.6533089491904325,
          0.6572089790285873,
          0.673227300762214,
          0.7072138527357246,
          0.733260944239257,
          0.7325645787478279,
          0.7721226931296905,
          0.7841015842314931,
          0.7650189989448104,
          0.7598654260918276,
          0.7405040392178064,
          0.7788086105848406,
          0.7842409850251624,
          0.8236596986133558,
          0.8169737811582056,
          0.8258884087069522,
          0.8545819870338107,
          0.8393994315852829,
          0.8406529746001112,
          0.8260278095006219,
          0.868371598673841,
          0.863914178486648,
          0.8442746285022058
         ],
         "yaxis": "y2"
        },
        {
         "name": "Stock Data-6",
         "type": "scatter",
         "x": [
          0,
          1,
          2,
          3,
          4,
          5,
          6,
          7,
          8,
          9,
          10,
          11,
          12,
          13,
          14,
          15,
          16,
          17,
          18,
          19,
          20,
          21,
          22,
          23,
          24,
          25,
          26,
          27,
          28,
          29
         ],
         "xaxis": "x2",
         "y": [
          0.11423680075769471,
          0.04726234773078081,
          0.08667353951330808,
          0.2155703337127774,
          0.27696297206407533,
          0.19783871484819665,
          0.09855808545383976,
          0.15695070183589627,
          0.11135394807610471,
          0.20016501341344245,
          0.19021131969233301,
          0.19940097201688217,
          0.5546590658515806,
          0.30466944021559156,
          0.24807097855069732,
          0.736281225818578,
          0.27168791309293566,
          0.2480604007677843,
          0.15261869289522872,
          0.14168126536321263,
          0.1856539226080582,
          0.19097698844011063,
          0.21159390101310754,
          0.27644628805255694,
          0.567761684178322,
          0.1492354297142941,
          0.14692947303926557,
          0.1610028063671744,
          0.17592561703055598,
          0.13531832210325384
         ],
         "yaxis": "y2"
        }
       ],
       "layout": {
        "showlegend": true,
        "template": {
         "data": {
          "bar": [
           {
            "error_x": {
             "color": "#2a3f5f"
            },
            "error_y": {
             "color": "#2a3f5f"
            },
            "marker": {
             "line": {
              "color": "#E5ECF6",
              "width": 0.5
             },
             "pattern": {
              "fillmode": "overlay",
              "size": 10,
              "solidity": 0.2
             }
            },
            "type": "bar"
           }
          ],
          "barpolar": [
           {
            "marker": {
             "line": {
              "color": "#E5ECF6",
              "width": 0.5
             },
             "pattern": {
              "fillmode": "overlay",
              "size": 10,
              "solidity": 0.2
             }
            },
            "type": "barpolar"
           }
          ],
          "carpet": [
           {
            "aaxis": {
             "endlinecolor": "#2a3f5f",
             "gridcolor": "white",
             "linecolor": "white",
             "minorgridcolor": "white",
             "startlinecolor": "#2a3f5f"
            },
            "baxis": {
             "endlinecolor": "#2a3f5f",
             "gridcolor": "white",
             "linecolor": "white",
             "minorgridcolor": "white",
             "startlinecolor": "#2a3f5f"
            },
            "type": "carpet"
           }
          ],
          "choropleth": [
           {
            "colorbar": {
             "outlinewidth": 0,
             "ticks": ""
            },
            "type": "choropleth"
           }
          ],
          "contour": [
           {
            "colorbar": {
             "outlinewidth": 0,
             "ticks": ""
            },
            "colorscale": [
             [
              0,
              "#0d0887"
             ],
             [
              0.1111111111111111,
              "#46039f"
             ],
             [
              0.2222222222222222,
              "#7201a8"
             ],
             [
              0.3333333333333333,
              "#9c179e"
             ],
             [
              0.4444444444444444,
              "#bd3786"
             ],
             [
              0.5555555555555556,
              "#d8576b"
             ],
             [
              0.6666666666666666,
              "#ed7953"
             ],
             [
              0.7777777777777778,
              "#fb9f3a"
             ],
             [
              0.8888888888888888,
              "#fdca26"
             ],
             [
              1,
              "#f0f921"
             ]
            ],
            "type": "contour"
           }
          ],
          "contourcarpet": [
           {
            "colorbar": {
             "outlinewidth": 0,
             "ticks": ""
            },
            "type": "contourcarpet"
           }
          ],
          "heatmap": [
           {
            "colorbar": {
             "outlinewidth": 0,
             "ticks": ""
            },
            "colorscale": [
             [
              0,
              "#0d0887"
             ],
             [
              0.1111111111111111,
              "#46039f"
             ],
             [
              0.2222222222222222,
              "#7201a8"
             ],
             [
              0.3333333333333333,
              "#9c179e"
             ],
             [
              0.4444444444444444,
              "#bd3786"
             ],
             [
              0.5555555555555556,
              "#d8576b"
             ],
             [
              0.6666666666666666,
              "#ed7953"
             ],
             [
              0.7777777777777778,
              "#fb9f3a"
             ],
             [
              0.8888888888888888,
              "#fdca26"
             ],
             [
              1,
              "#f0f921"
             ]
            ],
            "type": "heatmap"
           }
          ],
          "heatmapgl": [
           {
            "colorbar": {
             "outlinewidth": 0,
             "ticks": ""
            },
            "colorscale": [
             [
              0,
              "#0d0887"
             ],
             [
              0.1111111111111111,
              "#46039f"
             ],
             [
              0.2222222222222222,
              "#7201a8"
             ],
             [
              0.3333333333333333,
              "#9c179e"
             ],
             [
              0.4444444444444444,
              "#bd3786"
             ],
             [
              0.5555555555555556,
              "#d8576b"
             ],
             [
              0.6666666666666666,
              "#ed7953"
             ],
             [
              0.7777777777777778,
              "#fb9f3a"
             ],
             [
              0.8888888888888888,
              "#fdca26"
             ],
             [
              1,
              "#f0f921"
             ]
            ],
            "type": "heatmapgl"
           }
          ],
          "histogram": [
           {
            "marker": {
             "pattern": {
              "fillmode": "overlay",
              "size": 10,
              "solidity": 0.2
             }
            },
            "type": "histogram"
           }
          ],
          "histogram2d": [
           {
            "colorbar": {
             "outlinewidth": 0,
             "ticks": ""
            },
            "colorscale": [
             [
              0,
              "#0d0887"
             ],
             [
              0.1111111111111111,
              "#46039f"
             ],
             [
              0.2222222222222222,
              "#7201a8"
             ],
             [
              0.3333333333333333,
              "#9c179e"
             ],
             [
              0.4444444444444444,
              "#bd3786"
             ],
             [
              0.5555555555555556,
              "#d8576b"
             ],
             [
              0.6666666666666666,
              "#ed7953"
             ],
             [
              0.7777777777777778,
              "#fb9f3a"
             ],
             [
              0.8888888888888888,
              "#fdca26"
             ],
             [
              1,
              "#f0f921"
             ]
            ],
            "type": "histogram2d"
           }
          ],
          "histogram2dcontour": [
           {
            "colorbar": {
             "outlinewidth": 0,
             "ticks": ""
            },
            "colorscale": [
             [
              0,
              "#0d0887"
             ],
             [
              0.1111111111111111,
              "#46039f"
             ],
             [
              0.2222222222222222,
              "#7201a8"
             ],
             [
              0.3333333333333333,
              "#9c179e"
             ],
             [
              0.4444444444444444,
              "#bd3786"
             ],
             [
              0.5555555555555556,
              "#d8576b"
             ],
             [
              0.6666666666666666,
              "#ed7953"
             ],
             [
              0.7777777777777778,
              "#fb9f3a"
             ],
             [
              0.8888888888888888,
              "#fdca26"
             ],
             [
              1,
              "#f0f921"
             ]
            ],
            "type": "histogram2dcontour"
           }
          ],
          "mesh3d": [
           {
            "colorbar": {
             "outlinewidth": 0,
             "ticks": ""
            },
            "type": "mesh3d"
           }
          ],
          "parcoords": [
           {
            "line": {
             "colorbar": {
              "outlinewidth": 0,
              "ticks": ""
             }
            },
            "type": "parcoords"
           }
          ],
          "pie": [
           {
            "automargin": true,
            "type": "pie"
           }
          ],
          "scatter": [
           {
            "fillpattern": {
             "fillmode": "overlay",
             "size": 10,
             "solidity": 0.2
            },
            "type": "scatter"
           }
          ],
          "scatter3d": [
           {
            "line": {
             "colorbar": {
              "outlinewidth": 0,
              "ticks": ""
             }
            },
            "marker": {
             "colorbar": {
              "outlinewidth": 0,
              "ticks": ""
             }
            },
            "type": "scatter3d"
           }
          ],
          "scattercarpet": [
           {
            "marker": {
             "colorbar": {
              "outlinewidth": 0,
              "ticks": ""
             }
            },
            "type": "scattercarpet"
           }
          ],
          "scattergeo": [
           {
            "marker": {
             "colorbar": {
              "outlinewidth": 0,
              "ticks": ""
             }
            },
            "type": "scattergeo"
           }
          ],
          "scattergl": [
           {
            "marker": {
             "colorbar": {
              "outlinewidth": 0,
              "ticks": ""
             }
            },
            "type": "scattergl"
           }
          ],
          "scattermapbox": [
           {
            "marker": {
             "colorbar": {
              "outlinewidth": 0,
              "ticks": ""
             }
            },
            "type": "scattermapbox"
           }
          ],
          "scatterpolar": [
           {
            "marker": {
             "colorbar": {
              "outlinewidth": 0,
              "ticks": ""
             }
            },
            "type": "scatterpolar"
           }
          ],
          "scatterpolargl": [
           {
            "marker": {
             "colorbar": {
              "outlinewidth": 0,
              "ticks": ""
             }
            },
            "type": "scatterpolargl"
           }
          ],
          "scatterternary": [
           {
            "marker": {
             "colorbar": {
              "outlinewidth": 0,
              "ticks": ""
             }
            },
            "type": "scatterternary"
           }
          ],
          "surface": [
           {
            "colorbar": {
             "outlinewidth": 0,
             "ticks": ""
            },
            "colorscale": [
             [
              0,
              "#0d0887"
             ],
             [
              0.1111111111111111,
              "#46039f"
             ],
             [
              0.2222222222222222,
              "#7201a8"
             ],
             [
              0.3333333333333333,
              "#9c179e"
             ],
             [
              0.4444444444444444,
              "#bd3786"
             ],
             [
              0.5555555555555556,
              "#d8576b"
             ],
             [
              0.6666666666666666,
              "#ed7953"
             ],
             [
              0.7777777777777778,
              "#fb9f3a"
             ],
             [
              0.8888888888888888,
              "#fdca26"
             ],
             [
              1,
              "#f0f921"
             ]
            ],
            "type": "surface"
           }
          ],
          "table": [
           {
            "cells": {
             "fill": {
              "color": "#EBF0F8"
             },
             "line": {
              "color": "white"
             }
            },
            "header": {
             "fill": {
              "color": "#C8D4E3"
             },
             "line": {
              "color": "white"
             }
            },
            "type": "table"
           }
          ]
         },
         "layout": {
          "annotationdefaults": {
           "arrowcolor": "#2a3f5f",
           "arrowhead": 0,
           "arrowwidth": 1
          },
          "autotypenumbers": "strict",
          "coloraxis": {
           "colorbar": {
            "outlinewidth": 0,
            "ticks": ""
           }
          },
          "colorscale": {
           "diverging": [
            [
             0,
             "#8e0152"
            ],
            [
             0.1,
             "#c51b7d"
            ],
            [
             0.2,
             "#de77ae"
            ],
            [
             0.3,
             "#f1b6da"
            ],
            [
             0.4,
             "#fde0ef"
            ],
            [
             0.5,
             "#f7f7f7"
            ],
            [
             0.6,
             "#e6f5d0"
            ],
            [
             0.7,
             "#b8e186"
            ],
            [
             0.8,
             "#7fbc41"
            ],
            [
             0.9,
             "#4d9221"
            ],
            [
             1,
             "#276419"
            ]
           ],
           "sequential": [
            [
             0,
             "#0d0887"
            ],
            [
             0.1111111111111111,
             "#46039f"
            ],
            [
             0.2222222222222222,
             "#7201a8"
            ],
            [
             0.3333333333333333,
             "#9c179e"
            ],
            [
             0.4444444444444444,
             "#bd3786"
            ],
            [
             0.5555555555555556,
             "#d8576b"
            ],
            [
             0.6666666666666666,
             "#ed7953"
            ],
            [
             0.7777777777777778,
             "#fb9f3a"
            ],
            [
             0.8888888888888888,
             "#fdca26"
            ],
            [
             1,
             "#f0f921"
            ]
           ],
           "sequentialminus": [
            [
             0,
             "#0d0887"
            ],
            [
             0.1111111111111111,
             "#46039f"
            ],
            [
             0.2222222222222222,
             "#7201a8"
            ],
            [
             0.3333333333333333,
             "#9c179e"
            ],
            [
             0.4444444444444444,
             "#bd3786"
            ],
            [
             0.5555555555555556,
             "#d8576b"
            ],
            [
             0.6666666666666666,
             "#ed7953"
            ],
            [
             0.7777777777777778,
             "#fb9f3a"
            ],
            [
             0.8888888888888888,
             "#fdca26"
            ],
            [
             1,
             "#f0f921"
            ]
           ]
          },
          "colorway": [
           "#636efa",
           "#EF553B",
           "#00cc96",
           "#ab63fa",
           "#FFA15A",
           "#19d3f3",
           "#FF6692",
           "#B6E880",
           "#FF97FF",
           "#FECB52"
          ],
          "font": {
           "color": "#2a3f5f"
          },
          "geo": {
           "bgcolor": "white",
           "lakecolor": "white",
           "landcolor": "#E5ECF6",
           "showlakes": true,
           "showland": true,
           "subunitcolor": "white"
          },
          "hoverlabel": {
           "align": "left"
          },
          "hovermode": "closest",
          "mapbox": {
           "style": "light"
          },
          "paper_bgcolor": "white",
          "plot_bgcolor": "#E5ECF6",
          "polar": {
           "angularaxis": {
            "gridcolor": "white",
            "linecolor": "white",
            "ticks": ""
           },
           "bgcolor": "#E5ECF6",
           "radialaxis": {
            "gridcolor": "white",
            "linecolor": "white",
            "ticks": ""
           }
          },
          "scene": {
           "xaxis": {
            "backgroundcolor": "#E5ECF6",
            "gridcolor": "white",
            "gridwidth": 2,
            "linecolor": "white",
            "showbackground": true,
            "ticks": "",
            "zerolinecolor": "white"
           },
           "yaxis": {
            "backgroundcolor": "#E5ECF6",
            "gridcolor": "white",
            "gridwidth": 2,
            "linecolor": "white",
            "showbackground": true,
            "ticks": "",
            "zerolinecolor": "white"
           },
           "zaxis": {
            "backgroundcolor": "#E5ECF6",
            "gridcolor": "white",
            "gridwidth": 2,
            "linecolor": "white",
            "showbackground": true,
            "ticks": "",
            "zerolinecolor": "white"
           }
          },
          "shapedefaults": {
           "line": {
            "color": "#2a3f5f"
           }
          },
          "ternary": {
           "aaxis": {
            "gridcolor": "white",
            "linecolor": "white",
            "ticks": ""
           },
           "baxis": {
            "gridcolor": "white",
            "linecolor": "white",
            "ticks": ""
           },
           "bgcolor": "#E5ECF6",
           "caxis": {
            "gridcolor": "white",
            "linecolor": "white",
            "ticks": ""
           }
          },
          "title": {
           "x": 0.05
          },
          "xaxis": {
           "automargin": true,
           "gridcolor": "white",
           "linecolor": "white",
           "ticks": "",
           "title": {
            "standoff": 15
           },
           "zerolinecolor": "white",
           "zerolinewidth": 2
          },
          "yaxis": {
           "automargin": true,
           "gridcolor": "white",
           "linecolor": "white",
           "ticks": "",
           "title": {
            "standoff": 15
           },
           "zerolinecolor": "white",
           "zerolinewidth": 2
          }
         }
        },
        "title": {
         "text": "Matched DCAM and Stock Data Visualization"
        },
        "xaxis": {
         "anchor": "y",
         "domain": [
          0,
          0.45
         ],
         "title": {
          "text": "Time"
         }
        },
        "xaxis2": {
         "anchor": "y2",
         "domain": [
          0.55,
          1
         ],
         "title": {
          "text": "Time"
         }
        },
        "yaxis": {
         "anchor": "x",
         "domain": [
          0,
          1
         ],
         "title": {
          "text": "DCAM Value"
         }
        },
        "yaxis2": {
         "anchor": "x2",
         "domain": [
          0,
          1
         ],
         "title": {
          "text": "Stock Data Value"
         }
        }
       }
      }
     },
     "metadata": {},
     "output_type": "display_data"
    }
   ],
   "source": [
    "import plotly.graph_objects as go\n",
    "from plotly.subplots import make_subplots\n",
    "import numpy as np\n",
    "from DCAM import DCAM\n",
    "import random\n",
    "for _ in range(3):\n",
    "    index = random.randint(0, 122)\n",
    "    instance = stock_data.values[index:index + 30, :].reshape(6, 30)\n",
    "\n",
    "    DCAM_m = DCAM(model, 'cpu',last_conv_layer=last_conv_layer,fc_layer_name=fc_layer_name)\n",
    "    dcam_agg ,permutation_success = DCAM_m.run(\n",
    "            instance=instance,\n",
    "            nb_permutation=200,\n",
    "            label_instance=1)\n",
    "    # Assuming you have the dcam and stock_data arrays\n",
    "    dcam = dcam_agg.reshape(30, 6)\n",
    "    stock_datas = stock_data.values[index + 5: index + 35, :]\n",
    "\n",
    "    # Create subplots with 1 row and 2 columns\n",
    "    fig = make_subplots(rows=1, cols=2)\n",
    "\n",
    "    # Add the dcam array graph to the first subplot\n",
    "    for i in range(dcam.shape[1]):\n",
    "        fig.add_trace(go.Scatter(x=np.arange(dcam.shape[0]), y=dcam[:, i], name=f'DCAM-{i+1}'), row=1, col=1)\n",
    "\n",
    "    # Add the stock_data array graph to the second subplot\n",
    "    for i in range(stock_data.shape[1]):\n",
    "        fig.add_trace(go.Scatter(x=np.arange(stock_datas.shape[0]), y=stock_datas[:, i], name=f'Stock Data-{i+1}'), row=1, col=2)\n",
    "\n",
    "    # Update x-axis labels\n",
    "    fig.update_xaxes(title_text=\"Time\", row=1, col=1)\n",
    "    fig.update_xaxes(title_text=\"Time\", row=1, col=2)\n",
    "\n",
    "    # Update y-axis labels\n",
    "    fig.update_yaxes(title_text=\"DCAM Value\", row=1, col=1)\n",
    "    fig.update_yaxes(title_text=\"Stock Data Value\", row=1, col=2)\n",
    "\n",
    "    # Update layout\n",
    "    fig.update_layout(title=\"Matched DCAM and Stock Data Visualization\", showlegend=True)\n",
    "\n",
    "    # Show the plot\n",
    "    fig.show()"
   ]
  },
  {
   "cell_type": "code",
   "execution_count": null,
   "metadata": {},
   "outputs": [],
   "source": []
  }
 ],
 "metadata": {
  "kernelspec": {
   "display_name": "base",
   "language": "python",
   "name": "python3"
  },
  "language_info": {
   "codemirror_mode": {
    "name": "ipython",
    "version": 3
   },
   "file_extension": ".py",
   "mimetype": "text/x-python",
   "name": "python",
   "nbconvert_exporter": "python",
   "pygments_lexer": "ipython3",
   "version": "3.9.13"
  },
  "orig_nbformat": 4
 },
 "nbformat": 4,
 "nbformat_minor": 2
}
